{
 "cells": [
  {
   "cell_type": "markdown",
   "metadata": {},
   "source": [
    "# British Airways Reviews Analysis\n",
    "\n",
    "Notebook 3: Topic Modeling with BERTopic\n"
   ]
  },
  {
   "cell_type": "code",
   "execution_count": 1,
   "metadata": {},
   "outputs": [],
   "source": [
    "import os\n",
    "import warnings\n",
    "import openai\n",
    "import tiktoken\n",
    "import pandas as pd\n",
    "import plotly.graph_objects as go\n",
    "from plotly.subplots import make_subplots\n",
    "from bertopic import BERTopic\n",
    "from bertopic.representation import KeyBERTInspired, MaximalMarginalRelevance, OpenAI\n",
    "from bertopic.vectorizers import ClassTfidfTransformer\n",
    "from sentence_transformers import SentenceTransformer\n",
    "from sklearn.feature_extraction.text import CountVectorizer\n",
    "from nltk.corpus import stopwords\n",
    "from hdbscan import HDBSCAN\n",
    "from umap import UMAP\n",
    "from matplotlib import cm\n",
    "from IPython.display import display, Markdown\n",
    "\n",
    "warnings.filterwarnings(\"ignore\", category=FutureWarning)\n",
    "warnings.filterwarnings(\"ignore\", category=UserWarning)\n",
    "\n",
    "os.environ[\"TOKENIZERS_PARALLELISM\"] = \"true\"\n",
    "\n",
    "openai_api_key = os.getenv(\"OPENAI_API_KEY\")"
   ]
  },
  {
   "cell_type": "code",
   "execution_count": 2,
   "metadata": {},
   "outputs": [
    {
     "name": "stdout",
     "output_type": "stream",
     "text": [
      "Total reviews:  2304\n"
     ]
    }
   ],
   "source": [
    "data = pd.read_csv(\"../data/airline_reviews_clean.csv\")\n",
    "\n",
    "df = data[[\"rating\", \"review_text\", \"title\", \"review_locations\"]]\n",
    "\n",
    "docs = df[\"review_text\"].apply(str.lower).tolist()\n",
    "\n",
    "print(\"Total reviews: \", len(docs))"
   ]
  },
  {
   "cell_type": "markdown",
   "metadata": {},
   "source": [
    "BERTopic is a topic modeling framework using transformers. It uses a sequence of sub-models to create topic representations:\n",
    "\n",
    "- Embedding Model: `SentenceTransformers` converts text documents into numerical representations.\n",
    "- Dimensionality Reduction Model: `UMAP` reduces embedding dimensions to prepare for clustering.\n",
    "- Clustering Model: `HDBSCAN` groups similar documents into clusters.\n",
    "- Vectorization Model: `CountVectorizer` transforms documents into word frequency representations.\n",
    "- Representation Model: `ClassTfidfTransformer` identifies and ranks defining words for each topic.\n",
    "\n",
    "To improve the results, we'll also add these additional representation models:\n",
    "\n",
    "- `KeyBERTInspired`: Extracts keywords and refines topics based on `ClassTfidfTransformer` outputs.\n",
    "- `MaximalMarginalRelevance`: maximizes diversity of words within each topic, reducing redundancy.\n",
    "- `OpenAI`: GPT-4o-mini provides custom topic labels.\n"
   ]
  },
  {
   "cell_type": "code",
   "execution_count": 3,
   "metadata": {},
   "outputs": [
    {
     "data": {
      "application/vnd.jupyter.widget-view+json": {
       "model_id": "4986b849374243298a697cb6e60536bc",
       "version_major": 2,
       "version_minor": 0
      },
      "text/plain": [
       "Batches:   0%|          | 0/72 [00:00<?, ?it/s]"
      ]
     },
     "metadata": {},
     "output_type": "display_data"
    }
   ],
   "source": [
    "# Sub-models for BERTopic\n",
    "embedding_model = SentenceTransformer(\"all-MiniLM-L6-v2\", device=\"mps\")\n",
    "\n",
    "embeddings = embedding_model.encode(docs, show_progress_bar=True)\n",
    "\n",
    "hdbscan_model = HDBSCAN(min_cluster_size=10, metric=\"euclidean\", cluster_selection_method=\"eom\", prediction_data=True)\n",
    "\n",
    "umap_model = UMAP(n_neighbors=15, n_components=2, min_dist=0.0, metric=\"cosine\", random_state=0)\n",
    "\n",
    "ctfidf_model = ClassTfidfTransformer(reduce_frequent_words=True, bm25_weighting=True)\n",
    "\n",
    "\n",
    "def get_representation_model():\n",
    "    \"\"\"\n",
    "    Initializes the BERTopic representation models:\n",
    "    - KeyBERTInspired: Keyword extraction like KeyBERT algorithm.\n",
    "    - MaximalMarginalRelevance: Uses MMR for diversity in keyword selection.\n",
    "    - OpenAI: Generates topic labels with GPT-4o-mini.\n",
    "\n",
    "    Returns:\n",
    "        dict: A dictionary with the key \"openai\" and associated models.\n",
    "    \"\"\"\n",
    "    prompt = \"\"\"\n",
    "    Your task is to create a descriptive label for a collection of British Airways customer reviews based on the review content and keywords provided below.\n",
    "\n",
    "    Label requirements:\n",
    "    1. Reflect the topic of the reviews in 5 words or less.\n",
    "    2. Be specific to the topic and not generic.\n",
    "    3. Assist the airline in evaluating their performance and identifying areas of improvement.\n",
    "\n",
    "    Examples:\n",
    "    * Bad Labels (too generic): Customer Experience with British Airways, Customer Experience on Flights, Vancouver to London Flight Experience.\n",
    "    * Good Labels: Fast Check-in and Friendly Staff, Flight Delays and Meal Issues, Baggage Handling Issues.\n",
    "\n",
    "    Respond in this format:\n",
    "    topic: <label>\n",
    "\n",
    "    Keywords:\n",
    "    [KEYWORDS]\n",
    "\n",
    "    Reviews:\n",
    "    [DOCUMENTS]\n",
    "    \"\"\"\n",
    "\n",
    "    tokenizer = tiktoken.encoding_for_model(\"gpt-4o-mini\")\n",
    "\n",
    "    client = openai.OpenAI(api_key=openai_api_key)\n",
    "    openai_model = OpenAI(\n",
    "        client,\n",
    "        model=\"gpt-4o-mini\",\n",
    "        delay_in_seconds=2,\n",
    "        chat=True,\n",
    "        nr_docs=4,\n",
    "        doc_length=1024,\n",
    "        tokenizer=tokenizer,\n",
    "        prompt=prompt,\n",
    "    )\n",
    "\n",
    "    keybert = KeyBERTInspired()\n",
    "    mmr = MaximalMarginalRelevance(diversity=0.3)\n",
    "\n",
    "    return {\n",
    "        # \"main\": [keybert, mmr],\n",
    "        \"openai\": [keybert, mmr, openai_model],\n",
    "    }\n",
    "\n",
    "\n",
    "# find single words and bigrams\n",
    "n_gram_range = (1, 2)\n",
    "\n",
    "\n",
    "def get_vectorizer_model():\n",
    "    \"\"\"\n",
    "    Initializes the CountVectorizer model for BERTopic with custom stopwords.\n",
    "\n",
    "    Returns:\n",
    "        CountVectorizer: Configured vectorizer model.\n",
    "    \"\"\"\n",
    "    stop_words = stopwords.words(\"english\")\n",
    "    stop_words.extend([\"airline\", \"flight\", \"ba\", \"british\", \"airways\"])\n",
    "    stop_words.extend([str(loc).lower() for loc in df[\"review_locations\"].apply(list).explode().unique().tolist()])\n",
    "\n",
    "    return CountVectorizer(stop_words=stop_words, ngram_range=n_gram_range)\n",
    "\n",
    "\n",
    "def get_topic_model():\n",
    "    \"\"\"\n",
    "    Initializes the main BERTopic model with the configured sub-models.\n",
    "\n",
    "    Returns:\n",
    "        BERTopic: Configured BERTopic model.\n",
    "    \"\"\"\n",
    "    return BERTopic(\n",
    "        vectorizer_model=get_vectorizer_model(),\n",
    "        representation_model=get_representation_model(),\n",
    "        ctfidf_model=ctfidf_model,\n",
    "        embedding_model=embedding_model,\n",
    "        umap_model=umap_model,\n",
    "        hdbscan_model=hdbscan_model,\n",
    "        min_topic_size=10,\n",
    "        nr_topics=\"auto\",\n",
    "        n_gram_range=n_gram_range,\n",
    "    )"
   ]
  },
  {
   "cell_type": "code",
   "execution_count": 4,
   "metadata": {},
   "outputs": [],
   "source": [
    "def train_topic_model():\n",
    "    \"\"\"\n",
    "    Trains the BERTopic model on the customer reviews.\n",
    "\n",
    "    Returns:\n",
    "        BERTopic: The trained BERTopic model.\n",
    "    \"\"\"\n",
    "    topic_model = get_topic_model()\n",
    "\n",
    "    print(\"Training model...\")\n",
    "    topics, probs = topic_model.fit_transform(docs, embeddings)\n",
    "\n",
    "    df[\"topic\"] = topics\n",
    "    df[\"topic_prob\"] = probs\n",
    "\n",
    "    return topic_model"
   ]
  },
  {
   "cell_type": "code",
   "execution_count": 5,
   "metadata": {},
   "outputs": [
    {
     "name": "stdout",
     "output_type": "stream",
     "text": [
      "Training model...\n"
     ]
    },
    {
     "name": "stderr",
     "output_type": "stream",
     "text": [
      "OMP: Info #276: omp_set_nested routine deprecated, please use omp_set_max_active_levels instead.\n"
     ]
    }
   ],
   "source": [
    "topic_model = train_topic_model()"
   ]
  },
  {
   "cell_type": "code",
   "execution_count": 6,
   "metadata": {},
   "outputs": [],
   "source": [
    "# make topic labels from OpenAI representation\n",
    "labels = topic_model.generate_topic_labels(aspect=\"openai\", topic_prefix=False)\n",
    "topic_model.set_topic_labels(labels)\n",
    "\n",
    "# merge topic info with main dataframe\n",
    "topic_label_df = pd.DataFrame({\n",
    "    \"topic\": topic_model.topic_labels_.keys(),\n",
    "    \"topic_label\": labels,\n",
    "})\n",
    "df = df.merge(topic_label_df, left_on=\"topic\", right_on=\"topic\", how=\"left\")"
   ]
  },
  {
   "cell_type": "markdown",
   "metadata": {},
   "source": [
    "### Visualizations\n"
   ]
  },
  {
   "cell_type": "markdown",
   "metadata": {},
   "source": [
    "#### Topic Datamap\n",
    "\n",
    "This plot visualizes the relationships between topics. Each cluster represents a group of similar reviews, with the density of points indicating the concentration of documents within that topic. The labeled areas highlight the dominant topics within each cluster, and the proximity between clusters suggests semantic similarity between those topics.\n"
   ]
  },
  {
   "cell_type": "code",
   "execution_count": 7,
   "metadata": {},
   "outputs": [
    {
     "data": {
      "image/png": "[encoded data removed]",
      "text/plain": [
       "<Figure size 1000x900 with 1 Axes>"
      ]
     },
     "metadata": {},
     "output_type": "display_data"
    }
   ],
   "source": [
    "datamap = topic_model.visualize_document_datamap(\n",
    "    docs,\n",
    "    embeddings=embeddings,\n",
    "    height=900,\n",
    "    width=1000,\n",
    "    title=\"Topic Datamap\",\n",
    "    custom_labels=True,\n",
    "    dynamic_label_size=True,\n",
    "    topics=range(0, 10),\n",
    "    max_font_size=48,\n",
    "    min_font_size=12,\n",
    "    min_font_weight=300,\n",
    "    max_font_weight=500,\n",
    "    font_family=\"Roboto Condensed\",\n",
    "    cmap=cm.turbo,\n",
    "    darkmode=False,\n",
    ")"
   ]
  },
  {
   "cell_type": "markdown",
   "metadata": {},
   "source": [
    "#### Topics per class bar chart\n",
    "\n",
    "This plot shows the frequency distribution of the top topics across positive, neutral, and negative rating classes. Each bar represents the frequency of that topic within its class. Double click labels in the legend to toggle the visibility of the other topics.\n"
   ]
  },
  {
   "cell_type": "code",
   "execution_count": 8,
   "metadata": {},
   "outputs": [
    {
     "data": {
      "application/vnd.plotly.v1+json": {
       "config": {
        "plotlyServerURL": "https://plot.ly"
       },
       "data": [
        {
         "hoverinfo": "text",
         "hovertext": [
          "<b>Topic 0</b><br>Words: first, food, cabin, crew, drink",
          "<b>Topic 0</b><br>Words: good, comfortable, crew, club, excellent",
          "<b>Topic 0</b><br>Words: first, first class, good, class, lounge"
         ],
         "marker": {
          "color": "#E69F00"
         },
         "name": "Cabin Cleanliness and Service Standards",
         "orientation": "h",
         "type": "bar",
         "visible": true,
         "x": [
          84,
          44,
          44
         ],
         "y": [
          "negative",
          "positive",
          "neutral"
         ]
        },
        {
         "hoverinfo": "text",
         "hovertext": [
          "<b>Topic 1</b><br>Words: gatwick, passengers, lounge, london gatwick, seats",
          "<b>Topic 1</b><br>Words: gatwick, london gatwick, pleasant, good, lounge",
          "<b>Topic 1</b><br>Words: gatwick, lounge, surrey, gatwick surrey, priority"
         ],
         "marker": {
          "color": "#56B4E9"
         },
         "name": "Gatwick Lounge and Boarding Issues",
         "orientation": "h",
         "type": "bar",
         "visible": "legendonly",
         "x": [
          79,
          37,
          45
         ],
         "y": [
          "negative",
          "positive",
          "neutral"
         ]
        },
        {
         "hoverinfo": "text",
         "hovertext": [
          "<b>Topic 2</b><br>Words: bangkok, istanbul, entertainment, uncomfortable, dubai",
          "<b>Topic 2</b><br>Words: good, great, doha, friendly, entertainment",
          "<b>Topic 2</b><br>Words: entertainment, comfortable, nothing stood, london heathrow, better value"
         ],
         "marker": {
          "color": "#009E73"
         },
         "name": "Poor Service and Outdated Aircraft",
         "orientation": "h",
         "type": "bar",
         "visible": "legendonly",
         "x": [
          45,
          59,
          21
         ],
         "y": [
          "negative",
          "positive",
          "neutral"
         ]
        },
        {
         "hoverinfo": "text",
         "hovertext": [
          "<b>Topic 3</b><br>Words: paid, customer, seats, seat, told",
          "<b>Topic 3</b><br>Words: full refund, simple unfortunately, said far, 200 aircraft, got full",
          "<b>Topic 3</b><br>Words: bronze, heathrow barcelona, guest, barcelona, wife"
         ],
         "marker": {
          "color": "#F0E442"
         },
         "name": "Booking, Refunds, and Customer Service Issues",
         "orientation": "h",
         "type": "bar",
         "visible": "legendonly",
         "x": [
          113,
          2,
          4
         ],
         "y": [
          "negative",
          "positive",
          "neutral"
         ]
        },
        {
         "hoverinfo": "text",
         "hovertext": [
          "<b>Topic 4</b><br>Words: refund, cancelled, voucher, cancel, phone",
          "<b>Topic 4</b><br>Words: link, immediately provided, contacted email, weather contacted, alternative booking",
          "<b>Topic 4</b><br>Words: destination, dime could, fly seattle, reimbursement guarantees, operational requirements"
         ],
         "marker": {
          "color": "#D55E00"
         },
         "name": "Refund Challenges and Customer Frustrations",
         "orientation": "h",
         "type": "bar",
         "visible": "legendonly",
         "x": [
          82,
          1,
          1
         ],
         "y": [
          "negative",
          "positive",
          "neutral"
         ]
        },
        {
         "hoverinfo": "text",
         "hovertext": [
          "<b>Topic 5</b><br>Words: chicken, meal, served, curry, food",
          "<b>Topic 5</b><br>Words: much care, bacon sandwich, bacon, attendants due, anymore things",
          "<b>Topic 5</b><br>Words: served, breakfast, gf, chicken, choice"
         ],
         "marker": {
          "color": "#0072B2"
         },
         "name": "Poor Meal Quality and Service",
         "orientation": "h",
         "type": "bar",
         "visible": "legendonly",
         "x": [
          48,
          3,
          12
         ],
         "y": [
          "negative",
          "positive",
          "neutral"
         ]
        },
        {
         "hoverinfo": "text",
         "hovertext": [
          "<b>Topic 6</b><br>Words: hand, bags, luggage, hand luggage, staff",
          "<b>Topic 6</b><br>Words: lanyard, great help, help, professionalism, thank",
          "<b>Topic 6</b><br>Words: laptop bag, bag, bag placed, oversized bag, allowed woman"
         ],
         "marker": {
          "color": "#CC79A7"
         },
         "name": "Boarding Delays and Customer Service",
         "orientation": "h",
         "type": "bar",
         "visible": "legendonly",
         "x": [
          49,
          6,
          4
         ],
         "y": [
          "negative",
          "positive",
          "neutral"
         ]
        },
        {
         "hoverinfo": "text",
         "hovertext": [
          "<b>Topic 7</b><br>Words: luggage, bag, dublin, suitcase, bags",
          "<b>Topic 7</b><br>Words: suitcase, suitcase delivered, one suitcase, kindness, madrid",
          "<b>Topic 7</b><br>Words: durban, back pack, ladies checked, ladies, tracking"
         ],
         "marker": {
          "color": "#E69F00"
         },
         "name": "Lost Luggage and Poor Service",
         "orientation": "h",
         "type": "bar",
         "visible": "legendonly",
         "x": [
          47,
          3,
          3
         ],
         "y": [
          "negative",
          "positive",
          "neutral"
         ]
        },
        {
         "hoverinfo": "text",
         "hovertext": [
          "<b>Topic 8</b><br>Words: business class, class, business, seats, economy class",
          "<b>Topic 8</b><br>Words: haul business, better proper, competitors overall, professional way, scathing review",
          "<b>Topic 8</b><br>Words: class, business class, business, profit, appreciation"
         ],
         "marker": {
          "color": "#56B4E9"
         },
         "name": "Business Class Service and Seating Issues",
         "orientation": "h",
         "type": "bar",
         "visible": "legendonly",
         "x": [
          36,
          1,
          8
         ],
         "y": [
          "negative",
          "positive",
          "neutral"
         ]
        },
        {
         "hoverinfo": "text",
         "hovertext": [
          "<b>Topic 9</b><br>Words: prague, delayed, pm, athens, 30 pm",
          "<b>Topic 9</b><br>Words: accra, phoenix, inconvenience passengers, handled check, florencia helped",
          "<b>Topic 9</b><br>Words: put us, phoenix, partly website, bag apart, heathrow minutes"
         ],
         "marker": {
          "color": "#009E73"
         },
         "name": "Significant Flight Delays and Issues",
         "orientation": "h",
         "type": "bar",
         "visible": "legendonly",
         "x": [
          30,
          3,
          3
         ],
         "y": [
          "negative",
          "positive",
          "neutral"
         ]
        }
       ],
       "layout": {
        "height": 600,
        "hoverlabel": {
         "bgcolor": "white",
         "font": {
          "family": "Rockwell",
          "size": 16
         }
        },
        "legend": {
         "title": {
          "text": "<b>Global Topic Representation"
         }
        },
        "template": {
         "data": {
          "bar": [
           {
            "error_x": {
             "color": "rgb(36,36,36)"
            },
            "error_y": {
             "color": "rgb(36,36,36)"
            },
            "marker": {
             "line": {
              "color": "white",
              "width": 0.5
             },
             "pattern": {
              "fillmode": "overlay",
              "size": 10,
              "solidity": 0.2
             }
            },
            "type": "bar"
           }
          ],
          "barpolar": [
           {
            "marker": {
             "line": {
              "color": "white",
              "width": 0.5
             },
             "pattern": {
              "fillmode": "overlay",
              "size": 10,
              "solidity": 0.2
             }
            },
            "type": "barpolar"
           }
          ],
          "carpet": [
           {
            "aaxis": {
             "endlinecolor": "rgb(36,36,36)",
             "gridcolor": "white",
             "linecolor": "white",
             "minorgridcolor": "white",
             "startlinecolor": "rgb(36,36,36)"
            },
            "baxis": {
             "endlinecolor": "rgb(36,36,36)",
             "gridcolor": "white",
             "linecolor": "white",
             "minorgridcolor": "white",
             "startlinecolor": "rgb(36,36,36)"
            },
            "type": "carpet"
           }
          ],
          "choropleth": [
           {
            "colorbar": {
             "outlinewidth": 1,
             "tickcolor": "rgb(36,36,36)",
             "ticks": "outside"
            },
            "type": "choropleth"
           }
          ],
          "contour": [
           {
            "colorbar": {
             "outlinewidth": 1,
             "tickcolor": "rgb(36,36,36)",
             "ticks": "outside"
            },
            "colorscale": [
             [
              0,
              "#440154"
             ],
             [
              0.1111111111111111,
              "#482878"
             ],
             [
              0.2222222222222222,
              "#3e4989"
             ],
             [
              0.3333333333333333,
              "#31688e"
             ],
             [
              0.4444444444444444,
              "#26828e"
             ],
             [
              0.5555555555555556,
              "#1f9e89"
             ],
             [
              0.6666666666666666,
              "#35b779"
             ],
             [
              0.7777777777777778,
              "#6ece58"
             ],
             [
              0.8888888888888888,
              "#b5de2b"
             ],
             [
              1,
              "#fde725"
             ]
            ],
            "type": "contour"
           }
          ],
          "contourcarpet": [
           {
            "colorbar": {
             "outlinewidth": 1,
             "tickcolor": "rgb(36,36,36)",
             "ticks": "outside"
            },
            "type": "contourcarpet"
           }
          ],
          "heatmap": [
           {
            "colorbar": {
             "outlinewidth": 1,
             "tickcolor": "rgb(36,36,36)",
             "ticks": "outside"
            },
            "colorscale": [
             [
              0,
              "#440154"
             ],
             [
              0.1111111111111111,
              "#482878"
             ],
             [
              0.2222222222222222,
              "#3e4989"
             ],
             [
              0.3333333333333333,
              "#31688e"
             ],
             [
              0.4444444444444444,
              "#26828e"
             ],
             [
              0.5555555555555556,
              "#1f9e89"
             ],
             [
              0.6666666666666666,
              "#35b779"
             ],
             [
              0.7777777777777778,
              "#6ece58"
             ],
             [
              0.8888888888888888,
              "#b5de2b"
             ],
             [
              1,
              "#fde725"
             ]
            ],
            "type": "heatmap"
           }
          ],
          "heatmapgl": [
           {
            "colorbar": {
             "outlinewidth": 1,
             "tickcolor": "rgb(36,36,36)",
             "ticks": "outside"
            },
            "colorscale": [
             [
              0,
              "#440154"
             ],
             [
              0.1111111111111111,
              "#482878"
             ],
             [
              0.2222222222222222,
              "#3e4989"
             ],
             [
              0.3333333333333333,
              "#31688e"
             ],
             [
              0.4444444444444444,
              "#26828e"
             ],
             [
              0.5555555555555556,
              "#1f9e89"
             ],
             [
              0.6666666666666666,
              "#35b779"
             ],
             [
              0.7777777777777778,
              "#6ece58"
             ],
             [
              0.8888888888888888,
              "#b5de2b"
             ],
             [
              1,
              "#fde725"
             ]
            ],
            "type": "heatmapgl"
           }
          ],
          "histogram": [
           {
            "marker": {
             "line": {
              "color": "white",
              "width": 0.6
             }
            },
            "type": "histogram"
           }
          ],
          "histogram2d": [
           {
            "colorbar": {
             "outlinewidth": 1,
             "tickcolor": "rgb(36,36,36)",
             "ticks": "outside"
            },
            "colorscale": [
             [
              0,
              "#440154"
             ],
             [
              0.1111111111111111,
              "#482878"
             ],
             [
              0.2222222222222222,
              "#3e4989"
             ],
             [
              0.3333333333333333,
              "#31688e"
             ],
             [
              0.4444444444444444,
              "#26828e"
             ],
             [
              0.5555555555555556,
              "#1f9e89"
             ],
             [
              0.6666666666666666,
              "#35b779"
             ],
             [
              0.7777777777777778,
              "#6ece58"
             ],
             [
              0.8888888888888888,
              "#b5de2b"
             ],
             [
              1,
              "#fde725"
             ]
            ],
            "type": "histogram2d"
           }
          ],
          "histogram2dcontour": [
           {
            "colorbar": {
             "outlinewidth": 1,
             "tickcolor": "rgb(36,36,36)",
             "ticks": "outside"
            },
            "colorscale": [
             [
              0,
              "#440154"
             ],
             [
              0.1111111111111111,
              "#482878"
             ],
             [
              0.2222222222222222,
              "#3e4989"
             ],
             [
              0.3333333333333333,
              "#31688e"
             ],
             [
              0.4444444444444444,
              "#26828e"
             ],
             [
              0.5555555555555556,
              "#1f9e89"
             ],
             [
              0.6666666666666666,
              "#35b779"
             ],
             [
              0.7777777777777778,
              "#6ece58"
             ],
             [
              0.8888888888888888,
              "#b5de2b"
             ],
             [
              1,
              "#fde725"
             ]
            ],
            "type": "histogram2dcontour"
           }
          ],
          "mesh3d": [
           {
            "colorbar": {
             "outlinewidth": 1,
             "tickcolor": "rgb(36,36,36)",
             "ticks": "outside"
            },
            "type": "mesh3d"
           }
          ],
          "parcoords": [
           {
            "line": {
             "colorbar": {
              "outlinewidth": 1,
              "tickcolor": "rgb(36,36,36)",
              "ticks": "outside"
             }
            },
            "type": "parcoords"
           }
          ],
          "pie": [
           {
            "automargin": true,
            "type": "pie"
           }
          ],
          "scatter": [
           {
            "fillpattern": {
             "fillmode": "overlay",
             "size": 10,
             "solidity": 0.2
            },
            "type": "scatter"
           }
          ],
          "scatter3d": [
           {
            "line": {
             "colorbar": {
              "outlinewidth": 1,
              "tickcolor": "rgb(36,36,36)",
              "ticks": "outside"
             }
            },
            "marker": {
             "colorbar": {
              "outlinewidth": 1,
              "tickcolor": "rgb(36,36,36)",
              "ticks": "outside"
             }
            },
            "type": "scatter3d"
           }
          ],
          "scattercarpet": [
           {
            "marker": {
             "colorbar": {
              "outlinewidth": 1,
              "tickcolor": "rgb(36,36,36)",
              "ticks": "outside"
             }
            },
            "type": "scattercarpet"
           }
          ],
          "scattergeo": [
           {
            "marker": {
             "colorbar": {
              "outlinewidth": 1,
              "tickcolor": "rgb(36,36,36)",
              "ticks": "outside"
             }
            },
            "type": "scattergeo"
           }
          ],
          "scattergl": [
           {
            "marker": {
             "colorbar": {
              "outlinewidth": 1,
              "tickcolor": "rgb(36,36,36)",
              "ticks": "outside"
             }
            },
            "type": "scattergl"
           }
          ],
          "scattermapbox": [
           {
            "marker": {
             "colorbar": {
              "outlinewidth": 1,
              "tickcolor": "rgb(36,36,36)",
              "ticks": "outside"
             }
            },
            "type": "scattermapbox"
           }
          ],
          "scatterpolar": [
           {
            "marker": {
             "colorbar": {
              "outlinewidth": 1,
              "tickcolor": "rgb(36,36,36)",
              "ticks": "outside"
             }
            },
            "type": "scatterpolar"
           }
          ],
          "scatterpolargl": [
           {
            "marker": {
             "colorbar": {
              "outlinewidth": 1,
              "tickcolor": "rgb(36,36,36)",
              "ticks": "outside"
             }
            },
            "type": "scatterpolargl"
           }
          ],
          "scatterternary": [
           {
            "marker": {
             "colorbar": {
              "outlinewidth": 1,
              "tickcolor": "rgb(36,36,36)",
              "ticks": "outside"
             }
            },
            "type": "scatterternary"
           }
          ],
          "surface": [
           {
            "colorbar": {
             "outlinewidth": 1,
             "tickcolor": "rgb(36,36,36)",
             "ticks": "outside"
            },
            "colorscale": [
             [
              0,
              "#440154"
             ],
             [
              0.1111111111111111,
              "#482878"
             ],
             [
              0.2222222222222222,
              "#3e4989"
             ],
             [
              0.3333333333333333,
              "#31688e"
             ],
             [
              0.4444444444444444,
              "#26828e"
             ],
             [
              0.5555555555555556,
              "#1f9e89"
             ],
             [
              0.6666666666666666,
              "#35b779"
             ],
             [
              0.7777777777777778,
              "#6ece58"
             ],
             [
              0.8888888888888888,
              "#b5de2b"
             ],
             [
              1,
              "#fde725"
             ]
            ],
            "type": "surface"
           }
          ],
          "table": [
           {
            "cells": {
             "fill": {
              "color": "rgb(237,237,237)"
             },
             "line": {
              "color": "white"
             }
            },
            "header": {
             "fill": {
              "color": "rgb(217,217,217)"
             },
             "line": {
              "color": "white"
             }
            },
            "type": "table"
           }
          ]
         },
         "layout": {
          "annotationdefaults": {
           "arrowhead": 0,
           "arrowwidth": 1
          },
          "autotypenumbers": "strict",
          "coloraxis": {
           "colorbar": {
            "outlinewidth": 1,
            "tickcolor": "rgb(36,36,36)",
            "ticks": "outside"
           }
          },
          "colorscale": {
           "diverging": [
            [
             0,
             "rgb(103,0,31)"
            ],
            [
             0.1,
             "rgb(178,24,43)"
            ],
            [
             0.2,
             "rgb(214,96,77)"
            ],
            [
             0.3,
             "rgb(244,165,130)"
            ],
            [
             0.4,
             "rgb(253,219,199)"
            ],
            [
             0.5,
             "rgb(247,247,247)"
            ],
            [
             0.6,
             "rgb(209,229,240)"
            ],
            [
             0.7,
             "rgb(146,197,222)"
            ],
            [
             0.8,
             "rgb(67,147,195)"
            ],
            [
             0.9,
             "rgb(33,102,172)"
            ],
            [
             1,
             "rgb(5,48,97)"
            ]
           ],
           "sequential": [
            [
             0,
             "#440154"
            ],
            [
             0.1111111111111111,
             "#482878"
            ],
            [
             0.2222222222222222,
             "#3e4989"
            ],
            [
             0.3333333333333333,
             "#31688e"
            ],
            [
             0.4444444444444444,
             "#26828e"
            ],
            [
             0.5555555555555556,
             "#1f9e89"
            ],
            [
             0.6666666666666666,
             "#35b779"
            ],
            [
             0.7777777777777778,
             "#6ece58"
            ],
            [
             0.8888888888888888,
             "#b5de2b"
            ],
            [
             1,
             "#fde725"
            ]
           ],
           "sequentialminus": [
            [
             0,
             "#440154"
            ],
            [
             0.1111111111111111,
             "#482878"
            ],
            [
             0.2222222222222222,
             "#3e4989"
            ],
            [
             0.3333333333333333,
             "#31688e"
            ],
            [
             0.4444444444444444,
             "#26828e"
            ],
            [
             0.5555555555555556,
             "#1f9e89"
            ],
            [
             0.6666666666666666,
             "#35b779"
            ],
            [
             0.7777777777777778,
             "#6ece58"
            ],
            [
             0.8888888888888888,
             "#b5de2b"
            ],
            [
             1,
             "#fde725"
            ]
           ]
          },
          "colorway": [
           "#1F77B4",
           "#FF7F0E",
           "#2CA02C",
           "#D62728",
           "#9467BD",
           "#8C564B",
           "#E377C2",
           "#7F7F7F",
           "#BCBD22",
           "#17BECF"
          ],
          "font": {
           "color": "rgb(36,36,36)"
          },
          "geo": {
           "bgcolor": "white",
           "lakecolor": "white",
           "landcolor": "white",
           "showlakes": true,
           "showland": true,
           "subunitcolor": "white"
          },
          "hoverlabel": {
           "align": "left"
          },
          "hovermode": "closest",
          "mapbox": {
           "style": "light"
          },
          "paper_bgcolor": "white",
          "plot_bgcolor": "white",
          "polar": {
           "angularaxis": {
            "gridcolor": "rgb(232,232,232)",
            "linecolor": "rgb(36,36,36)",
            "showgrid": false,
            "showline": true,
            "ticks": "outside"
           },
           "bgcolor": "white",
           "radialaxis": {
            "gridcolor": "rgb(232,232,232)",
            "linecolor": "rgb(36,36,36)",
            "showgrid": false,
            "showline": true,
            "ticks": "outside"
           }
          },
          "scene": {
           "xaxis": {
            "backgroundcolor": "white",
            "gridcolor": "rgb(232,232,232)",
            "gridwidth": 2,
            "linecolor": "rgb(36,36,36)",
            "showbackground": true,
            "showgrid": false,
            "showline": true,
            "ticks": "outside",
            "zeroline": false,
            "zerolinecolor": "rgb(36,36,36)"
           },
           "yaxis": {
            "backgroundcolor": "white",
            "gridcolor": "rgb(232,232,232)",
            "gridwidth": 2,
            "linecolor": "rgb(36,36,36)",
            "showbackground": true,
            "showgrid": false,
            "showline": true,
            "ticks": "outside",
            "zeroline": false,
            "zerolinecolor": "rgb(36,36,36)"
           },
           "zaxis": {
            "backgroundcolor": "white",
            "gridcolor": "rgb(232,232,232)",
            "gridwidth": 2,
            "linecolor": "rgb(36,36,36)",
            "showbackground": true,
            "showgrid": false,
            "showline": true,
            "ticks": "outside",
            "zeroline": false,
            "zerolinecolor": "rgb(36,36,36)"
           }
          },
          "shapedefaults": {
           "fillcolor": "black",
           "line": {
            "width": 0
           },
           "opacity": 0.3
          },
          "ternary": {
           "aaxis": {
            "gridcolor": "rgb(232,232,232)",
            "linecolor": "rgb(36,36,36)",
            "showgrid": false,
            "showline": true,
            "ticks": "outside"
           },
           "baxis": {
            "gridcolor": "rgb(232,232,232)",
            "linecolor": "rgb(36,36,36)",
            "showgrid": false,
            "showline": true,
            "ticks": "outside"
           },
           "bgcolor": "white",
           "caxis": {
            "gridcolor": "rgb(232,232,232)",
            "linecolor": "rgb(36,36,36)",
            "showgrid": false,
            "showline": true,
            "ticks": "outside"
           }
          },
          "title": {
           "x": 0.05
          },
          "xaxis": {
           "automargin": true,
           "gridcolor": "rgb(232,232,232)",
           "linecolor": "rgb(36,36,36)",
           "showgrid": false,
           "showline": true,
           "ticks": "outside",
           "title": {
            "standoff": 15
           },
           "zeroline": false,
           "zerolinecolor": "rgb(36,36,36)"
          },
          "yaxis": {
           "automargin": true,
           "gridcolor": "rgb(232,232,232)",
           "linecolor": "rgb(36,36,36)",
           "showgrid": false,
           "showline": true,
           "ticks": "outside",
           "title": {
            "standoff": 15
           },
           "zeroline": false,
           "zerolinecolor": "rgb(36,36,36)"
          }
         }
        },
        "title": {
         "font": {
          "color": "Black",
          "size": 22
         },
         "text": "Top 10 Topics per Rating Class",
         "x": 0.4,
         "xanchor": "center",
         "y": 0.95,
         "yanchor": "top"
        },
        "width": 1000,
        "xaxis": {
         "showgrid": true,
         "title": {
          "text": "Frequency"
         }
        },
        "yaxis": {
         "showgrid": true,
         "title": {
          "text": "Class"
         }
        }
       }
      }
     },
     "metadata": {},
     "output_type": "display_data"
    }
   ],
   "source": [
    "# Add rating class to dataframe to visualize topics per class\n",
    "df[\"rating_class\"] = df[\"rating\"].apply(lambda x: \"positive\" if x > 7 else \"neutral\" if x > 4 else \"negative\")\n",
    "topics_per_class = topic_model.topics_per_class(docs, df[\"rating_class\"].tolist(), global_tuning=True)\n",
    "\n",
    "topic_model.visualize_topics_per_class(\n",
    "    topics_per_class,\n",
    "    custom_labels=True,\n",
    "    width=1000,\n",
    "    height=600,\n",
    "    top_n_topics=10,\n",
    "    title=\"Top 10 Topics per Rating Class\",\n",
    ")"
   ]
  },
  {
   "cell_type": "markdown",
   "metadata": {},
   "source": [
    "#### All Topics Visualization\n",
    "\n",
    "This one is similar to the datamap but shows all topics and is interactive. Hovering over each data point will show the title of the review associated with it.\n"
   ]
  },
  {
   "cell_type": "code",
   "execution_count": 9,
   "metadata": {},
   "outputs": [
    {
     "data": {
      "application/vnd.plotly.v1+json": {
       "config": {
        "plotlyServerURL": "https://plot.ly"
       },
       "data": [
        {
         "hoverinfo": "text",
         "hovertext": [
          "\"very disappointing experience\"",
          "\"a very uncomfortable flight\"",
          "\"the cabin appeared dated and untidy\"",
          "\"she looked after me so well\"",
          "\"personal space is so tight\"",
          "\"Left luggage on belt by mistake\"",
          "\"staff were incredibly rude and lazy\"",
          "\"not better service than EasyJet\"",
          "\"never be flying with BA again\"",
          "\"on-board experience was good\"",
          "\"arrivals lounge at LHR was great\"",
          "\"cabin crew fell below the standard\"",
          "\"BA has lost two loyal customers\"",
          "\"horrible food, unmotivated crew\"",
          "\"being turned into Vueling\"",
          "\"Food and service appalling\"",
          "\"Overall it was a great flight\"",
          "\"staff were helpful and friendly\"",
          "\"a most unpleasant flight\"",
          "\"full price to rebook\"",
          "\"The crew failed to work as a team\"",
          "\"You expect better from BA\"",
          "\"pulling in the right direction\"",
          "\"ready with another ticket\"",
          "\"Total disruption, wasted time\"",
          "\"it's not really premium economy\"",
          "\"Nothing special or memorable\"",
          "\"BA standards continue to decline\"",
          "\"electronics are very poor\"",
          "\"I wouldn't recommend British Airways\"",
          "\"BA are going backwards\"",
          "\"The meal was inedible\"",
          "\"a very solid experience\"",
          "\"not provided any explanation\"",
          "\"a really lovely flight\"",
          "\"excellent premium host service\"",
          "\"only 4 seats available to choose from\"",
          "\"actively try and split families up\"",
          "\"Will never touch British Airways again\"",
          "\"meal was restaurant quality\"",
          "\"very quick and efficient\"",
          "\"clueless staff full of attitude\"",
          "\"no cabin divider in the aircraft\"",
          "\"can't be reached on the phone\"",
          "\"service does not meet standards\"",
          "\"worst business class experience\"",
          "\"I might fly them again\"",
          "\"could not check our luggage through\"",
          "\"quite disappointed with my experience\"",
          "\"I detest British Airways\"",
          "\"crew welcoming and orderly\"",
          "\"Flight was smooth and quick\"",
          "\"bland insulting service\"",
          "\"service that needs training\"",
          "\"seats very narrow and close together\"",
          "\" Total rip off\"",
          "\"the food is really poor\"",
          "\"on the edge of abandoning them\"",
          "\"cabin crew excellent\"",
          "\"I’m extremely frustrated\"",
          "\"5 hours and 30 mins but no meal\"",
          "\"crew very good, friendly and chatty\"",
          "\"delayed by 20 mins\"",
          "\"Reclaiming lost baggage was simple\"",
          "\"Very enjoyable flight\"",
          "\"Absolute worst travel experience\"",
          "\"decline in the BA level of service\"",
          "\"want to be a no-frills airline\"",
          "“our compensation rights\"",
          "\"dedicated and very professional\"",
          "\"fabulous cabin crew\"",
          "\"not an uncommon occurrence\"",
          "\"doesn't cut the mustard any longer\"",
          "\"Lovely, friendly crew\"",
          "\"Post-COVID lunch remains restricted\"",
          "\"Very disappointing service\"",
          "\"endured rather than enjoyed\"",
          "\"food had no taste whatsoever\"",
          "\"absolutely shocking service\"",
          "\"journey was very irritating\"",
          "\"sad experience from our national carrier\"",
          "\"a pathetic premium cabin\"",
          "\"you can and need to do better than this\"",
          "\"does not seem to get any better\"",
          "\"rapidly becoming a budget airline\"",
          "\"no further decline in service\"",
          "\"a total disappointment\"",
          "\"found the attitude appalling\"",
          "\"treat myself to premium economy\"",
          "\"BA product is now tired\"",
          "\"such a pleasant experience\"",
          "\"Amsterdam is the worst airport I have experienced\"",
          "\"aircraft interior was old\"",
          "\"not fair for the fare\"",
          "\"certainly one of the worst\"",
          "\"do not think the fare was worth the money\"",
          "\"my question never answered\"",
          "\"a national disgrace\"",
          "\"crew seem genuinely fed up\"",
          "\"friendly and efficient service\"",
          "\"my experience with BA was very positive\"",
          "\"how far the quality level has slid\"",
          "\"you would expect a better meal\"",
          "\"screen with so few pixels\"",
          "\"I had to buy a new return ticket\"",
          "\"nothing redeeming about BA\"",
          "\"the shortage of staff\"",
          "\"Drinks and meal service was efficient\"",
          "\"BA quality is severely lacking\"",
          "\"could not fault anything\"",
          "\"don’t waste your money on an overnight flight\"",
          "\"arrived at the airport only 1 hour before\"",
          "\"found the food menu rather odd\"",
          "\"Seats very uncomfortable\"",
          "\"nothing short of chaotic\"",
          "\"business class in need of major refurbishment\"",
          "\"food choice and quality was poor\"",
          "\"cabin crew excelled throughout \"",
          "\"split all family quite far away apart\"",
          "\"restored my faith in BA\"",
          "\"Who’d have thought BA could ever make Ryanair look like an attractive option\"",
          "\"now struggle to see the value\"",
          "\"lacks personalized attention\"",
          "\"Extremely sub-par service\"",
          "\"Absolutely hopeless airline\"",
          "\"plane was very outdated\"",
          "\"I was disappointed\"",
          "\"stands out in many areas\"",
          "\"not much structure to service\"",
          "\"plane was clearly dated\"",
          "\"Avoid unless you have no other option\"",
          "\"BA standards continue to slip\"",
          "\"7 hours later no luggage\"",
          "\"no better than a low cost airline\"",
          "\"Club World cabin very cramped\"",
          "\"their staff is the best\"",
          "\"attention to detail is lacking\"",
          "\"have never been treated as badly\"",
          "\"bags cannot be fastened together\"",
          "\"I’ll never fly with them again\"",
          "\"This was a great flight\"",
          "\"Buckle up, folks; this one's a rollercoaster\"",
          "\"cannot recommend BA\"",
          "\"won’t be flying again\"",
          "\"well below standards of competition\"",
          "\"Very unprofessional for a renowned airline like BA\"",
          "\"the crew that was so nice\"",
          "\"poor customer service\"",
          "\"Very happy with the service\"",
          "\"the flights were excellent\"",
          "\"it was an OK experience\"",
          "\"I am ever increasingly disappointed\"",
          "\"service on the same route is becoming worse\"",
          "\"I have not been impressed\"",
          "\"great little short hop\"",
          "\"sleeping was quite impossible\"",
          "\"should not have to pay water \"",
          "\"way below the normal standard\"",
          "\"BA has lost the plot\"",
          "\"Excellent service and food\"",
          "\"very pleasantly surprised\"",
          "\"unhelpful and unprofessional\"",
          "\"Customer Service is shocking\"",
          "\"you will not be able to get any help\"",
          "\"will never fly them again\"",
          "\"value for money here is incredible\"",
          "\"seat let down very good flight\"",
          "“Much better experience this time around”",
          "\"such bad customer service\"",
          "\"FA's were friendly\"",
          "\"need to roll out promised changes\"",
          "\"joined budget airline bunch\"",
          "\"Overall not a good airline\"",
          "\"BA cut us no slack for the injury\"",
          "\"2½ hours before the bags finally arrived\"",
          "\"Awful, rude airline\"",
          "\"was a good experience\"",
          "\"Generally poor\"",
          "\"declined to level of a budget airline\"",
          "\"delayed due to maintenance\"",
          "\"What an awful plane\"",
          "\"How far BA has sunk!\"",
          "\"nothing short of a joke\"",
          "\"manage a trolley service \"",
          "\"Very good experience all round\"",
          "\"Outstanding crew\"",
          "\"worst business class trip\"",
          "“customer service was awful”",
          "\"breakfast was very tasty\"",
          "\"buyer beware\"",
          "\"little to no service\"",
          "\"probably the worst food experienced\"",
          "\"I would still recommend BA\"",
          "\"I will never fly BA again\"",
          "\"BA is on the skids downhill\"",
          "\"cancelled our return flight\"",
          "“It was a terrible experience”",
          "\"Crew were good\"",
          "\"Really very good FA's\"",
          "\"a general trend downwards\"",
          "\"this flight was quite good\"",
          "\"an OK experience with a great cabin crew\"",
          "\"turn it into a budget airline\"",
          "\"Baggage had not been loaded\"",
          "“a terrible and unnecessary experience”",
          "\"not worth the money\"",
          "\"not fit for purpose\"",
          "\"BA got everything right\"",
          "\"we were pleased with the service\"",
          "\"how things have changed\"",
          "\"excellent with service\"",
          "\"Cannot recommend\"",
          "\"the breakfast has improved\"",
          "\"missed our connection in London\"",
          "\"not worth the name anymore\"",
          "\"British Airways was absolutely shocking\"",
          "\"very disappointing service\"",
          "\"We won't be flying with BA again\"",
          "\"are staff preparing to go on strike\"",
          "\"hope this experience is not repeated\"",
          "\"the cabin was modern and clean\"",
          "\"cost saving is clearly evident\"",
          "\"British Airways is a rip off\"",
          "\"crew could not give a damn\"",
          "\"plane was old and cramped\"",
          "\"lost my business forever\"",
          "\"wanted to change our departure date\"",
          "\"The worst journey in my life\"",
          "\"crew were welcoming and informative\"",
          "\"no real added value\"",
          "\"Simply appalling\"",
          "\"They are so unorganized and slow!\"",
          "\"a good experience with BA\"",
          "\"I felt like a nuisance\"",
          "\"baggage arrival nearly took 1.5 hours\"",
          "\"they are now a junk airline\"",
          "\"Will honestly never fly them again if I can help it\"",
          "\"Absolutely appalling airline\"",
          "\"budget airline service at best\"",
          "\"I was pleasantly surprised\"",
          "\"the crew has helped me\"",
          "\"an excellent experience\"",
          "\"the staff were on the ball\"",
          "\"What a useless organisation\"",
          "\"Flight barely a quarter full\"",
          "\"Staff very cheerful\"",
          "\"I'm sticking with them\"",
          "\"a pretty poor show by BA\"",
          "\"main course was simply dreadful\"",
          "\"a par with low cost standards\"",
          "\"meal left a little to be desired\"",
          "\"cancelled only 4 hours before take off\"",
          "\"So much for British Airways\"",
          "\"positive first experience\"",
          "\"miserable customer service\"",
          "\"most exhausting trip\"",
          "\"turning BA into a low-cost carrier\"",
          "\"a fairly disappointing experience\"",
          "\"COVID protocols are not as robust as they should be\"",
          "\"Service was impeccable\"",
          "\"BA.com been truly appalling\"",
          "\"packed-like-sardines Club World product\"",
          "\"frustrated, upset and disappointed\"",
          "\"not worth the extra money\"",
          "\"fallen behind other airlines\"",
          "\"a mistake to choose BA\"",
          "\"Absolutely horrible experience\"",
          "\"Not value for money\"",
          "\"third world experience\"",
          "\"Absolutely terrible experience\"",
          "\"Crew were attentive and charming\"",
          "\"not what one expects from Business Class\"",
          "\"they continue to impress\"",
          "\"service poorly synchronised\"",
          "\"look at alternatives next time\"",
          "\"wait for cases at Heathrow T5\"",
          "\"cancelled due to heavy snow\"",
          "\"Overall, very happy with BA\"",
          "\"my travel pram confiscated from me\"",
          "\"need to improve their standards\"",
          "\"catalogue of errors and inconveniences\"",
          "\"They are truly incompetent\"",
          "\"Wonderful service\"",
          "\"there is no lounge at Kos\"",
          "\"cost cutting may back fire\"",
          "\"they could not serve hot drinks\"",
          "\"recent BA experience was positive\"",
          "\"service by a low-cost airline\"",
          "\"they couldn't do anything for me\"",
          "\"expensive low cost airline\"",
          "\"worth the price\"",
          "\"crew are so friendly\"",
          "\"my booked seat is not available\"",
          "\"the worst airline service\"",
          "\"Noticeable cost cutting measures\"",
          "\"quality and quantity was extremely poor\"",
          "\"worlds away from what it used to be\"",
          "\"utter nightmares\"",
          "\"worst short haul flight ever\"",
          "\"my flight was cancelled\"",
          "\"continually disappointed by British Airways\"",
          "\"they have lost absolutely their unique selling points\"",
          "\"really can’t believe they have the audacity to call this First Class\"",
          "\"the flight was very pleasant\"",
          "\"downgrade rating of British Airways\"",
          "\"Club Europe doesn’t feel very premium\"",
          "\"Everything was nice except food\"",
          "\"reduced to that of a budget airline\"",
          "\"zero customer service\"",
          "\"food was well presented\"",
          "\"no respect for economy travellers\"",
          "\"My bag was damaged\"",
          "\"haven’t received any reimbursement\"",
          "\"Trip was basic\"",
          "\"IFE was the size of my wallet\"",
          "\"seats on the flight were comfortable\"",
          "\"the value for money is no longer given\"",
          "\"no boarding drinks provided\"",
          "\"always had a great experience\"",
          "\"learn from other airlines\"",
          "\"roller coaster of incompetence\"",
          "\"KLM is definitely a league over BA\"",
          "\"entertainment was not working\"",
          "\"This is the worst airline\"",
          "\"things are not as they were\"",
          "\"Will never fly BA again\"",
          "\"experience has really declined\"",
          "\"Terminal 5 is the most bizarre\"",
          "\"disappointed with lack of food\"",
          "\"shameful for BA management\"",
          "\"not offered any assistance\"",
          "\"seats booked not given\"",
          "\"business class is just coach class\"",
          "\"little more than a budget airline\"",
          "\"was a nightmare experience\"",
          "\"service is of good quality\"",
          "\"Awful airline\"",
          "\"wouldn't allow change of dates\"",
          "\"a hit-or-miss affair\"",
          "\"onboard charity collection is inappropriate\"",
          "\"the crew were outstanding\"",
          "\"service in a very discreet way\"",
          "\"appreciate your excellent service\"",
          "\"no different to a budget airline\"",
          "\"food was bland to say the least\"",
          "\"flights to Italy for March, all cancelled\"",
          "\"This flight was so disappointing\"",
          "\" a few more inches leg room\"",
          "\"BA need to do better\"",
          "\"an excellent flight\"",
          "\"I won't fly with them again\"",
          "\"very evident cost cutting\"",
          "\"seats are so narrow\"",
          "\"last time flying with BA\"",
          "\"I was very hungry throughout the service\"",
          "\"such deceitful practices\"",
          "\"BA shined post-flight\"",
          "\"on a race to the bottom\"",
          "\"such a miserly product\"",
          "\"Never using them again\"",
          "\"BA did nothing to ease the process\"",
          "\"crew on both flights friendly and efficient\"",
          "\"worst airline I have ever flown\"",
          "\"very smooth and professional\"",
          "\"the worst flight of my life\"",
          "\"BA now gone to the dogs\"",
          "\"stay where British Airways used to be\"",
          "\"they've yet to respond\"",
          "\"stick with economy\"",
          "\"offered me half the money\"",
          "\"poor service and unhappy customers\"",
          "\"quality of British Airways has most certainly gone downhill\"",
          "\"BA Gatwick are not BA\"",
          "\"All in all BA was just fine\"",
          "\"original flight was cancelled\"",
          "\"cancelled and rescheduled\"",
          "\"just used the new Club World\"",
          "\"stupidity, bad management and poor service\"",
          "\"this relic of an airline\"",
          "\"such a terrible customer experience\"",
          "“meticulous attention to detail”",
          "\"Trying to call BA was a nightmare\"",
          "\"positive, friendly attitude\"",
          "\"it did not disappoint me\"",
          "\"withholding my money\"",
          "\"overall experience was terrible\"",
          "\"Cabin crew were great\"",
          "\"slightly above a budget airline\"",
          "\"most appalling airline service\"",
          "“Lots of stress”",
          "\"overall a good experience\"",
          "\"like some cut-rate budget airline\"",
          "\"close call to make connections\"",
          "\"not a good first trip on British Airways\"",
          "\"make sure you pack a sandwich\"",
          "\"did not get what we paid for\"",
          "\"will try to avoid this airline\"",
          "\"Food and drinks choices and tastes amazing\"",
          "\"among the most greedy airlines\"",
          "\"wonderful crew\"",
          "\"Cabin crew were efficient\"",
          "\"finally a nice flight\"",
          "\"BA is becoming more and more shambolic\"",
          "\"the service was excellent\"",
          "\"seating rough around the edges\"",
          "\"cabin crew did a sterling job\"",
          "\"staff were insanely rude2",
          "\"BA refuses to make it right\"",
          "\"last ever trip on BA\"",
          "\"attentive and good natured\"",
          "\"buy-on-board a bug-bear\"",
          "\"lack of honesty and transparency\"",
          "\"plane was clean, but cold\"",
          "\"really mixed experience\"",
          "\"downgraded so drastically\"",
          "\"everyone refused to help us\"",
          "\"the legroom was appalling\"",
          "\"the staff then disappeared\"",
          "\"An excellent flight\"",
          "\"left on your own and nobody cares\"",
          "\"avoid BA as much as possible\"",
          "\"getting a refund is a nightmare\"",
          "\"deteriorating service recently\"",
          "\"my last time to book with them\"",
          "\"second rate budget airline\"",
          "\"one of the worst flights\"",
          "\"improvements needed with their ground staff2",
          "\"BA has really upped their game\"",
          "\"comfortable seats\"",
          "\"can't even choose my own seat\"",
          "\"Cheap, quick and efficient\"",
          "\"totally ripped off by BA\"",
          "\"Never again British Airways\"",
          "\"attentive, friendly cabin crew\"",
          "\"in all a waste of money\"",
          "\"don't cater for families\"",
          "\"BA treats as a normal practice\"",
          "\"on a par with Ryanair\"",
          "\"eventually make good on their promise\"",
          "\"not worth it on every level\"",
          "\"a remarkably bad experience\"",
          "\"food is the standout problem\"",
          "\"standards are worse than ever\"",
          "\"pay extra to reserve the seats\"",
          "\"avoid any 747 flight whenever possible\"",
          "\"assumption it was a quality carrier\"",
          "\"have to use other airlines now\"",
          "\"very disappointed by gate agents\"",
          "\"I was highly disappointed\"",
          "\"expected a better level of attention to detail\"",
          "\"finally agreed to refund my baggage charge\"",
          "\"crew made the flight outstanding\"",
          "\"looked as if 20 years old\"",
          "\"incompetence and insincerity\"",
          "\"gone notably downhill\"",
          "\"The worst business class\"",
          "\"the product is outdated\"",
          "\"a very dated experience\"",
          "“I couldn’t fault them”",
          "\"time for some heads to roll\"",
          "\"low-cost airline standard\"",
          "\"no warm food on recent flights\"",
          "\"leaving two hours late\"",
          "\"I will never travel BA again\"",
          "\"flights they have not actually provided\"",
          "\"this flight was fine\"",
          "\"the worst airline experience I've ever had to deal with\"",
          "\"possibly my last BA flights\"",
          "\"here is where the \"value\" ends\"",
          "\"a below average service\"",
          "\"Crew good, seats very uncomfortable\"",
          "\"above-and-beyond service\"",
          "\"unable to offer a full refund\"",
          "\"abandoned us at Rome airport\"",
          "\"Seats were uncomfortable\"",
          "\"I still found it underwhelming\"",
          "\"I would say disappointing\"",
          "\"quite enjoyable flights both ways\"",
          "\"now at an all time low\"",
          "\"a surprisingly good flight\"",
          "\"The worst service ever\"",
          "\"flight failed at every level\"",
          "\"it's basically a con\"",
          "\"there's room for improvement\"",
          "\"express our displeasure and concerns\"",
          "\"a pretty good flight\"",
          "\"did not offer a wheelchair\"",
          "\"knowledgeable and nice agent\"",
          "\"First Class is average at best\"",
          "\"pre-allocated me a middle seat\"",
          "\"all in all decent flights\"",
          "\"the worst BA flight we've experienced\"",
          "\"BA is now a no-frills carrier\"",
          "\"did not receive a free glass of water\"",
          "\"never provide any assistance\"",
          "\"premium price for very average service\"",
          "\"a dismal airline to fly with\"",
          "\"sent to the wrong baggage drop\"",
          "\"On board staff were good\"",
          "\"decline in the service level\"",
          "\"minimal communication from their team\"",
          "\"They were friendly, welcoming\"",
          "\"another very good flight\"",
          "\"there is no other choice\"",
          "\"pay for your food on board\"",
          "\"staff went above and beyond\"",
          "\"this was not acceptable\"",
          "\"flight to Antalya in May 2022 was cancelled\"",
          "\"crew on top of their game\"",
          "\"almost a low fare airline\"",
          "\"Avoid this airline\"",
          "\"The attendants were polite\"",
          "\"nothing special, such a disappointment\"",
          "\"BA is just too cheap on it's product\"",
          "\"got to the hotel and no dinner for us\"",
          "\"asked if I would like any food\"",
          "\"won't be flying BA again\"",
          "\"need to clean the planes more often\"",
          "\"a thoroughly pleasant flight\"",
          "\"Staff quite unpleasant\"",
          "\"Extremely poor communication\"",
          "\"staff were rude and inattentive\"",
          "\"Overall very satisfied\"",
          "\"a lot of actual lies being told\"",
          "\"unexpected problem with the systems\"",
          "\"Absolute Cheapskates\"",
          "\"crew professional and friendly\"",
          "\"avoid flying British Airways\"",
          "\"I enjoyed my flight\"",
          "\"stood waiting for assistance\"",
          "\"Fantastic first class service\"",
          "\"Service was a little perfunctory\"",
          "\"had to hand in my hand luggage\"",
          "\"attendants were attentive\"",
          "\"boarding was chaos\"",
          "\"lack of social distancing\"",
          "\"crew are a credit to BA\"",
          "\"seat was really comfortable\"",
          "\"At least the food tasted good\"",
          "\"worst cabin experience ever\"",
          "\"sort ground service at Warsaw Airport\"",
          "\"nearly three hours late\"",
          "\"a service of 2 halves\"",
          "\"experience was totally acceptable\"",
          "\"the most comfortable seats\"",
          "\"all about money with them\"",
          "\"short-changing passengers\"",
          "\"food was embarrassing bad\"",
          "\"Crew were friendly\"",
          "\"has returned to full service\"",
          "\"experience is second rate\"",
          "\"have to pay for food and beverages\"",
          "\"don’t trust BA with your loved ones\"",
          "\"recommend to avoid flying with BA\"",
          "\"crew were helpful and generous\"",
          "\"very poor cabin service\"",
          "\"airline with low cost service\"",
          "\"Overall a good flight\"",
          "\"cleanliness hit rock bottom\"",
          "\"they are failing dismally\"",
          "\"flight dispatcher closed the flight\"",
          "\"I don’t like pasta\"",
          "\"relentless BA cost cutting\"",
          "\"The worst airline I have ever flown\"",
          "\"cancelled as we missed outgoing flight\"",
          "\"no one to solve problems\"",
          "\"on time and safely at that\"",
          "\"gate staff should be better trained\"",
          "\"asked to pay extra to book specific seats\"",
          "\"Effectively a budget airline\"",
          "\"cabin crew were efficient and friendly enough\"",
          "\"no better than Ryanair now\"",
          "\"too much cost cutting\"",
          "\"Excellent short flight\"",
          "\"the service was good\"",
          "\"airline is a national disgrace\"",
          "\"Check-in was longer than normal\"",
          "\"the worst travel experience\"",
          "\"very good service indeed\"",
          "\"nothing left of business class\"",
          "\"never fly BA again\"",
          "\"BA needs to improve and fast\"",
          "\"one of the worst airlines\"",
          "\"live in a conceited bubble\"",
          "\"not really a business class cabin\"",
          "\"my first choice out of City\"",
          "\"such terrible customer service\"",
          "\"1 hour in the horrific queue\"",
          "\"if we want anything, get it yourself\"",
          "\"I thoroughly enjoyed my flight\"",
          "\"lack of care extremely disappointing\"",
          "\"do not match expectations\"",
          "\"Fantastic flight down to Heathrow\"",
          "\"good overall experience\"",
          "\"one of the worst flight/travel experiences\"",
          "\"We are done with BA\"",
          "\"I filed a claim\"",
          "\"Right now do not use British Airways\"",
          "\"less than a premium experience\"",
          "\"cabin crew are usually exceptional\"",
          "\"cancelled a flight booked three months ago \"",
          "\"next time we'll just fly another airline\"",
          "\"one excuse after another with BA these days\"",
          "\"Zero customer service\"",
          "\"scrapped the mandatory wearing of face masks\"",
          "\"cabin crew service was lacklustre\"",
          "\"have lost all patience with this airline\"",
          "\"Gate agent was extremely rude\"",
          "\"appreciated the COVID measures\"",
          "\"Thanks to the crew\"",
          "\"so callous and uncaring\"",
          "\"worst airline customer service\"",
          "\"The flights were okay\"",
          "\"never use British Airways again\"",
          "\"Such indifference and lackadaisical attitude\"",
          "\"happy that it was on time\"",
          "\"BA's golden years are well and truly over\"",
          "\"minimalistic in their service\"",
          "\"seat was very uncomfortable\"",
          "\"A shambolic airline\"",
          "\"delayed by over 3hrs\"",
          "\"whether I continue my loyalty\"",
          "\"very uncomfortable trip\"",
          "\"The worst experience\"",
          "\"they are unreliable \"",
          "\"Club Suite seats a huge improvement\"",
          "\"no food available for the 4 year old\"",
          "\"Never again\"",
          "\"Everything I expected\"",
          "\"my suitcase didn’t arrive with me\"",
          "\"can't really complain about the overall experience\"",
          "\"So low cost. So over them\"",
          "\"only just about recommend\"",
          "\"experience was wonderful\"",
          "\"cabin crew friendly\"",
          "\"Absolutely horrendous experience\"",
          "\"was a horrible experience\"",
          "\"not a business class product\"",
          "\"BA is just a budget airline\"",
          "\"served the worst food\"",
          "\"BA crews are tremendous\"",
          "\"BA have hit rock bottom\"",
          "\"living in the past century\"",
          "\"happy with product and would use again\"",
          "\"slipped to low budget airline\"",
          "\"now becoming as bad as Ryanair\"",
          "\"upgrade had been given away to someone else\"",
          "\"trying to seat together\"",
          "\"I will not use BA again\"",
          "\"a terrible flight\"",
          "\"seats had been changed by BA\"",
          "\"appears it was a window\"",
          "\"staff are extremely unhelpful\"",
          "\"luggage was not loaded\"",
          "\"ordinary BA domestic flight\"",
          "\"surprisingly a good product\"",
          "\"inflight service was very poor\"",
          "\"pleasantly surprised to be upgraded\"",
          "\"business class seats were abysmal\"",
          "\"Cabin crew very good\"",
          "\"reputation is on the slide\"",
          "\"just won't use them again\"",
          "\"we don't deserve the shoddy treatment\"",
          "\"seats are aging and uncomfortable\"",
          "\"no longer worth any extra cost\"",
          "\"would not help compensate\\2",
          "\"Abysmal customer services\"",
          "\"never fly British Airways again\"",
          "\"return flight was very cold\"",
          "\"I had to pay a £140 excess\"",
          "\"not what you'd expect from a premium product\"",
          "\"flight was excellent\"",
          "\"meals were served very slowly\"",
          "\"No more BA for me\"",
          "\"Very poor service, very frustrating\"",
          "\"wonderful cabin crew\"",
          "\"worst customer service\"",
          "\"Service was an absolute shambles\"",
          "\"No check in staff for Economy\"",
          "\"BA at its best\"",
          "\"staff were absolutely appalling\"",
          "\"A totally unremarkable flight\"",
          "\"discrepancy with the baggage allowance\"",
          "\"no more than a budget carrier\"",
          "\"felt I was flying with a low cost airline\"",
          "\"unbelievably rude and unhelpful\"",
          "\"charged £65 to bring my bike back\"",
          "\"by far the worst cabin crew\"",
          "\"arrived reasonably promptly\"",
          "\"airline is going down fast\"",
          "\"outstanding courtesy and service\"",
          "\"no longer a full service airline\"",
          "\"not recommended for business class\"",
          "\"it's showing its age\"",
          "\"Crew on board very friendly and helpful\"",
          "\"mock and insult your passengers\"",
          "\"We had a nice flight\"",
          "\"impressed with their customer service\"",
          "\"All flights without exception were delayed\"",
          "\"improved on board experience\"",
          "\"I will no longer pick BA\"",
          "\"they understand my frustration\"",
          "\"the best airline I've flown with\"",
          "\"the quality becomes worse\"",
          "\"experience was fantastic\"",
          "\"Perfect welcome\"",
          "\"days of glory are long gone\"",
          "\"disappointing staff\"",
          "\"appalling customer service\"",
          "\"crew were very efficient\"",
          "\"nothing good about BA anymore\"",
          "\"now charge for food and drink\"",
          "\"aircraft lacked the legroom\"",
          "\"tickets should have been refunded\"",
          "\"currently looking for the luggage\"",
          "\"major issue is their penny pinching\"",
          "\"staff wonderful. cheerful, efficient\"",
          "\"a virtually flawless experience\"",
          "\"same seat as economy class\"",
          "\"I said I wanted 20-25% back off my holiday\"",
          "\"In-flight service good\"",
          "\"treated incredibly well\"",
          "\"special meal was not available\"",
          "\"yet another abysmal flight\"",
          "\"use the travel credit by May 2020\"",
          "\"very lazy and oblivious staff \"",
          "\"watched their decline with great sadness\"",
          "\"the service was appalling\"",
          "\"sad to see how BA service went down\"",
          "\"ground service was really poor\"",
          "\"flight was pleasant enough\"",
          "\"prepare to be nickled and dimed\"",
          "\"first and definitely last time\"",
          "\"promised to give me compensation\"",
          "\"bag did not arrive into Dublin\"",
          "\"Very impressive and efficient\"",
          "\"Not a reliable airline\"",
          "\"can no longer live on past reputation\"",
          "\"made memorable by air hostess\"",
          "\"avoid at all costs\"",
          "\"a budget airline at premium airline prices\"",
          "“BA clearly does not care”",
          "\"Luggage are still in Glasgow\"",
          "\"lost my patience with BA\"",
          "\"check in my carry on luggage for free\"",
          "\"Deliberate extortion\"",
          "\"a thoroughly reassuring, coming out of COVID, experience\"",
          "\"under whelmed by the experience\"",
          "\"the experience was outstanding\"",
          "\"flight OK with snack and drink\"",
          "\"refund process is non responsive\"",
          "\"warned that BA had gone downhill\"",
          "\"think twice to take BA in the future\"",
          "\"Such a horrible experience\"",
          "\"made me check in the trolley \"",
          "\"still forcing people to fly to Madrid\"",
          "\"BA is worse than a low cost carrier\"",
          "\"staff attitude so nonchalant\"",
          "\"disappointed and angry\"",
          "\"lots of space and privacy, very good seat\"",
          "\"Good old times of being a glamour flying BA has far gone\"",
          "\"Every flight was delayed\"",
          "\"morphing into a low-cost carrier\"",
          "\"just getting worse and worse\"",
          "\"food was above average\"",
          "\"I will not be flying BA again\"",
          "\"overall job well done\"",
          "\"lost my luggage on both flights\"",
          "\"Ryanair has more finesse\"",
          "“Seat was fine but product ageing”",
          "\"BA is shameless and embarrassing\"",
          "\"Online Check-in did not work\"",
          "\"airline is a total disgrace\"",
          "\"a reasonable experience\"",
          "\"have slipped significantly\"",
          "\"terrible customer care\"",
          "\"a very cheap offer to upgrade\"",
          "\"service attentive and prompt\"",
          "\"pilot apologise at every step of the way\"",
          "\"crew on this flight amazing\"",
          "\"passengers with masks below nose\"",
          "\"couple of very good flights\"",
          null,
          "\"BA gets worse and worse\"",
          "\"awful experience from beginning to end\"",
          "\"experience has certainly changed\"",
          "\"do not upgrade members based on status\"",
          "\"Meal service surprisingly good\"",
          "\"reflect a downward trend of the airline\"",
          "\"no sandwiches left to purchase\"",
          "\"luggage was still in London\"",
          "\"deplorable customer service\"",
          "“Next time it will be Jet2”",
          "\"let down by chaotic check-in and boarding\"",
          "\"seats have so little cushion\"",
          "\"Complete confusion\"",
          "\"they assigned me a middle seat\"",
          "\"customer service is increasingly low cost in feel\"",
          "\"turning a once great airline into low cost \"",
          "\"I would recommend BA\"",
          "\"All in all great service\"",
          "\"offered me no compensation\"",
          "\"Very, very mediocre\"",
          "\"satisfied with all aspects\"",
          "\"never use British Airways again\"",
          "\"British Airways absolutely does not care\"",
          "\"very friendly but not attentive\"",
          "\"legroom seemed very small\"",
          "\"pathetically inefficient\"",
          "\"expensive at £343 return\"",
          "“never fly British Airways\"",
          "\"Worn seats, cracks in the walls\"",
          "\"worst business class I have flown\"",
          "\"not allowing me to add a bag\"",
          "\"They have the worst customer service\"",
          "\"treat customers with care.\"",
          "\"BA is way behind other carriers\"",
          "\"a very comfortable flight\"",
          "\"laptop was left inside the flight\"",
          "\"Seats the same as economy\"",
          "\"Seat so narrow that you cannot move\"",
          "\"wonderful member of crew\"",
          "\"best short haul flight\"",
          "\"Economy seats are small\"",
          "\"Staff  not in high standards\"",
          "\"staff exceptionally friendly\"",
          "\"online website is very clear\"",
          "\"Boarding was a disaster\"",
          "\"poor facilities BA now provide\"",
          "\"the staff were very helpful\"",
          "\"Seat was quite comfortable\"",
          "\"declined to offer compensation\"",
          "\"wanted to return a day early\"",
          "\"The service is really mediocre\"",
          "\"a really good flight\"",
          "\"lounges in Heathrow are overcrowded\"",
          "\"service inevitably snail-paced\"",
          "\"will fly again with BA\"",
          "\"replicating the likes of Ryanair\"",
          "\"kind and chatty with us\"",
          "\"missed my connecting flight\"",
          "\"bumped off flight\"",
          "\"Check-in Desk rude and dismissive\"",
          "\"no apologies from the staff\"",
          "\"we had been downgraded\"",
          "\"flights to Vancouver abysmal\"",
          "\"true case of rip-off BA\"",
          "\"Another bad show\"",
          "\"bus transfer and arrival at 2.30am\"",
          "\"full service or a low cost\"",
          "“worst airline I’ve ever flown”",
          "\"truly disappointed with BA\"",
          "\"sufficient seat legroom\"",
          "\"downgrade them to 3 stars\"",
          "\"Quick and easy flight\"",
          "\"race to complete dinner service \"",
          "\"staff was kind and helpful\"",
          "\"pleasant and enjoyable experience\"",
          "\"Service level far worse then Ryanair\"",
          "\"lost my clubs for 7 days\"",
          "\"The crew were amazing\"",
          "\"service was quite prompt\"",
          "\"stop charging people extras\"",
          "\"Not worth the money\"",
          "\"find an alternative airline\"",
          "\"shame for such well known airline\"",
          "\"don't make same mistake as me\"",
          "\"Overall a good experience\"",
          "\"Avios program is nearly worthless\"",
          "\"lack of practical assistance\"",
          "\"don't care about customers\"",
          "\"do not know if I will fly again\"",
          "\"feel worthless as a customer\"",
          "\"outrageous red tape\"",
          "“a very poor last impression of BA”",
          "\"brand suicide at its worst\"",
          "\"angry and dissatisfied customer\"",
          "\"disappointing business class\"",
          "\"go with a budget airline\"",
          "\"refunded my tickets within 2 working days\"",
          "\"a poor economy class product\"",
          "\"baggage yet to be delivered after 5 weeks\"",
          "\"not up to BA standards\"",
          "\"new club seating, no better than economy\"",
          "\"the worst experience\"",
          "\"just about ok for value for money\"",
          "\"BA on this route are a joke\"",
          "\"They should be ashamed of themselves\"",
          "\"decision to downgrade service\"",
          "“incompetence in customer service”",
          "\"regret choosing BA\"",
          "\"My suitcase didn't arrive\"",
          "\"Spent an hour checking in\"",
          "\"team was very friendly\"",
          "“Staff look tired and overworked”",
          "\"new improvements are excellent\"",
          "\"having to pay to reserve a specific seat\"",
          "\"my food was inedible\"",
          "\"don’t waste your money flying BA\"",
          "\"easily the most cramped space I have ever flown\"",
          "\"so much for a full-service airline\"",
          "\"I was told the gate was shut\"",
          "\"Everything went like clockwork\"",
          "\"Staff on both flights fine\"",
          "\"said that I need to check my baggage\"",
          "\"friendly and keen to please\"",
          "\"Poorly mismanaged services\"",
          "\"I guess BA has selected the lowest budget option\"",
          "\"Travel Nightmare\"",
          "\"a sad reflection on the country\"",
          "\"misplaced our luggage during our wedding trip\"",
          "\"could not upgrade the flight\"",
          "\"pay BA to check the new bag\"",
          "\"magic of our national carrier has gone\"",
          "\"crew doing an excellent job\"",
          "\"a good drinks and food service\"",
          "\"disappointed with the return flight\"",
          "\"charged 4 times for one bag\"",
          "\"give this rotten airline 0/10\"",
          "\"no different than a budget airline\"",
          "\"Great customer service\"",
          "\"unfriendly and inconsiderate to me\"",
          "“customer service non existent”",
          "\"stooped to its lowest level\"",
          "\"worst customer service\"",
          "\"cabin crew excellent\"",
          "\"was a really bad experience\"",
          "\"Worst customer experience\"",
          "“the cabin crew were great”",
          "\"won the race to the bottom\"",
          "\"baggage is always last off\"",
          "\"friendly and attentive\"",
          "\"crew very attentive\"",
          "\"not BA's finest hour\"",
          "\"special meal not on either flight\"",
          "\"such a poor product\"",
          "\"like a 'posh' Ryanair\"",
          "\"would rather walk to Manchester\"",
          "\"Club World is now very tired and worn\"",
          "\"my cabin luggage was taken\"",
          "\"Communication is terrible\"",
          "\"An excellent flight\"",
          "\"T5 arrivals lounge was excellent\"",
          "\"it was not a pleasant flight\"",
          "\"little to complain about\"",
          "\"doors cannot close till take off\"",
          "\"little value for money\"",
          "\"had a perfectly satisfactory flight\"",
          "\"found the crew very friendly\"",
          "\"The service was brusque\"",
          "\"very little care of customers\"",
          "\"on par with EasyJet\"",
          "\"It’s almost like a low cost\"",
          "\"service was really good\"",
          "\"Very nice return flight with BA\"",
          "\"unprofessional, uncaring\"",
          "\"indifferent attitudes of cabin service\"",
          "\"Not dreadful but something for BA to think about\"",
          "\"left me extremely disappointed\"",
          "\"had my flight cancelled on 3 occasions\"",
          "\"Staff are polite and friendly\"",
          "\"BA insisted I only had one bag allowance \"",
          "\"BA customer service is a disgrace\"",
          "\"asked us to check our bags\"",
          "\"slips further and further\"",
          "\"no longer competes on service\"",
          "\"cost cutting to extreme levels\"",
          "\"service is similar to Eurowings\"",
          "\"happy to recommend BA\"",
          "\"waiting on my luggage for five days\"",
          "\"the excellent cabin crew\"",
          "\"came to me to give me his pillow\"",
          "\"nightmare experience\"",
          "\"Terminal 5 was a big mass\"",
          "\"Crew were good but lacked the personal touch\"",
          "\"changed to late evening arrival\"",
          "\"rebrand to a budget airline\"",
          "\"they only had one choice of meal\"",
          "\"Short-haul with BA never again\"",
          "\"Service is non-existent\"",
          "\"welcome wasn’t especially friendly\"",
          "\"I asked to be put in a hotel\"",
          "\"pleasant and professional\"",
          "\"British Airways had rebooked with Delta\"",
          "\"overall experience was pleasant\"",
          "\"uncomfy old planes\"",
          "\"game over for me\"",
          "\"good onboard service\"",
          "\"I have had it with BA\"",
          "\"customer service being so horrible\"",
          "\"today just another 2 star airline\"",
          "\"was refused an early check in\"",
          "\"unprofessional attitude of the pilots\"",
          "\"no different to EasyJet\"",
          "\"lacklustre at best\"",
          "\"cabin crew were very helping\"",
          "\"airline has gone downhill\"",
          "\"never use BA again for a long haul flight\"",
          "\"don't have spare water\"",
          "\"crew were excellent\"",
          "“I hate British Airways!”",
          "\"A really excellent journey\"",
          "\"rude and uncaring\"",
          "\"BA has gone cattle\"",
          "\"Service as expected for price\"",
          "\"I was pleasantly surprised\"",
          "“become the Ryanair of long-haul travel”",
          "\"nice and professional crew\"",
          "\"you should let me use the lounge\"",
          "\"plane in both directions old and shabby\"",
          "\"plane seating is worn out\"",
          "\"profoundly uncomfortable when fully flat\"",
          "\"had upgraded people in first\"",
          "\"whole experience was stressful, costly\"",
          "\"was like a no frills airline\"",
          "\"narrower seats than other airlines\"",
          "\"All in all, terrible\"",
          "\"seats were cramped and uncomfortable\"",
          "\"did not mention it was normal coffee\"",
          "\"no longer getting compensated\"",
          "\"fallen far behind their competitors\"",
          "\"crew make the journey smooth\"",
          "\"very good flight again\"",
          "\"exceed my expectation\"",
          "\"biggest disappointment was the cabin crew\"",
          "\"not allowed to choose a seat\"",
          "\"pay more for another airline\"",
          null
         ],
         "marker": {
          "color": "#CFD8DC",
          "opacity": 0.5,
          "size": 5
         },
         "mode": "markers+text",
         "name": "other",
         "showlegend": false,
         "type": "scattergl",
         "x": [
          11.15436,
          6.6340733,
          8.664258,
          11.379469,
          10.4994955,
          6.7644134,
          7.673634,
          9.513327,
          6.513093,
          11.249268,
          11.478018,
          8.609277,
          9.827688,
          10.688373,
          10.137842,
          9.672459,
          11.526498,
          12.186174,
          9.417387,
          9.199983,
          9.185481,
          5.8600082,
          10.860359,
          8.408432,
          7.97541,
          12.010129,
          10.083493,
          9.6664715,
          10.563521,
          6.5458865,
          10.676164,
          11.264384,
          10.952821,
          8.122119,
          11.421394,
          11.155906,
          7.0729704,
          12.240526,
          9.167143,
          9.914479,
          11.5189085,
          9.108204,
          10.259571,
          6.674147,
          9.208946,
          11.517766,
          9.513392,
          9.346225,
          9.147224,
          7.846523,
          8.675579,
          8.784907,
          10.765256,
          10.089349,
          7.344644,
          5.7509236,
          12.340327,
          10.488365,
          10.504525,
          6.327193,
          8.046943,
          9.643435,
          8.894397,
          6.7351146,
          12.332686,
          6.48523,
          9.048195,
          10.8379135,
          8.900385,
          10.725963,
          10.066546,
          7.569912,
          11.119715,
          12.003615,
          10.464961,
          8.870482,
          10.76006,
          11.57791,
          12.9858,
          5.9022856,
          11.30857,
          9.535727,
          10.021273,
          12.689974,
          9.735062,
          11.179171,
          11.190376,
          6.456592,
          12.165435,
          9.26137,
          8.999223,
          8.064523,
          11.436494,
          8.669469,
          10.788831,
          9.854816,
          6.277366,
          6.47458,
          10.126697,
          11.512617,
          7.4486313,
          10.926678,
          11.788001,
          9.240494,
          6.479069,
          11.269236,
          10.78659,
          10.474186,
          9.290232,
          11.5102,
          12.061975,
          7.068582,
          12.810739,
          11.803911,
          9.894099,
          11.719513,
          11.763214,
          11.193901,
          6.525396,
          10.6761875,
          8.763273,
          9.648351,
          11.620654,
          11.014672,
          6.006794,
          11.555409,
          10.950538,
          11.057885,
          11.157121,
          11.439322,
          7.8777766,
          9.864672,
          7.7879286,
          6.834926,
          11.917633,
          12.2460165,
          12.304409,
          8.63714,
          7.4700694,
          8.815182,
          12.1497135,
          7.0920973,
          12.661626,
          6.219244,
          10.446703,
          6.1801324,
          11.410164,
          5.871938,
          9.276205,
          11.696002,
          11.343475,
          10.351731,
          6.302176,
          11.398869,
          9.425383,
          12.265292,
          7.6810102,
          11.318633,
          7.3823447,
          11.623801,
          11.883545,
          6.975551,
          5.731547,
          6.4072204,
          6.1152744,
          10.416122,
          11.972574,
          11.888104,
          5.607976,
          10.678438,
          11.194373,
          9.327873,
          11.963456,
          8.996279,
          7.427915,
          7.6928525,
          9.88191,
          11.080972,
          12.079816,
          8.048742,
          11.498867,
          9.523865,
          6.972404,
          9.510028,
          11.060553,
          11.682391,
          11.731546,
          5.641028,
          11.1585,
          6.1878123,
          11.9816675,
          11.565589,
          11.839825,
          9.815869,
          10.527257,
          6.3695607,
          10.175594,
          10.765697,
          11.969373,
          10.160687,
          11.524435,
          9.581933,
          10.250387,
          7.5356464,
          7.6282406,
          10.157621,
          7.1131153,
          12.833062,
          11.269076,
          9.579903,
          11.024995,
          7.595036,
          11.377825,
          6.219099,
          11.1819725,
          7.132477,
          10.685061,
          10.919323,
          9.2917795,
          10.9158125,
          7.6984916,
          10.4699335,
          10.244627,
          9.580666,
          10.8543625,
          8.642951,
          10.959788,
          6.387284,
          12.509754,
          8.803486,
          10.591132,
          8.232392,
          12.227543,
          9.274816,
          8.051675,
          6.415784,
          10.937364,
          11.214994,
          11.97595,
          12.732912,
          8.055254,
          10.6364155,
          12.0630045,
          7.28219,
          11.636911,
          11.509042,
          12.280034,
          9.141689,
          10.359088,
          9.3630705,
          11.652622,
          6.2942586,
          8.071037,
          7.2661552,
          6.099332,
          12.160489,
          9.630216,
          12.154,
          8.299834,
          11.350689,
          6.018306,
          10.91526,
          7.4177065,
          7.331896,
          7.2157426,
          10.848798,
          7.028237,
          10.143562,
          11.342283,
          7.0914054,
          8.085193,
          10.775827,
          12.03853,
          10.49888,
          9.463345,
          10.520951,
          6.4381976,
          8.011982,
          7.4049687,
          7.39397,
          10.933419,
          10.6223,
          10.042422,
          10.800306,
          9.988002,
          9.906055,
          11.724539,
          10.899686,
          5.969056,
          9.050837,
          12.063569,
          11.61815,
          7.098637,
          6.1301427,
          9.723987,
          11.599695,
          12.59691,
          10.236425,
          11.234783,
          8.583822,
          9.615856,
          9.57265,
          11.600818,
          11.742971,
          7.7520146,
          10.573462,
          12.186546,
          9.520043,
          6.666259,
          9.17661,
          10.846923,
          5.6377745,
          7.2785482,
          9.534581,
          11.340139,
          11.22658,
          10.679055,
          11.067578,
          9.886838,
          8.281644,
          10.817904,
          9.807227,
          7.572249,
          7.949914,
          10.93865,
          7.87136,
          10.65956,
          9.764431,
          11.48897,
          11.095788,
          7.671238,
          12.329883,
          10.165872,
          10.831251,
          8.993584,
          10.464811,
          11.226384,
          10.369487,
          12.3372755,
          8.436277,
          12.383709,
          10.248278,
          7.441333,
          10.037907,
          8.713797,
          7.4078965,
          11.344944,
          12.5297,
          10.432336,
          11.706376,
          7.452017,
          10.916411,
          11.694342,
          11.345401,
          12.118176,
          5.8099556,
          11.630883,
          9.528673,
          7.6697183,
          6.598975,
          6.0954638,
          9.368421,
          11.020282,
          11.982746,
          8.670658,
          10.157717,
          9.548991,
          5.942251,
          11.946825,
          5.6412683,
          8.517257,
          9.885203,
          6.997818,
          12.161943,
          5.9549184,
          7.9344707,
          12.624857,
          7.4086957,
          10.362006,
          8.0597515,
          11.283961,
          6.3559713,
          11.004881,
          12.047651,
          5.32437,
          7.478087,
          11.607778,
          12.330949,
          10.210257,
          11.035154,
          11.231961,
          9.78734,
          7.515192,
          8.188151,
          10.549566,
          6.943701,
          9.249493,
          12.190124,
          11.483729,
          11.193033,
          11.53556,
          10.964954,
          8.575374,
          10.354745,
          11.605181,
          10.70523,
          6.4716244,
          6.660765,
          9.326485,
          11.308218,
          11.75,
          6.951143,
          10.351993,
          12.320672,
          9.713215,
          6.850012,
          10.708569,
          11.595383,
          12.294965,
          10.299252,
          5.6547036,
          6.613536,
          7.422178,
          6.2018967,
          9.208808,
          11.298488,
          9.946681,
          8.265271,
          11.722147,
          6.5811887,
          8.844097,
          5.850352,
          6.3596215,
          12.6515665,
          7.0384326,
          10.641603,
          6.290989,
          10.736685,
          8.499255,
          10.039646,
          11.861258,
          10.389385,
          8.301277,
          10.08079,
          11.380477,
          11.760763,
          6.605217,
          10.511075,
          10.033536,
          11.403803,
          5.940451,
          12.373005,
          12.286863,
          8.136756,
          7.8834147,
          10.766808,
          12.199862,
          11.985001,
          11.17946,
          9.57955,
          9.830517,
          9.140955,
          8.032738,
          6.316825,
          5.9043226,
          11.791682,
          6.4592423,
          9.164826,
          11.734033,
          10.774057,
          8.549117,
          11.527158,
          6.042507,
          7.208245,
          11.556381,
          10.444137,
          8.979664,
          12.120007,
          10.453813,
          11.376776,
          7.189433,
          9.329455,
          10.402908,
          9.581987,
          6.611083,
          12.381696,
          7.9047565,
          10.365145,
          7.227228,
          8.913159,
          11.198722,
          6.792143,
          9.410748,
          8.549977,
          9.3528595,
          11.222029,
          11.294707,
          7.4281106,
          8.3114195,
          7.2041802,
          6.7766795,
          11.433017,
          11.757651,
          8.867402,
          9.076403,
          11.296186,
          6.51471,
          6.1191764,
          11.217089,
          11.175756,
          8.057613,
          12.327458,
          5.6654882,
          10.043944,
          7.2164,
          11.377811,
          7.1729274,
          10.155409,
          10.865954,
          7.8857484,
          10.602061,
          9.294807,
          12.409308,
          7.271861,
          11.14746,
          11.587229,
          11.964752,
          6.1446137,
          11.406609,
          10.781698,
          12.120831,
          9.984151,
          8.203628,
          11.514191,
          12.305918,
          10.765183,
          12.625778,
          11.089859,
          12.796798,
          12.552718,
          8.84036,
          9.258522,
          8.753981,
          10.818101,
          11.430948,
          10.575826,
          10.500422,
          11.036763,
          11.399865,
          12.643296,
          10.157828,
          10.408061,
          7.3629146,
          11.802132,
          11.738351,
          12.418423,
          10.416359,
          12.81867,
          9.079134,
          9.733399,
          7.6010165,
          7.5390754,
          9.1195545,
          8.188033,
          6.4178653,
          6.980099,
          9.991355,
          7.36445,
          7.7305694,
          9.371808,
          9.707227,
          9.199531,
          10.85047,
          10.339915,
          7.3409257,
          7.4446936,
          8.358216,
          7.7228737,
          11.746442,
          9.370845,
          7.440119,
          9.402399,
          7.4802346,
          5.761604,
          11.293382,
          10.108173,
          6.283547,
          7.212183,
          10.267484,
          11.797533,
          6.481793,
          11.564124,
          11.490004,
          11.167495,
          6.655561,
          8.275857,
          6.06976,
          6.933678,
          10.828976,
          9.406477,
          5.8821225,
          9.388212,
          8.573981,
          6.4366174,
          10.714166,
          11.625383,
          8.641544,
          6.4350915,
          8.375026,
          11.248368,
          6.4970503,
          6.7220864,
          9.746866,
          5.8641186,
          10.550663,
          10.468112,
          10.839844,
          11.672879,
          12.278724,
          9.143818,
          11.7536545,
          11.1767435,
          7.177862,
          5.3503895,
          7.202165,
          12.716493,
          10.598558,
          6.8794384,
          10.66527,
          6.5907574,
          11.656125,
          11.287431,
          10.514175,
          10.947553,
          10.961028,
          11.038959,
          11.971764,
          11.369126,
          9.327755,
          11.574879,
          11.730351,
          10.765996,
          10.425479,
          7.8051724,
          9.672089,
          6.232266,
          7.3841853,
          7.469131,
          9.970709,
          12.138835,
          6.3282123,
          8.469077,
          10.506101,
          7.9765716,
          9.284793,
          9.285062,
          7.6757455,
          11.632935,
          11.032467,
          12.535487,
          9.560094,
          9.654166,
          11.109779,
          11.127721,
          10.141698,
          9.41974,
          6.7964334,
          6.070375,
          11.610349,
          5.5644383,
          11.3473015,
          10.958715,
          11.689582,
          8.704258,
          7.132994,
          9.935088,
          10.718101,
          8.453708,
          8.393208,
          10.790465,
          9.202699,
          10.708595,
          6.6743994,
          10.786928,
          7.4574695,
          7.721695,
          7.7672014,
          10.938455,
          8.57742,
          8.696134,
          11.416831,
          10.317206,
          10.524201,
          12.81632,
          10.705569,
          10.118783,
          12.556283,
          11.491322,
          6.156922,
          11.192596,
          8.528343,
          7.203301,
          9.553455,
          9.826584,
          12.237252,
          11.181104,
          10.837237,
          7.6138678,
          7.3867617,
          11.702211,
          9.775698,
          6.6129794,
          11.103988,
          5.9037113,
          9.219268,
          12.250954,
          10.27524,
          10.095051,
          9.909322,
          7.1748033,
          11.7782135,
          11.815569,
          11.825883,
          8.412909,
          5.876376,
          10.5037365,
          8.224013,
          11.035966,
          9.51957,
          11.293532,
          11.879569,
          6.7899213,
          11.282853,
          5.5720644,
          6.9735737,
          9.343788,
          7.9963675,
          10.850532,
          11.281832,
          5.823457,
          10.519684,
          8.21719,
          6.931885,
          10.173407,
          6.65412,
          6.2199516,
          12.8482485,
          9.281067,
          10.514041,
          10.109557,
          7.8008623,
          11.074568,
          6.248626,
          7.0445786,
          8.25064,
          6.2814856,
          6.4028454,
          10.893951,
          5.763967,
          12.790263,
          9.68199,
          7.1495404,
          10.039989,
          10.180761,
          12.490825,
          11.419117,
          11.049748,
          7.2121787,
          6.5331326,
          11.774367,
          9.922306,
          7.3067513,
          7.2723484,
          12.46742,
          10.859009,
          6.322502,
          9.752046,
          9.035275,
          8.031494,
          10.182181,
          10.74631,
          9.063431,
          9.672142,
          10.392293,
          7.0901494,
          11.373121,
          8.8835745,
          10.654775,
          9.275808,
          11.583001,
          7.994648,
          7.2858934,
          9.188347,
          8.753624,
          11.558195,
          9.389465,
          10.160593,
          10.415995,
          10.434328,
          11.497228,
          11.889734,
          6.201519,
          12.320649,
          11.443556,
          6.915482,
          10.986088,
          11.552344,
          8.136198,
          7.637554,
          9.394975,
          6.7377377,
          10.18814,
          8.034112,
          8.910453,
          10.39141,
          5.5552006,
          10.191695,
          11.066128,
          6.3423667,
          10.987661,
          10.050409,
          11.708358,
          11.289355,
          12.226375,
          11.908125,
          11.242544,
          10.9963045,
          9.639582,
          10.688217,
          10.836602,
          8.831369,
          6.069696,
          6.037728,
          11.864817,
          10.83413,
          11.222901,
          10.950795,
          10.861256,
          10.190712,
          10.895542,
          6.6450424,
          6.8177996,
          6.9620275,
          10.260129,
          8.65193,
          9.997006,
          9.327494,
          9.033556,
          7.171832,
          10.865095,
          6.427695,
          9.621606,
          9.956665,
          10.181999,
          10.375528,
          10.533351,
          9.905226,
          8.565711,
          7.566582,
          11.205863,
          11.994758,
          10.702938,
          8.687039,
          11.634501,
          11.124644,
          10.739309,
          9.993438,
          12.22694,
          11.745187,
          5.840194,
          7.940742,
          7.867385,
          7.9095035,
          6.895315,
          11.196212,
          9.447832,
          11.095726,
          8.26442,
          9.20645,
          9.046175,
          9.447076,
          6.5635495,
          9.749224,
          9.280503,
          10.876868,
          9.987664,
          11.127576,
          9.449166,
          11.175463,
          6.341276,
          10.847851,
          5.968103,
          6.298781,
          11.556719,
          10.863523,
          12.530339,
          10.297785,
          12.447574,
          11.111553,
          11.048965,
          9.840151,
          7.5519137,
          9.033171,
          9.542686,
          7.808437,
          8.349316,
          8.656636,
          9.661036,
          7.675194,
          10.252678,
          5.590977,
          6.0511622,
          5.743074,
          9.801943,
          9.490139,
          11.799675,
          7.936715,
          5.5729556,
          6.91801,
          9.059997,
          8.9194355,
          10.854781,
          6.573601,
          9.245378,
          8.395552,
          12.3849535,
          7.4981503,
          9.460562,
          8.381231,
          10.069101,
          7.461292,
          11.125247,
          10.869462,
          7.2137504,
          11.568418,
          10.282357,
          9.849645,
          7.2437005,
          9.004564,
          7.89646,
          8.059699,
          12.464063,
          12.059946,
          10.877067,
          12.185608,
          11.293786,
          11.884171,
          11.735784,
          11.45969,
          11.258824,
          9.3809185,
          10.00639,
          11.027682,
          11.557693,
          12.800319,
          6.46765,
          10.461755,
          10.553564,
          6.5427413,
          6.901527,
          11.462294,
          5.87654,
          8.058431,
          7.5496144,
          9.00029,
          5.9672585,
          12.097174,
          10.175559,
          12.392445,
          7.4874883,
          10.260424,
          7.64577,
          8.450481,
          11.738025,
          12.301562,
          5.955225,
          10.61178,
          10.18297,
          7.826794,
          5.96641,
          11.21061,
          7.931872,
          10.994227,
          6.8253975,
          10.9782295,
          8.578743,
          7.2180643,
          10.808588,
          6.0070643,
          7.076847,
          10.326705,
          7.9615073,
          8.049729,
          9.16797,
          9.679691,
          11.147377,
          10.364969,
          10.62389,
          9.339873,
          9.692582,
          6.143773,
          12.7630825,
          8.418128,
          9.939267,
          8.90297,
          12.241154,
          10.806003,
          12.586329,
          7.7155466,
          12.484156,
          10.838154,
          10.840586,
          9.606646,
          6.0222363,
          10.0710745,
          11.765244,
          6.656938,
          12.820241,
          10.826519,
          6.402797,
          9.755957,
          10.366972,
          10.840672,
          12.270263,
          10.573849,
          9.599391,
          10.522695,
          9.567869
         ],
         "y": [
          7.7624373,
          7.0992146,
          7.4946804,
          4.7003913,
          6.1141353,
          5.8080854,
          7.4780593,
          6.9565535,
          6.6216965,
          6.288128,
          6.0735235,
          6.2400346,
          7.1727333,
          5.7810774,
          8.32248,
          7.3237147,
          7.189737,
          5.030469,
          8.841189,
          5.423384,
          6.560643,
          7.1565228,
          7.0001125,
          7.3850317,
          5.9144187,
          7.5320663,
          7.1549897,
          7.0742464,
          7.3495126,
          7.2113013,
          7.4770565,
          4.9736896,
          6.6273613,
          7.6170454,
          7.0946937,
          4.883615,
          8.378366,
          7.508014,
          7.755169,
          9.65851,
          8.234122,
          9.886269,
          6.689095,
          7.3457317,
          8.724835,
          8.305977,
          4.8734236,
          6.669743,
          6.957386,
          5.80992,
          6.244278,
          5.319041,
          5.860111,
          5.932964,
          6.7312503,
          7.8584943,
          6.8351736,
          8.199718,
          6.8228216,
          8.008096,
          5.889541,
          6.8064404,
          5.693204,
          5.8267446,
          5.129733,
          6.8355823,
          4.575741,
          8.525542,
          7.2500844,
          7.543633,
          8.433767,
          7.325476,
          8.013663,
          6.2396274,
          6.4677324,
          5.790035,
          5.238273,
          7.992237,
          7.9018297,
          6.933391,
          8.361264,
          5.9858437,
          8.863017,
          7.888857,
          8.049101,
          9.500836,
          8.491379,
          7.0837283,
          7.269341,
          6.0170565,
          8.019497,
          5.493139,
          5.844096,
          7.4910593,
          5.8818684,
          8.211051,
          6.413582,
          7.398974,
          8.835522,
          6.047509,
          7.166494,
          8.014631,
          6.86902,
          8.878424,
          6.5818925,
          8.646195,
          8.525663,
          6.429036,
          8.759774,
          8.162998,
          7.7123003,
          6.5087557,
          7.352976,
          5.475682,
          8.621243,
          8.368692,
          8.551752,
          9.478212,
          7.963201,
          6.254137,
          7.4151874,
          6.8225675,
          8.090931,
          9.007489,
          6.843379,
          5.4863605,
          8.630686,
          6.41421,
          8.767666,
          6.229046,
          5.4782567,
          7.236944,
          6.4948034,
          7.2404046,
          7.3460617,
          6.1221237,
          6.79187,
          7.867712,
          6.816863,
          7.323856,
          6.1953783,
          6.1635017,
          7.563268,
          6.323353,
          5.7015777,
          5.922817,
          4.554934,
          7.1499786,
          5.9735465,
          5.395417,
          6.9794774,
          8.194538,
          7.4056306,
          5.502537,
          5.1506205,
          6.1183033,
          7.3157835,
          5.3961577,
          6.826477,
          8.381223,
          5.944247,
          6.425976,
          6.7421427,
          7.6289954,
          6.5437975,
          6.1038017,
          6.2573047,
          8.034281,
          6.9758105,
          5.305505,
          9.495641,
          7.9088626,
          8.618414,
          6.7895627,
          6.3670397,
          7.278336,
          9.041786,
          8.264166,
          7.547752,
          5.5155187,
          5.870891,
          6.775745,
          6.7718954,
          5.223461,
          7.9650803,
          7.097014,
          7.9658055,
          7.8950057,
          5.4864006,
          7.9056587,
          6.310617,
          7.8810735,
          7.2831683,
          8.598932,
          8.601328,
          6.947869,
          8.44994,
          5.293187,
          6.6069136,
          6.7152534,
          6.0544424,
          6.1895022,
          5.775221,
          5.815566,
          6.360264,
          6.9254026,
          8.393118,
          7.226368,
          7.536358,
          7.132645,
          5.269867,
          6.301485,
          8.645433,
          6.6359572,
          7.3127747,
          7.1527615,
          8.912536,
          6.9776793,
          7.271753,
          6.0788455,
          6.606335,
          6.9330974,
          7.6815476,
          7.2839017,
          4.857589,
          7.5237117,
          5.9977293,
          6.3435845,
          6.5586157,
          6.774956,
          7.196627,
          6.477557,
          7.0658236,
          7.9585366,
          5.8929496,
          6.546272,
          5.481347,
          5.5698886,
          8.05016,
          7.624102,
          7.7574816,
          6.6387815,
          6.175514,
          6.393952,
          6.3155527,
          5.8662505,
          7.4936438,
          6.7068453,
          6.9869285,
          6.088302,
          6.0859923,
          7.028339,
          6.9912024,
          7.2137675,
          7.96413,
          5.9242377,
          6.9839296,
          6.68429,
          7.202621,
          8.006234,
          7.409583,
          8.420027,
          7.2563705,
          6.8683352,
          6.7166815,
          6.1297903,
          7.1138444,
          7.108122,
          7.0585194,
          7.4936795,
          6.2791963,
          6.5299134,
          7.351376,
          9.074539,
          8.809356,
          6.763176,
          6.549422,
          6.3209686,
          7.2408385,
          7.0143437,
          8.564794,
          8.88338,
          5.537091,
          6.797456,
          6.373538,
          8.599913,
          6.6239815,
          5.298261,
          7.1969924,
          4.576246,
          7.8686194,
          5.4277215,
          8.356646,
          7.039864,
          7.3850203,
          6.811564,
          7.3965974,
          7.407112,
          9.49723,
          6.9251184,
          6.695528,
          7.0327806,
          8.25597,
          6.3145103,
          7.108486,
          6.484054,
          6.396406,
          8.050728,
          7.0349927,
          9.916639,
          9.180453,
          6.7929,
          6.1588683,
          5.6536098,
          8.228321,
          5.572864,
          7.443111,
          8.459299,
          5.963541,
          5.0922875,
          8.0345955,
          8.658225,
          7.4505877,
          5.842535,
          6.4509706,
          5.5561266,
          6.9277477,
          5.70512,
          6.448156,
          7.100325,
          6.0107183,
          5.0917273,
          8.010121,
          5.692502,
          7.00115,
          5.6814156,
          4.9951468,
          5.3591914,
          7.8531766,
          7.7466354,
          5.1599154,
          6.4060926,
          7.1076713,
          5.7669854,
          6.8595963,
          6.916217,
          8.354111,
          6.9838448,
          9.257628,
          4.9063993,
          8.166027,
          8.581117,
          6.9097075,
          7.652037,
          7.3793554,
          7.393379,
          6.7648664,
          8.1286,
          6.7459793,
          6.1913977,
          7.2316422,
          7.8626194,
          8.418545,
          5.1504273,
          7.9506216,
          6.6562667,
          7.2645063,
          7.9578357,
          8.000212,
          6.7744575,
          6.8262925,
          6.9772916,
          6.72037,
          5.7673707,
          7.2499523,
          5.4886875,
          7.3378663,
          6.6700306,
          5.476509,
          5.96554,
          4.2401953,
          6.916858,
          5.055584,
          5.2633796,
          7.905335,
          6.020643,
          8.259091,
          7.6698594,
          8.027445,
          5.6210456,
          6.5367227,
          7.87065,
          5.9070454,
          5.804149,
          9.270805,
          7.703536,
          5.426538,
          6.5901804,
          6.988877,
          5.057237,
          6.2624693,
          5.004399,
          7.2196684,
          5.4448156,
          9.2852125,
          5.992734,
          6.185265,
          7.0331135,
          6.0890055,
          7.696109,
          7.873629,
          7.321772,
          4.8243184,
          6.122366,
          6.3633184,
          7.2029204,
          6.3916473,
          8.140618,
          7.872483,
          8.727595,
          7.833229,
          8.373502,
          6.836212,
          7.4162126,
          6.7645807,
          5.3148084,
          7.0596023,
          7.6635623,
          5.1867347,
          7.5173993,
          6.3927336,
          7.8074393,
          6.564777,
          6.1007085,
          6.6713076,
          8.533517,
          6.7518663,
          7.730478,
          8.262638,
          6.7982106,
          7.941332,
          6.9696584,
          7.234713,
          7.951994,
          7.052135,
          7.110107,
          7.355507,
          7.6789575,
          6.9955,
          8.541609,
          6.548071,
          5.1345224,
          5.1082883,
          7.64267,
          5.500724,
          7.5949516,
          5.405945,
          5.2082534,
          5.055926,
          7.000248,
          6.7611957,
          8.282621,
          5.9985104,
          8.05157,
          7.364068,
          5.965815,
          6.524167,
          6.658987,
          8.428317,
          5.2528725,
          6.99381,
          9.321733,
          7.934239,
          6.740361,
          6.909808,
          6.783252,
          6.6693997,
          7.494522,
          9.707498,
          7.0373473,
          5.7283053,
          8.229805,
          5.733096,
          5.653397,
          6.103685,
          7.7248907,
          7.7985463,
          5.418897,
          6.4532657,
          7.936924,
          6.415051,
          6.4613414,
          7.97669,
          6.1401396,
          5.761081,
          7.6216893,
          8.618869,
          6.6594443,
          6.5643854,
          6.9767694,
          5.9034686,
          4.672471,
          5.9748964,
          6.4094014,
          4.579179,
          4.245899,
          6.529879,
          7.614442,
          9.484046,
          6.974668,
          5.8823814,
          6.156114,
          6.765875,
          7.9995604,
          7.3841825,
          9.425253,
          6.8294463,
          8.639936,
          9.188714,
          6.5938077,
          5.2348275,
          8.945449,
          5.1906667,
          6.8231864,
          9.169703,
          8.256457,
          5.852794,
          7.05798,
          5.9913406,
          8.730575,
          6.512029,
          6.893254,
          7.3290243,
          7.2170815,
          6.1983733,
          8.198039,
          6.8394055,
          7.97892,
          7.337338,
          7.409058,
          4.8594513,
          6.099293,
          6.735064,
          7.418854,
          7.537637,
          5.184953,
          8.229688,
          7.5166717,
          6.3220835,
          6.669317,
          6.8043027,
          5.7308607,
          7.2926326,
          7.806714,
          5.3172226,
          8.0808,
          5.693134,
          7.6803975,
          5.708608,
          8.182068,
          5.7939544,
          8.131949,
          7.259315,
          5.893104,
          7.2446284,
          7.4297976,
          5.2049556,
          6.671188,
          6.5350294,
          7.525311,
          8.934616,
          7.1517153,
          6.081465,
          6.668133,
          6.7224584,
          6.581221,
          7.0971494,
          5.9479256,
          6.703111,
          6.106073,
          7.373462,
          7.777721,
          6.2316866,
          7.7363896,
          6.1507716,
          5.935264,
          7.048292,
          6.236308,
          9.353816,
          7.9629855,
          7.144653,
          8.115322,
          6.0384197,
          5.7933617,
          6.5986996,
          7.188949,
          6.882442,
          5.8337502,
          5.9174604,
          6.445364,
          7.64386,
          7.0831857,
          7.210592,
          6.1501927,
          8.166925,
          7.592242,
          7.520027,
          6.3556576,
          7.1317835,
          4.668933,
          6.8931155,
          8.165647,
          5.6292825,
          7.5053825,
          8.443086,
          5.314346,
          7.9240603,
          5.1869555,
          5.982844,
          7.187258,
          5.373383,
          9.441325,
          5.7426686,
          7.2533007,
          7.626825,
          7.30758,
          8.569622,
          7.338402,
          6.742004,
          6.7540135,
          8.146074,
          6.3995285,
          6.6721287,
          6.8081126,
          5.134747,
          7.451972,
          8.611238,
          7.144816,
          6.612951,
          7.903335,
          6.651175,
          5.2496862,
          5.706994,
          6.6855364,
          6.7123866,
          6.452284,
          7.383963,
          8.030371,
          8.844863,
          5.5557413,
          7.8954363,
          7.5463686,
          5.6108065,
          5.4985824,
          5.401269,
          5.392696,
          6.6476912,
          6.188576,
          8.631191,
          6.5324435,
          7.0076375,
          6.500548,
          6.8068333,
          6.99108,
          6.166879,
          5.61337,
          6.516234,
          7.329131,
          7.5716295,
          6.9141026,
          8.074387,
          7.6177735,
          6.6734214,
          6.791957,
          7.2996607,
          5.339468,
          5.475785,
          6.7308087,
          6.7475715,
          6.73307,
          8.802076,
          6.630856,
          6.785958,
          6.6458507,
          6.157627,
          6.053772,
          7.576113,
          8.433976,
          6.1984115,
          6.8126907,
          4.735025,
          8.298387,
          7.330535,
          7.426992,
          5.2383995,
          8.354967,
          6.8061786,
          4.4607725,
          6.901106,
          9.518906,
          6.4676647,
          7.244686,
          7.211187,
          7.358038,
          6.386791,
          5.9965124,
          8.62603,
          7.367381,
          7.9486184,
          6.8285904,
          6.5447464,
          7.677772,
          7.003786,
          7.710994,
          8.233874,
          6.958384,
          8.230731,
          8.30045,
          7.1115584,
          6.647209,
          7.221525,
          6.5895658,
          7.89908,
          6.8095956,
          7.7476525,
          5.3635373,
          5.752584,
          8.292586,
          6.7454996,
          4.9442635,
          7.4263463,
          6.6215405,
          5.2236776,
          6.8895755,
          6.5713887,
          6.595894,
          5.52501,
          7.8670597,
          4.7602873,
          6.633775,
          9.683169,
          6.7557745,
          5.797963,
          8.440301,
          6.518515,
          7.7048206,
          7.4672003,
          7.724882,
          7.2052956,
          6.9253087,
          5.631764,
          6.7707124,
          6.7341413,
          6.2089114,
          6.3660774,
          7.3875275,
          7.111633,
          8.883604,
          7.0380583,
          7.341195,
          7.2926445,
          6.072011,
          5.8190703,
          7.192781,
          5.23691,
          4.871472,
          6.2089767,
          5.71879,
          7.263083,
          6.6547103,
          8.064316,
          8.096351,
          6.9517994,
          5.1882267,
          6.9982324,
          6.7486897,
          7.2599645,
          4.577568,
          5.4316883,
          6.230804,
          8.242441,
          6.5476217,
          7.107446,
          6.610633,
          6.2866936,
          6.0514297,
          7.133192,
          6.5782356,
          8.22844,
          9.306154,
          5.5734477,
          6.884263,
          6.1706157,
          6.7330117,
          9.299951,
          8.010161,
          7.822808,
          6.308178,
          6.1911864,
          5.2711873,
          5.9788013,
          5.9344406,
          7.1871414,
          6.3976436,
          6.5874076,
          8.3261,
          7.5055375,
          7.2744527,
          5.992118,
          5.2333455,
          6.987593,
          6.4417562,
          7.686654,
          7.051575,
          6.2582507,
          7.322077,
          7.9584517,
          8.302314,
          6.1092076,
          5.3292313,
          8.597738,
          7.538718,
          5.0362887,
          7.5318117,
          4.998298,
          6.4556303,
          5.282888,
          8.64669,
          7.496611,
          6.9629064,
          5.392832,
          6.350041,
          7.815082,
          7.186262,
          6.2761226,
          5.1599994,
          9.013651,
          5.3966002,
          8.427613,
          6.4490533,
          7.0475607,
          7.4569325,
          6.3468027,
          8.29838,
          8.86261,
          5.76514,
          6.0642204,
          8.022338,
          7.1240025,
          8.256363,
          6.814725,
          6.9901757,
          5.141991,
          7.091536,
          5.20106,
          8.464027,
          5.210167,
          6.1458764,
          5.984326,
          9.509081,
          6.3004956,
          6.553945,
          7.542101,
          5.355805,
          7.3270216,
          6.680555,
          7.94605,
          6.5705185,
          6.661922,
          7.6456923,
          7.6367726,
          5.539662,
          5.5853257,
          5.9694977,
          8.338077,
          7.076236,
          9.4363165,
          7.6702137,
          6.979465,
          6.0756006,
          7.1123204,
          6.1845922,
          6.8038626,
          7.1161795,
          6.94439,
          6.738654,
          8.2968025,
          6.959876,
          9.488571,
          6.9127774,
          5.320925,
          6.332913,
          6.223242,
          7.4484215,
          9.175692,
          7.284978,
          7.418145,
          5.186474,
          7.1217976,
          7.2760425,
          8.242357,
          5.598449,
          4.5858755,
          4.9142413,
          6.4842134,
          7.2420535,
          6.2704535,
          6.8864117,
          6.122321,
          9.332967,
          6.852992,
          8.006943,
          6.6814675,
          8.216865,
          6.6734424,
          6.9527216,
          8.089498,
          6.8396473,
          6.630706,
          7.3147974,
          7.057692,
          4.8392444,
          7.8207207,
          5.4228544,
          5.048129,
          6.768399,
          6.389678,
          5.4844904,
          5.4537597,
          7.0775614,
          6.284281,
          7.171437,
          5.4040933,
          7.547697,
          7.6618133,
          8.50596,
          6.4841266,
          6.8648663,
          7.2219944,
          6.5212464,
          5.892418,
          6.7110353,
          6.2945714,
          6.9581013,
          5.3020625,
          8.38739,
          7.7576733,
          7.086153,
          4.6209407,
          7.762398,
          6.5798182,
          5.9023914,
          5.9242783,
          6.247124,
          6.863145,
          6.918148,
          7.113879,
          6.4996753,
          7.2908645,
          7.20129,
          5.5967927,
          6.5766387,
          7.3794675,
          5.983366,
          7.7258873,
          6.4911227,
          7.44556,
          6.301877,
          7.075533,
          5.6107407,
          6.273188,
          7.4740615,
          7.2866297,
          5.3783946,
          7.3284583,
          7.418229,
          7.8354354,
          8.862649,
          6.5903773,
          7.616888,
          5.0550904,
          5.455689,
          5.287615,
          7.2163863,
          7.424304,
          6.812213,
          6.8196006,
          6.049993,
          7.9542184,
          6.272918,
          7.224719,
          5.9727616,
          6.2896323,
          6.0497994,
          6.649037,
          8.285947,
          6.3826747,
          8.370527,
          7.950648,
          5.878933,
          7.5772204,
          7.0748134,
          7.0203238,
          8.561181,
          5.629006,
          5.9305,
          7.1698666,
          6.869379,
          8.238832,
          5.2126193,
          4.8406353,
          7.5189204,
          7.362734,
          7.8969655,
          9.367653,
          6.64603,
          7.025038,
          6.9538636,
          9.099987,
          6.540967,
          7.5215616,
          4.8260994,
          6.495539,
          7.1293163,
          6.970534,
          6.6783442,
          9.668096,
          6.9191003
         ]
        },
        {
         "hoverinfo": "text",
         "hovertext": [
          "\"preferred to fly on easyJet\"",
          "\"no attempt to provide fresh or hot foo\"",
          "\"a positive experience\"",
          "\"next time I will fly Ryanair\"",
          "“crew were polite”",
          "\"cabin crew were very pleasant and helpful\"",
          "\"cabin crews remain the best in the business\"",
          "\"has really gone downhill\"",
          "\"BA has gone downhill\"",
          "\"no one to escort you to the seat\"",
          "\"the CEO is running BA to the ground\"",
          "\"Crew very friendly\"",
          "\"stop nickel and diming\"",
          "\"disgraceful that a full fare paying passenger should be treated like this\"",
          "\"out of date airplanes\"",
          "\"The most miserable rip off\"",
          "\"thoroughly recommend it\"",
          "\"service .. we don't really care\"",
          "\"the crew were fantastic\"",
          "\"Excellent service levels\"",
          "\"a no frills business class\"",
          "“premium price for a sub-par product”",
          "\"an enjoyable experience\"",
          "\"hand baggage only fare\"",
          "\"avoid it at all cost!\"",
          "\"BA club world is a farce\"",
          "\"BA has a lot to do to regain its standing\"",
          "\"how much of a budget are they on now?\"",
          "\"FA's were very friendly\"",
          "\"cabin staff polite and friendly\"",
          "\"BA need to invest in a new fleet\"",
          "\"Never again BA\"",
          "\"it was extremely underwhelming\"",
          "\"staff was very kind and friendly\"",
          "\"budget experience at premium price\"",
          "\" a very acceptable flight\"",
          "\"absurd cost-cutting measure\"",
          "\"the value was very good\"",
          "\"little concern for customer service\"",
          "\"Cost cutting was in evidence\"",
          "\"no appeal whatsoever anymore\"",
          "\"another great experience\"",
          "\"Disappointing meal\"",
          "\"dreadful seats by the toilet\"",
          "\"legroom is an absolute joke\"",
          "\"Boarding was disappointing\"",
          "\"negligent in the extreme\"",
          "\"cost cutting affects all cabins\"",
          "\"not a bad flight\"",
          "\"space around the seat is cramped\"",
          "\"told snacks had been withdrawn\"",
          "\"service has gone downhill\"",
          "\"journey was chaotic and stressful\"",
          "\"a surly disapproving stewardess\"",
          "\"treating premium passengers with contempt\"",
          "\"1st product is very mediocre\"",
          "\"BA did a good job\"",
          "\"what an earth is going on at BA\"",
          "\"exceptionally ordinary flight\"",
          "\"airline is in terminal decline\"",
          "\"Overall a very pleasant trip\"",
          "\"This flight was a delight\"",
          "\"overall, a reasonable flight\"",
          "\"not up to par with competitors\"",
          "\"old Club Class a huge disappointment\"",
          "\"tinted windows was an issue\"",
          "\"cost cutting beyond belief\"",
          "\"my worst experience in business class\"",
          "\"no great expectations\"",
          "\"An average experience\"",
          "\"more than acceptable service\"",
          "\"used to be better than this\"",
          "\"the worst airline so far\"",
          "\"service on BA really is terrible\"",
          "\"cabin crew very apologetic\"",
          "\"crew very friendly and professional\"",
          "\"staff were extremely friendly\"",
          "\"lack of enforcement of the carry on allowance\"",
          "\"this is a humourless service\"",
          "\"from bad to worse\"",
          "\"a very comfortable flight\"",
          "\"A huge disappointment\"",
          "\"another underwhelming experience\"",
          "\"could not have been better\"",
          "\"BA is going in the wrong direction\"",
          "\"Most uncomfortable flight\"",
          "\"The seat was uncomfortable\"",
          "\"only been offered half a glass of water\"",
          "\"BA is now grossly overpriced\"",
          "\"still my first choice\"",
          "\"other carriers must be laughing\"",
          "\"cabin crew were very friendly\"",
          "\"saved £10 for two bunch of flowers\"",
          "\"really disappointed with BA\"",
          "\"onboard service was efficient\"",
          "\"are not a 4 star airline\"",
          "\"nothing too much trouble\"",
          "\"I find BA incredibly tacky\"",
          "\"plane was clean and air quality very good\"",
          "\"Efficient staff\"",
          "\"BA please admit your mistake\"",
          "\"rate this just as a mediocre journey\"",
          "\"a bare-bones airline\"",
          "\"downgraded their economy service\"",
          "\"BA is now a budget airline\"",
          "\"happily fly with them again\"",
          "\"they did not care\"",
          "\"wasn't worth the hassle for me\"",
          "\"service was below standard\"",
          "\"attendants were very attentive\"",
          "\"overall truly awful experience\"",
          "\"smacks of continued cost-cutting\"",
          "\"not too bad, all in all\"",
          "\"service levels are dropping so low\"",
          "\"let down by inferior product\"",
          "\"more uncomfortable than many airlines\"",
          "\"was a very enjoyable flight\"",
          "\"I was pleasantly surprised\"",
          "\"a low cost experience\"",
          "\"pretty good, despite the delay\"",
          "\"always hit and mostly miss\"",
          "\"Far from pleasant experience\"",
          "\"do not serve free water\"",
          "\"Absolutely shambolic customer service\"",
          "\"very pleasantly surprised\"",
          "“appalling service”",
          "\"a good experience with no major complaints\"",
          "\"never seen an airline deteriorate so quickly\"",
          "\"uncomfortable, miserly experience \"",
          "\"listening to cabin crew moaning\"",
          "\"Very poor service\"",
          "\"feel disrespected and undervalued\"",
          "\"A very positive experience\"",
          "\"pathetic cost cutting antics\"",
          "\"would I fly in BA First again? No\"",
          "\"one of the worst airlines\"",
          "\"crew amazingly helpful\"",
          "\"friendly, attentive and helpful\"",
          "\"treat your customers like idiots\"",
          "\"well below every major competitor\"",
          "\"offer a kids free zone\"",
          "\"not worth paying for First Class\"",
          "\"Inflight service was basic\"",
          "\"using a Qatar Airways plane\"",
          "\"experience has deteriorated significantly\"",
          "\"see no point in using BA now\"",
          "\"feel of a budget carrier\"",
          "\"contempt for its customers\"",
          "\"recommend BA's new Club Class\"",
          "\"BA has fallen even lower\"",
          "\"clean plane, punctual service, pleasant cabin crew\"",
          "\"staff were very efficient\"",
          "\"crew were superb and professional\"",
          "\"Overall a very lovely flight\"",
          "\"flight was one of the worst\"",
          "\"need to revaluate their offering\"",
          "\"British Airways happy to encourage the spread of Covid\"",
          "\"convenient to where I live\"",
          "\"letting themselves down badly\"",
          "\"underwhelming due to bean counters\"",
          "\"something has gone terribly wrong\"",
          "\"a dedicated and professional crew\"",
          "\"BA are putting the 'economy' back in premium economy\"",
          "\"pay again to pre-reserve seats\"",
          "\"flight time should justify at least a sandwich\"",
          "\"BA now stands for Basic Airways\"",
          "\"a very pleasant flight\"",
          "\"get your act together\"",
          "\"are a bottom tier airline\"",
          "\"offered excellent attentive service\"",
          "\"Disappointing experience\"",
          "\"is quite clearly in decline\""
         ],
         "marker": {
          "opacity": 0.5,
          "size": 5
         },
         "mode": "markers+text",
         "name": "Cabin Cleanliness and Service Standards",
         "text": [
          "",
          "",
          "",
          "",
          "",
          "",
          "",
          "",
          "",
          "",
          "",
          "",
          "",
          "",
          "",
          "",
          "",
          "",
          "",
          "",
          "",
          "",
          "",
          "",
          "",
          "",
          "",
          "",
          "",
          "",
          "",
          "",
          "",
          "",
          "",
          "",
          "",
          "",
          "",
          "",
          "",
          "",
          "",
          "",
          "",
          "",
          "",
          "",
          "",
          "",
          "",
          "",
          "",
          "",
          "",
          "",
          "",
          "",
          "",
          "",
          "",
          "",
          "",
          "",
          "",
          "",
          "",
          "",
          "",
          "",
          "",
          "",
          "",
          "",
          "",
          "",
          "",
          "",
          "",
          "",
          "",
          "",
          "",
          "",
          "",
          "",
          "",
          "",
          "",
          "",
          "",
          "",
          "",
          "",
          "",
          "",
          "",
          "",
          "",
          "",
          "",
          "",
          "",
          "",
          "",
          "",
          "",
          "",
          "",
          "",
          "",
          "",
          "",
          "",
          "",
          "",
          "",
          "",
          "",
          "",
          "",
          "",
          "",
          "",
          "",
          "",
          "",
          "",
          "",
          "",
          "",
          "",
          "",
          "",
          "",
          "",
          "",
          "",
          "",
          "",
          "",
          "",
          "",
          "",
          "",
          "",
          "",
          "",
          "",
          "",
          "",
          "",
          "",
          "",
          "",
          "",
          "",
          "",
          "",
          "",
          "",
          "",
          "",
          "",
          "",
          "",
          "",
          "",
          "",
          "",
          "",
          ""
         ],
         "textfont": {
          "size": 12
         },
         "type": "scattergl",
         "x": [
          11.917598,
          10.589621,
          11.680972,
          9.707301,
          11.77809,
          11.414605,
          8.412404,
          11.757758,
          11.1971035,
          10.997093,
          11.202758,
          11.45431,
          11.673503,
          10.561337,
          10.956412,
          10.618269,
          11.230692,
          11.590586,
          11.354181,
          11.249627,
          11.75395,
          10.305637,
          11.814985,
          8.452782,
          8.566828,
          10.902772,
          10.775831,
          11.162951,
          11.5771,
          10.929457,
          10.7158985,
          10.503334,
          11.265201,
          11.123995,
          11.861691,
          11.389246,
          11.214521,
          9.044422,
          10.818854,
          11.374156,
          10.646661,
          11.839229,
          11.940014,
          11.049342,
          10.699001,
          10.462387,
          11.035853,
          11.51262,
          11.45257,
          11.229948,
          11.436741,
          9.648094,
          9.414373,
          11.299638,
          10.300481,
          11.387372,
          11.234483,
          10.286297,
          10.998127,
          9.543903,
          11.092319,
          11.635269,
          11.078111,
          11.29461,
          10.753147,
          11.094828,
          11.746846,
          11.0195875,
          11.6502905,
          11.599503,
          11.534826,
          9.216199,
          9.370366,
          8.692579,
          10.775996,
          11.377724,
          11.329339,
          9.596407,
          11.796193,
          9.621256,
          11.058457,
          11.224182,
          11.411786,
          11.303757,
          10.579569,
          10.736976,
          11.547199,
          11.375157,
          10.9407,
          10.765436,
          10.908457,
          9.933263,
          11.390535,
          10.196484,
          11.346447,
          9.221407,
          11.322219,
          9.548962,
          11.0837345,
          11.049582,
          9.468609,
          11.456122,
          9.6090355,
          10.686454,
          9.532482,
          11.214785,
          9.844334,
          11.510127,
          11.280218,
          11.050716,
          10.9605,
          10.694703,
          11.313236,
          9.463087,
          11.076546,
          11.628309,
          11.228113,
          11.09237,
          11.469902,
          8.875359,
          10.661351,
          11.846855,
          9.28902,
          10.864034,
          11.72382,
          10.601788,
          11.480718,
          9.4182205,
          10.219903,
          11.039562,
          11.3851185,
          10.541399,
          11.310872,
          9.433419,
          11.362955,
          10.569804,
          10.86686,
          11.35502,
          11.335327,
          10.447372,
          10.836684,
          10.179491,
          11.03917,
          11.341694,
          10.756126,
          9.360776,
          11.369508,
          9.378396,
          11.681206,
          11.11696,
          11.007482,
          9.721389,
          11.382518,
          11.688502,
          10.376677,
          11.291048,
          8.790424,
          9.481461,
          9.55669,
          11.413313,
          11.280602,
          11.048426,
          10.933791,
          11.418397,
          9.201385,
          9.424235,
          11.15904,
          9.5702505,
          9.355909,
          11.394207,
          10.571348,
          10.499734
         ],
         "y": [
          7.398626,
          8.239435,
          6.2762036,
          7.803026,
          7.6450586,
          6.2802186,
          7.596552,
          7.5738688,
          6.47143,
          7.866952,
          6.995961,
          7.5037475,
          7.765499,
          8.132625,
          7.653091,
          7.922517,
          7.792406,
          6.081217,
          6.7430334,
          7.342226,
          6.4749804,
          7.80755,
          6.995331,
          6.9035964,
          7.456353,
          8.5420685,
          8.105485,
          7.7418747,
          7.4259996,
          7.741087,
          7.834915,
          8.568816,
          8.1654825,
          8.298327,
          7.3909035,
          7.5858965,
          8.131524,
          6.553701,
          8.163159,
          6.5007315,
          8.519601,
          7.4554186,
          7.903838,
          7.9399276,
          8.045407,
          7.8873463,
          8.128452,
          7.6008735,
          6.31687,
          8.051294,
          7.6744905,
          8.172073,
          7.00244,
          8.143608,
          7.80176,
          7.59074,
          6.7229805,
          8.221983,
          8.496575,
          7.5457273,
          6.3531156,
          6.8049664,
          6.4999633,
          6.991721,
          8.174686,
          7.052305,
          7.6084776,
          7.3904195,
          7.676896,
          6.2160106,
          6.934315,
          7.8358526,
          7.7608433,
          6.795421,
          8.021044,
          7.6670184,
          6.8157,
          7.9493446,
          7.11986,
          7.8092723,
          6.9460874,
          7.3509603,
          7.6135073,
          7.3024035,
          8.225768,
          7.353954,
          8.254624,
          6.2996373,
          6.8606477,
          8.812379,
          7.6298485,
          9.774543,
          7.5514455,
          8.252989,
          6.15248,
          6.611388,
          7.425984,
          7.5968204,
          6.502787,
          6.6802826,
          7.6476955,
          6.401445,
          7.592336,
          8.156677,
          7.5511985,
          6.716416,
          7.3649836,
          6.5229807,
          8.028262,
          7.1485677,
          7.835282,
          8.043038,
          6.3424373,
          8.117853,
          7.0243125,
          6.595946,
          6.9339733,
          7.668037,
          7.998297,
          6.718826,
          7.7846932,
          7.860541,
          7.667385,
          7.3774047,
          7.7168446,
          8.263972,
          6.666184,
          7.6197715,
          8.084372,
          8.061324,
          7.694483,
          7.9547524,
          6.688844,
          7.5999985,
          7.6449842,
          8.126124,
          7.9284053,
          6.6183114,
          7.8306613,
          7.615922,
          6.9778905,
          8.003785,
          8.502954,
          6.1222043,
          8.777819,
          7.6891446,
          6.469288,
          6.9285045,
          7.746529,
          7.850852,
          8.075184,
          6.0859756,
          6.7778068,
          7.884397,
          8.579291,
          7.6787486,
          7.248241,
          7.932722,
          7.825227,
          7.5778913,
          6.4158607,
          7.189364,
          8.620019,
          7.0564437,
          7.813884,
          7.624996,
          7.8684416,
          7.5991254,
          7.7994204,
          7.527437,
          7.812108,
          8.067073
         ]
        },
        {
         "hoverinfo": "text",
         "hovertext": [
          "\"on a par with low cost carriers\"",
          "\"the wines are not good\"",
          "\"cabin crew were faultless\"",
          "\"very pleasant crew \"",
          "\"there was little to dislike\"",
          "\"First class was third rate\"",
          "\"was nicely impressed\"",
          "\"been upgraded to Club World\"",
          "\"most uncomfortable plane\"",
          "\"they are just an embarrassment\"",
          "\"A national disgrace\"",
          "\"very slick on board experience\"",
          "\"dreadful, stressful experience\"",
          "\"return flight extremely poor\"",
          "\"transformation into an overpriced EasyJet\"",
          "\"an entirely reasonable flight\"",
          "\"Overall a decent flight\"",
          "\"dreadful business class experience\"",
          "\"everything was comfy enough\"",
          "\"the flight was enjoyable\"",
          "\"overall, it’s a good option\"",
          "\"become a low cost airline\"",
          "\"crew very polite and helpful\"",
          "\"staff were friendly and efficient\"",
          "\"Food selection mediocre\"",
          "\"Poor cabin staff attitude\"",
          "\"Short-sighted management or what?\"",
          "\"flight was late and chaotic\"",
          "\"so much BA could do to improve\"",
          "\"made their economy experience so miserable\"",
          "\"complete waste of money\"",
          "\"overall a pleasant flight\"",
          "\"pleased with all aspects\"",
          "\"Not complete return to old days\"",
          "\"BA should wake up\"",
          "\"the same price as normal\"",
          "\"business class is very cramped\"",
          "\"effectively a low cost airline\"",
          "\"not surprised they are in trouble\"",
          "\"seat comfort has been sacrificed\"",
          "\"perhaps BA are finally listening\"",
          "\"seat was uncomfortable\"",
          "\"cabin crew was professional\"",
          "\"Overall a good flight\"",
          "\"pole vault over passenger's legs\"",
          "\"service is like budget airlines\"",
          "\"it was a very nice flight\"",
          "\"four rows away from my partner\"",
          "\"for once I had the meal\"",
          "\"Charging to choose seats\"",
          "\"a very enjoyable flight\"",
          "\"not customer focussed in any way whatsoever\"",
          "\"Very happy with the service\"",
          "\"Great service on this flight\"",
          "\"both involuntarily downgraded\"",
          "\"see the decline in quality from BA\"",
          "\"Service was fantastic\"",
          "\"if possible never fly BA again\"",
          "\"experience was a bit shoddy\"",
          "\"won the race to the bottom\"",
          "\"another less than satisfactory experience\"",
          "\"Much improved, well done\"",
          "\"last we saw of the crew for 4 hours\"",
          "\"food and drink was pretty good\"",
          "\"10/10 for this flight\"",
          "\"nothing more than no-frills airline\"",
          "\"the utmost courtesy and assistance\"",
          "\"I have to write a positive review\"",
          "\"pre-selected seats retained\"",
          "\"No room to move\"",
          "\"onboard service was abysmal\"",
          "\"cheaper than competitors\"",
          "\"a decent enough flight\"",
          "\"don't expect much nowadays from BA\"",
          "\"a high cost no frills airline\"",
          "\"pleasant and well organised\"",
          "\"cutting too many corners\"",
          "\"75 minutes to get boarding card\"",
          null,
          "\"has become a disgrace\"",
          "\"we shall be flying with you again\"",
          "\"Overall very disappointing\"",
          "\"Food and drinks are expensive\"",
          "\"I will not be using BA again\"",
          "\"service varies each time\"",
          "\"food just gets worse each trip\"",
          "\"crew were always ready to top up drinks\"",
          "\"Club Europe had no advantages\"",
          "\"flight was pretty regular\"",
          "\"well below BA's competitors\"",
          "\"Goodbye British Airways\"",
          "\"a total embarrassment\"",
          "\"run by bean counters\"",
          "\"excellent and friendly cabin crew\"",
          "\"budget airlines can do better\"",
          "\"return flight was faultless\"",
          "\"Overall a good flight\"",
          "\"worst business class\"",
          "\"friendly and efficient service\"",
          "\"provided a chaotic service\"",
          "\"a waste of money\"",
          "\"bothered by the adjacent toilets\"",
          "\"Cabin crew chatting and ignored me\"",
          "\"seating is still hopeless\"",
          "\"a very friendly and welcoming crew\"",
          "\"plane had not been cleaned well\"",
          "\"No online check-in available\"",
          "\"delayed 1 hour due to no cleaners\"",
          "\"tired, worn interior\"",
          "\"superb service was provided\"",
          "\"pathetic compensation\"",
          "\"good on this occasion\"",
          "\"these were pleasant flights\"",
          "\"Leg room was atrocious\"",
          "\"disappointed by the service\"",
          "\"depths to which BA have descended\"",
          "\"less comfortable than older style\"",
          "\"a very enjoyable flight\"",
          "\"staff try so very hard to please\"",
          "\"very poor and disappointing experience\"",
          "\"pleasure to fly with a great airline\"",
          "\"BA has gone downhill\"",
          "\"a good deal on the flight\"",
          "\"staff friendly but professional\"",
          "\"Outbound flight was fine\"",
          "\"cabin crew were excellent\"",
          "\"Cabin crew - Treated passengers as an inconvenience\"",
          "\"expect you to pay to reserve seats\"",
          "\"nearly 2 hours to be served\"",
          "\"better than most shorthaul\"",
          "\"decline across all classes\"",
          "\"BA is going to the dogs\"",
          "\"BA have totally lost the plot\"",
          "\"do not care for passengers\"",
          "\"let down by the ground services\"",
          "\"it's by no measure good\"",
          "\"can only be described as appalling\"",
          "\"Club World configuration is odd \"",
          "\"gripe is about the current food service\"",
          "\"am soon likely to hate it\"",
          "\"nothing special to recommend\"",
          "\"standards on BA have plummeted\"",
          "\"On arrival no bags\"",
          "\"a bit disappointing really\"",
          "\"respect for BA standards thoroughly destroyed\"",
          "\"Worst BA flight ever!\"",
          "\"could not fault one aspect of the service\"",
          "\"Time to find a new CEO I think\"",
          "\"cost of the luggage was outrageous \"",
          "\" cutbacks are a cut too far\"",
          "“we will rethink BA moving forward”",
          "\"ditch this non responsive airline\"",
          "\"Full credit to the crew\"",
          "\"Hopelessly inadequate product\"",
          "\"British Airways, you need improve\"",
          null,
          "\"no one cares about anything\"",
          "\"Excellent customer service\"",
          "\"Food was fine and service friendly\"",
          "\"never going to choose BA again\"",
          "\"further delay was likely\""
         ],
         "marker": {
          "opacity": 0.5,
          "size": 5
         },
         "mode": "markers+text",
         "name": "Gatwick Lounge and Boarding Issues",
         "text": [
          "",
          "",
          "",
          "",
          "",
          "",
          "",
          "",
          "",
          "",
          "",
          "",
          "",
          "",
          "",
          "",
          "",
          "",
          "",
          "",
          "",
          "",
          "",
          "",
          "",
          "",
          "",
          "",
          "",
          "",
          "",
          "",
          "",
          "",
          "",
          "",
          "",
          "",
          "",
          "",
          "",
          "",
          "",
          "",
          "",
          "",
          "",
          "",
          "",
          "",
          "",
          "",
          "",
          "",
          "",
          "",
          "",
          "",
          "",
          "",
          "",
          "",
          "",
          "",
          "",
          "",
          "",
          "",
          "",
          "",
          "",
          "",
          "",
          "",
          "",
          "",
          "",
          "",
          "",
          "",
          "",
          "",
          "",
          "",
          "",
          "",
          "",
          "",
          "",
          "",
          "",
          "",
          "",
          "",
          "",
          "",
          "",
          "",
          "",
          "",
          "",
          "",
          "",
          "",
          "",
          "",
          "",
          "",
          "",
          "",
          "",
          "",
          "",
          "",
          "",
          "",
          "",
          "",
          "",
          "",
          "",
          "",
          "",
          "",
          "",
          "",
          "",
          "",
          "",
          "",
          "",
          "",
          "",
          "",
          "",
          "",
          "",
          "",
          "",
          "",
          "",
          "",
          "",
          "",
          "",
          "",
          "",
          "",
          "",
          "",
          "",
          "",
          "",
          "",
          "",
          "",
          "",
          "",
          "",
          "",
          ""
         ],
         "textfont": {
          "size": 12
         },
         "type": "scattergl",
         "x": [
          9.521226,
          9.607599,
          9.865711,
          9.222446,
          9.738743,
          9.618356,
          9.193048,
          9.574837,
          9.799229,
          9.548299,
          9.077037,
          10.270744,
          10.128526,
          9.875535,
          8.724349,
          9.797047,
          9.191403,
          9.769497,
          8.955295,
          9.991229,
          9.205875,
          9.525788,
          9.305817,
          10.57955,
          9.64458,
          9.97214,
          9.683728,
          9.59988,
          9.274841,
          9.533878,
          9.825815,
          9.215879,
          9.518565,
          9.583133,
          10.513719,
          9.514919,
          9.386004,
          8.729564,
          8.946405,
          9.917154,
          9.623734,
          9.318945,
          9.327754,
          9.799803,
          9.827787,
          9.212902,
          9.567014,
          9.266433,
          9.791976,
          9.919634,
          9.753916,
          10.156398,
          9.556164,
          9.534714,
          8.716679,
          9.770027,
          9.747643,
          9.426849,
          10.456654,
          9.395252,
          9.677905,
          9.557809,
          10.524883,
          9.48707,
          9.788843,
          9.241092,
          8.929517,
          9.368463,
          9.553952,
          9.533089,
          8.573405,
          9.840841,
          9.527102,
          9.735943,
          9.604183,
          9.525167,
          10.307737,
          9.140296,
          9.509719,
          9.183324,
          8.835559,
          10.103671,
          9.174985,
          8.782154,
          9.9030905,
          9.331926,
          9.712008,
          9.299866,
          8.271481,
          9.943111,
          10.522398,
          10.153441,
          10.034397,
          9.256003,
          8.806136,
          9.606467,
          9.511549,
          10.110854,
          9.716061,
          9.128967,
          9.240826,
          10.073349,
          9.266812,
          9.790457,
          9.192473,
          10.079476,
          9.383686,
          9.641662,
          8.798786,
          9.646217,
          10.548101,
          9.97754,
          9.276829,
          9.693201,
          9.191153,
          9.943059,
          9.41096,
          9.694092,
          9.166344,
          9.729795,
          9.012483,
          9.467043,
          9.616226,
          10.30345,
          9.742123,
          9.894809,
          10.508721,
          9.154225,
          9.178151,
          9.262072,
          10.094696,
          9.325567,
          10.126956,
          9.291657,
          9.510559,
          9.486943,
          8.865686,
          9.870939,
          9.659498,
          9.624808,
          9.126069,
          9.078319,
          9.198502,
          9.472701,
          9.152903,
          8.908857,
          9.602864,
          9.743314,
          9.169301,
          9.819126,
          8.755734,
          9.105151,
          10.324328,
          9.792893,
          9.847108,
          9.177975,
          9.384195,
          8.837146,
          9.863211,
          8.757995,
          8.784869
         ],
         "y": [
          8.984551,
          9.181516,
          9.712582,
          9.905775,
          9.364987,
          9.7667675,
          9.882035,
          9.5464735,
          9.394327,
          8.915839,
          8.775627,
          9.739486,
          9.268704,
          9.67373,
          8.840583,
          9.436541,
          9.891266,
          9.137993,
          8.850966,
          9.620316,
          9.551646,
          8.841027,
          9.41868,
          9.138243,
          9.492915,
          9.034152,
          8.9551525,
          8.70868,
          9.348473,
          8.938957,
          9.106131,
          8.932528,
          9.729709,
          9.468091,
          9.168087,
          9.420496,
          9.446641,
          9.112267,
          8.986826,
          9.4135685,
          9.820728,
          9.446698,
          9.322206,
          9.6579075,
          9.7443905,
          9.383693,
          9.426184,
          9.260203,
          9.081526,
          9.38198,
          9.692168,
          9.128183,
          9.418571,
          9.787693,
          9.0851965,
          9.33365,
          9.729195,
          9.550239,
          9.177627,
          9.04819,
          9.188718,
          9.853639,
          9.270199,
          9.393351,
          9.822542,
          9.493917,
          9.037281,
          9.399749,
          9.475286,
          9.468236,
          8.516528,
          9.804118,
          9.374763,
          9.100751,
          8.996686,
          9.558178,
          9.28375,
          9.333487,
          9.403995,
          9.054046,
          9.280579,
          9.56181,
          9.916508,
          8.869353,
          9.5455885,
          9.8153715,
          9.358587,
          9.380233,
          5.4672,
          9.3101225,
          9.262975,
          9.218172,
          9.608607,
          9.619183,
          8.804156,
          9.560909,
          9.82349,
          9.608259,
          9.432594,
          9.089479,
          9.397216,
          9.514983,
          9.311544,
          9.126387,
          9.571918,
          9.462196,
          9.284972,
          9.44888,
          9.2176285,
          9.551924,
          9.261374,
          9.492572,
          9.162337,
          8.957103,
          9.571124,
          9.24102,
          9.159332,
          9.647436,
          9.147677,
          9.449239,
          9.009909,
          9.235744,
          9.542445,
          6.5089903,
          9.07886,
          9.768868,
          9.063667,
          9.255603,
          9.925601,
          9.246311,
          9.476031,
          9.426047,
          9.188544,
          9.336003,
          9.3622,
          8.833647,
          9.089592,
          9.80663,
          8.853668,
          9.284868,
          9.623001,
          9.1975355,
          9.363474,
          8.808608,
          9.154805,
          8.693752,
          9.524475,
          9.189857,
          9.929467,
          9.781416,
          9.003249,
          9.164526,
          9.157667,
          9.135234,
          9.812963,
          9.938699,
          9.211114,
          9.065753,
          9.792684,
          8.722185,
          8.836382
         ]
        },
        {
         "hoverinfo": "text",
         "hovertext": [
          "\"should get behind out national carrier\"",
          "\"unobtrusive service provided\"",
          "\"professional and very friendly\"",
          "\"service was great throughout\"",
          "\"attendants were very polite\"",
          "\"crew was very friendly\"",
          "\"seats are incredibly uncomfortable\"",
          "\"Surprisingly good flight\"",
          "\"would highly recommend\"",
          "\"There is enough legroom2",
          "\"lack lustre flying experience\"",
          "\"service was second to none\"",
          "\"friendly and helpful\"",
          "\"BA were way ahead of the competition\"",
          "\"Tired old aircraft\"",
          "\"a very good airline\"",
          "\"Service on board was excellent\"",
          "\"backward facing seats\"",
          "\"crew were very friendly\"",
          "\"experience was bad\"",
          "\"In-line with competitors\"",
          "\"lives in their past glory\"",
          "\"Noisy cabin, tiny screens\"",
          "\"it’s become a last resort\"",
          "\"stewardesses were very friendly and attentive\"",
          "\"seats weren't wide enough\"",
          "\"behind the competition\"",
          "\"crew was amazingly kind and lovely\"",
          "\"Air Canada next time\"",
          "\"my husbands seat was broken\"",
          "\"crew was also very nice\"",
          "\"I won't be flying BA anymore\"",
          "\"extremely average flight\"",
          "\"I was pleasantly surprised\"",
          "\"Food was fairly good both ways\"",
          "\"more cramped than I expected\"",
          "\"they were really good\"",
          "\"British Airways has lost it class\"",
          "\"comfort was very bad\"",
          "\"Excellent service\"",
          "\"Service was fantastic\"",
          "\"business class seats were small\"",
          "\"not direct but it was well worth it.\"",
          "\"will not be flying BA any more\"",
          "\"nice flight with good cabin service\"",
          "\"one of my favourite airlines\"",
          "\"operated by Air Belgium\"",
          "\"a solid performance\"",
          "\"an awful experience\"",
          "\"how disappointed I was\"",
          "\"staff were absolutely delightful\"",
          "\"packed out seating\"",
          "\"Cramped uncomfortable seats\"",
          "\"worst customer service\"",
          "\"so disappointed with the service\"",
          "\"Good value if a free upgrade\"",
          "\"poor quality budget airline\"",
          "\"Would happily fly them again\"",
          "\"crew were very attentive\"",
          "\"nothing has changed\"",
          "\"Another pleasant flight\"",
          "\"need to improve service levels\"",
          "\"good experience both flights\"",
          "\"total lack of customer service\"",
          "\"zero feeling of comfort\"",
          "\"crew were very friendly\"",
          "\"Service was good\"",
          "\"staff service completely forgettable\"",
          "\"BA has gone downhill\"",
          "\"Good value flight\"",
          "\"friendly and efficient crew\"",
          "\"the seats feel worn out\"",
          "\"cabin manager did not greet me\"",
          "\"only saving grace was a superb cabin staff\"",
          "\"The crew were excellent\"",
          "\"crew were really nice\"",
          "\"Very nice experience\"",
          "\"Overall, the journey was great\"",
          "\"food portions so meagre\"",
          "\"British Airways is the worst\"",
          "\"a functional, disinterested service\"",
          "\"had a great experience\"",
          "\"aircraft was narrow\"",
          "\"Flight was good\"",
          "\"a lovely flight\"",
          "\"I begrudge flying with them\"",
          "\"loved every minute of the flight\"",
          "\"I had a horrid experience\"",
          "\"Couldn't care less I feel\"",
          "\"a great flight\"",
          "\"like a low cost carrier\"",
          "\"outstanding customer service\"",
          "\"decent value for the money\"",
          "\"seats badly need up-dating\"",
          "\"it definitely lived up to my expectations\"",
          "\"seat are surprisingly comfortable\"",
          "\"Exceptional flight\"",
          "\"it was the most enjoyable flight\"",
          "\"aircraft are very old\"",
          "\"overall a good experience\"",
          "\"become a budget airline\"",
          "\"absolutely great\"",
          "\"first class experience\"",
          "\"additional payment to select seats\"",
          "\"airline is clearly failing fast\"",
          "\"a very enjoyable trip\"",
          "\"same leg room as in Economy\"",
          "\"the experience was shameful\"",
          "\"British Airways is always a good choice\"",
          "\"great cabin crew on both sectors\"",
          "\"was one bad trip too many\"",
          "\"overall very medium experience\"",
          "\"time to pull up its socks\"",
          "\"the cabin crew were great\"",
          "\"lacking the passion to serve\"",
          "\"I wasn't allocated a seat\"",
          "\"this was a good flight\"",
          "\"staff was professional\"",
          "\"tired, grey Boeing 777 interior\"",
          "“Very impressed with BA”",
          "\"professional and friendly\"",
          "\"crew were kind and unobtrusive\"",
          "\"extremely nice and helpful \"",
          "\"It's not at all child friendly\"",
          "\"seat is quite comfortable.\""
         ],
         "marker": {
          "opacity": 0.5,
          "size": 5
         },
         "mode": "markers+text",
         "name": "Poor Service and Outdated Aircraft",
         "text": [
          "",
          "",
          "",
          "",
          "",
          "",
          "",
          "",
          "",
          "",
          "",
          "",
          "",
          "",
          "",
          "",
          "",
          "",
          "",
          "",
          "",
          "",
          "",
          "",
          "",
          "",
          "",
          "",
          "",
          "",
          "",
          "",
          "",
          "",
          "",
          "",
          "",
          "",
          "",
          "",
          "",
          "",
          "",
          "",
          "",
          "",
          "",
          "",
          "",
          "",
          "",
          "",
          "",
          "",
          "",
          "",
          "",
          "",
          "",
          "",
          "",
          "",
          "",
          "",
          "",
          "",
          "",
          "",
          "",
          "",
          "",
          "",
          "",
          "",
          "",
          "",
          "",
          "",
          "",
          "",
          "",
          "",
          "",
          "",
          "",
          "",
          "",
          "",
          "",
          "",
          "",
          "",
          "",
          "",
          "",
          "",
          "",
          "",
          "",
          "",
          "",
          "",
          "",
          "",
          "",
          "",
          "",
          "",
          "",
          "",
          "",
          "",
          "",
          "",
          "",
          "",
          "",
          "",
          "",
          "",
          "",
          "",
          "",
          "",
          ""
         ],
         "textfont": {
          "size": 12
         },
         "type": "scattergl",
         "x": [
          11.018657,
          12.230292,
          11.957979,
          11.772353,
          11.8409395,
          11.874918,
          11.867575,
          11.950142,
          11.827665,
          10.657026,
          11.434074,
          11.953394,
          11.578047,
          12.113288,
          11.448337,
          10.551954,
          12.027483,
          11.920944,
          11.636809,
          11.445961,
          11.688868,
          10.543106,
          11.836012,
          10.818479,
          10.695352,
          11.852525,
          11.871616,
          11.6181,
          12.180385,
          11.463203,
          11.68829,
          10.355968,
          11.624751,
          11.65589,
          11.911426,
          12.029171,
          11.987673,
          10.7091055,
          11.687594,
          12.023615,
          11.9553795,
          11.695803,
          11.909564,
          10.179426,
          11.761758,
          10.769048,
          12.057793,
          11.747381,
          12.082914,
          11.363862,
          12.079612,
          11.906154,
          11.7134,
          10.760933,
          11.390758,
          10.25046,
          10.392502,
          10.831222,
          11.990738,
          11.898135,
          12.103132,
          10.777387,
          11.69229,
          11.367943,
          12.076145,
          11.776795,
          11.6511965,
          11.652691,
          10.478536,
          12.077474,
          12.136554,
          10.309346,
          11.742706,
          11.409012,
          12.260539,
          12.059328,
          11.757778,
          11.898264,
          11.496914,
          11.464079,
          11.398868,
          11.4970665,
          10.476293,
          11.669034,
          12.100852,
          10.684419,
          11.972101,
          11.573911,
          11.448914,
          11.855268,
          10.871125,
          10.934555,
          11.920541,
          10.648853,
          12.053734,
          12.2456,
          11.772436,
          11.7034855,
          11.358693,
          12.293989,
          10.843736,
          11.771778,
          11.951774,
          12.027629,
          12.09897,
          10.592241,
          10.857905,
          10.522147,
          10.571116,
          11.667128,
          11.466793,
          12.085002,
          11.457222,
          10.869552,
          12.086277,
          12.041052,
          11.708008,
          11.583857,
          10.360319,
          12.15481,
          11.787745,
          11.800161,
          11.822364,
          12.080006,
          12.178017
         ],
         "y": [
          5.5365696,
          7.9804516,
          6.2283516,
          5.246493,
          5.502443,
          5.0169926,
          5.1025677,
          6.0631847,
          5.205646,
          6.002547,
          5.793231,
          5.32127,
          4.903548,
          5.0089793,
          5.7318344,
          5.5819373,
          6.123579,
          5.193832,
          5.437556,
          5.7813015,
          5.870396,
          5.5740175,
          5.240689,
          5.895917,
          5.7808986,
          5.0576744,
          6.0525336,
          5.040033,
          5.0745764,
          4.893634,
          5.0999594,
          6.071422,
          5.120491,
          4.9918823,
          5.069667,
          5.0082736,
          5.442612,
          5.813476,
          5.080192,
          6.2045484,
          6.1969314,
          5.4770303,
          6.0323634,
          5.8262067,
          5.376449,
          5.9268074,
          5.528186,
          5.884444,
          5.5260377,
          5.7477784,
          4.9558916,
          5.971971,
          4.921558,
          5.7485394,
          5.580253,
          5.8494005,
          5.9307804,
          5.912331,
          5.5788703,
          6.1130166,
          5.11619,
          5.832202,
          5.869391,
          5.501807,
          5.540777,
          5.0640826,
          5.783773,
          5.9034977,
          6.0744886,
          5.556774,
          5.2994404,
          5.818577,
          5.60284,
          5.7317333,
          5.0638776,
          6.092838,
          5.730462,
          5.3430896,
          5.228819,
          5.7717996,
          5.68094,
          4.9587803,
          6.0768685,
          5.0509615,
          5.5712314,
          5.6496205,
          5.954803,
          4.9863453,
          5.5208435,
          5.3510056,
          5.906096,
          5.5573015,
          5.5988116,
          5.8826375,
          6.007086,
          5.0571074,
          5.794228,
          5.0965967,
          5.711028,
          6.1678443,
          5.9446073,
          5.191638,
          5.916407,
          5.6901913,
          5.6302247,
          5.971018,
          5.8987713,
          6.0157013,
          5.6299005,
          5.824634,
          5.765508,
          5.572122,
          5.8280034,
          5.90147,
          5.592252,
          5.660696,
          5.767151,
          5.493613,
          6.002066,
          6.4684734,
          5.33311,
          5.7457447,
          4.9390025,
          5.7433357,
          6.022883
         ]
        },
        {
         "hoverinfo": "text",
         "hovertext": [
          null,
          "\"twenty years out of date\"",
          "\"it’s just spiralling down\"",
          "\"has taken a nosedive in my opinion\"",
          "“uncomfortable seat and disgusting food”",
          "\"had to have a middle seat\"",
          "\"not worth paying for business\"",
          "\"such a poor quality product\"",
          "\"have once again been disappointed by British Airways\"",
          "\"first and last journey\"",
          "\"will never fly with BA again\"",
          "\"travelling with British Airways so stressful\"",
          "\"didn't allow us to seat together\"",
          "\"BA trying to save money\"",
          "\"a clear case of BA mis-selling\"",
          "\"I have lost my patience\"",
          "\"there is a race to the bottom\"",
          "\"Very second rate shoddy airline\"",
          "\"Upgrade was worth it\"",
          "\"ashamed this is my national airline\"",
          "\"Very rude and unhelpful staff\"",
          "\"cares nothing for its passengers\"",
          "\"Some things just do not change at BA\"",
          "\"BA is now as bad as Ryanair\"",
          "\"we had limited recline seats seats\"",
          "\"caused our family extreme stress and disappointment\"",
          "\"refund for seat assignments\"",
          "\"this airline is horrible\"",
          "\"downgraded at airport check in\"",
          "\"It was a nightmare\"",
          "\"at best a three star airline\"",
          "\"It was all handled very poorly\"",
          "\"British Airways has declined badly\"",
          "\"squashed into regular seats\"",
          "\"a journey of disappointment\"",
          "\"seats were uncomfortable\"",
          "\"profit at any price\"",
          null,
          "\"Terrible customer service\"",
          "“entire experience has been stressful”",
          "\"no refund or voucher\"",
          "\"such a nice employee\"",
          "\"asking for upgrades to a best seat\"",
          "\"never fly British Airway ever again\"",
          "\"told by cabin crew I would be refunded\"",
          "\"extremely unprofessional\"",
          "\"I will never fly with BA again\"",
          "\"it's not extra leg room\"",
          "\"does not value their customers\"",
          "\"Never again will I fly BA\"",
          "\"not the BA that people once knew\"",
          "\"undiscerning and insincere compensation\"",
          "\"It is a national disgrace\"",
          "\"cancelled our return flight\"",
          "\"atrocious customer service\"",
          "\"won't reimburse me\"",
          "\"Completely inadequate service\"",
          "\"decline in customer service\"",
          "\"learned my lesson about late BA upgrades\"",
          "\"one of the worst airlines\"",
          "\"cheap and sleazy budget airline\"",
          "\"serious need of a makeover\"",
          "\"no proof I paid for them\"",
          "\"downgraded the ticket\"",
          "\"complete disregard for your passengers\"",
          "\"not sitting together\"",
          "\"about as abysmal as you can get\"",
          "\"good, but not spectacular\"",
          "\"BA lacks consistency\"",
          "\"trained to give you the runaround\"",
          "\"some sort of medieval torture\"",
          "“They never help us”",
          "\"Utterly appalling\"",
          "\"didn't really pay attention\"",
          "\"Worst long haul business class\"",
          "\"absolute disgrace\"",
          "\"Total garbage\"",
          "\"become an absolute nightmare\"",
          "\"customer service the worst going\"",
          "\"never fly with them again\"",
          "\"crew were so unorganised\"",
          "\"downgraded to premium economy\"",
          "\"Very disappointed\"",
          "\"this change is not acceptable\"",
          "\"the worst airline in the UK\"",
          "\"space is ridiculously narrow\"",
          "\"cancel your flight without notice\"",
          "\"bumped off due to overselling\"",
          "\"had better treatment from Ryanair\"",
          "\"seat reservation fees are non refundable\"",
          "\"job's worth high handed attitude\"",
          "“VERY uncomfortable seats”",
          "\"I was downgraded\"",
          "\"still no refunds 3 months on\"",
          "\"a worn out and low cost discount carrier\"",
          "\"Economy is absolutely awful\"",
          "\"Economy class seating was truly dreadful\"",
          "\"gave us some First Class goodies\"",
          "\"Worst business class ever\"",
          "\"wouldn't let me check-in until 24 hours before\"",
          "\"this is an airline in decline\"",
          "\"Absolutely disgraceful\"",
          "\"the aircraft was filthy\"",
          "\"cello seat needs to have an ESTA visa!\"",
          "\"the worlds biggest rip off\"",
          "\"declined due to cost cutting\"",
          "\"not provided the service or flight I paid for\"",
          "\"British Airways are a disgrace\"",
          "\"BA have no intention of resolving this\"",
          "\"they should be ashamed\"",
          "\"do not allow free seat selection",
          "\"Not recommended\"",
          "\"airline needs major overhaul\"",
          "\"I was sorely disappointed\"",
          "\"not be flying BA again\"",
          "\"most terrible airline I’ve dealt with\"",
          "\"Things have really deteriorated\"",
          "\"seat was below my expectation\"",
          "\"Lies and misleading unprofessional service\""
         ],
         "marker": {
          "opacity": 0.5,
          "size": 5
         },
         "mode": "markers+text",
         "name": "Booking, Refunds, and Customer Service Issues",
         "text": [
          "",
          "",
          "",
          "",
          "",
          "",
          "",
          "",
          "",
          "",
          "",
          "",
          "",
          "",
          "",
          "",
          "",
          "",
          "",
          "",
          "",
          "",
          "",
          "",
          "",
          "",
          "",
          "",
          "",
          "",
          "",
          "",
          "",
          "",
          "",
          "",
          "",
          "",
          "",
          "",
          "",
          "",
          "",
          "",
          "",
          "",
          "",
          "",
          "",
          "",
          "",
          "",
          "",
          "",
          "",
          "",
          "",
          "",
          "",
          "",
          "",
          "",
          "",
          "",
          "",
          "",
          "",
          "",
          "",
          "",
          "",
          "",
          "",
          "",
          "",
          "",
          "",
          "",
          "",
          "",
          "",
          "",
          "",
          "",
          "",
          "",
          "",
          "",
          "",
          "",
          "",
          "",
          "",
          "",
          "",
          "",
          "",
          "",
          "",
          "",
          "",
          "",
          "",
          "",
          "",
          "",
          "",
          "",
          "",
          "",
          "",
          "",
          "",
          "",
          "",
          "",
          "",
          "",
          ""
         ],
         "textfont": {
          "size": 12
         },
         "type": "scattergl",
         "x": [
          6.478065,
          10.592847,
          6.611044,
          6.013321,
          6.793546,
          6.995474,
          6.774908,
          10.541116,
          7.6748533,
          6.5686517,
          7.1394506,
          6.8107677,
          6.8708344,
          6.4070563,
          7.06648,
          6.6604867,
          6.66296,
          6.5340133,
          7.528043,
          6.1469827,
          7.9105697,
          6.5588474,
          8.497498,
          7.109981,
          7.0735226,
          6.4718413,
          6.5189066,
          6.711076,
          7.089536,
          6.7892194,
          10.622378,
          7.2500215,
          7.0810046,
          7.1759896,
          7.7544537,
          10.807302,
          7.0391674,
          6.8905687,
          6.5816474,
          6.225158,
          6.2262774,
          6.598923,
          7.002792,
          6.531169,
          6.592536,
          6.3036423,
          6.3209357,
          6.6349273,
          6.598781,
          6.604637,
          7.879327,
          6.666499,
          7.0711007,
          6.5217133,
          7.6749415,
          6.594819,
          6.5641217,
          6.5050836,
          7.479964,
          7.127734,
          7.147158,
          6.1134996,
          6.48871,
          7.150668,
          7.1222477,
          7.457689,
          7.2892213,
          10.684846,
          7.694461,
          6.6644073,
          7.0489717,
          6.6386027,
          6.408876,
          7.2117043,
          10.565087,
          6.8945637,
          6.492208,
          6.1723795,
          6.57291,
          6.5250816,
          7.240932,
          7.1234236,
          10.572809,
          6.8410316,
          6.510395,
          10.586826,
          6.520175,
          6.717717,
          6.1653886,
          6.509004,
          7.3773894,
          10.732528,
          7.0955806,
          7.072775,
          6.126385,
          7.82637,
          10.598247,
          6.60727,
          10.460503,
          6.596442,
          10.547493,
          6.066124,
          7.6576796,
          6.1451907,
          7.430872,
          6.318462,
          7.003855,
          6.712299,
          6.568034,
          6.5280137,
          6.9862504,
          6.7458835,
          10.5633,
          7.7227225,
          6.5282187,
          6.6053176,
          7.920599,
          8.078536,
          6.454124
         ],
         "y": [
          7.705239,
          7.3088837,
          7.6449466,
          7.770534,
          8.036265,
          7.6164703,
          8.259962,
          7.287051,
          8.108076,
          7.5814285,
          7.588124,
          8.407451,
          8.136336,
          8.053422,
          8.12035,
          7.630468,
          7.6665387,
          8.302904,
          8.083468,
          7.754604,
          7.852753,
          7.7327914,
          8.26066,
          8.05594,
          7.7072735,
          7.5741224,
          8.263604,
          8.309917,
          8.105202,
          8.105535,
          7.267735,
          7.9739213,
          7.6923666,
          7.9952693,
          7.9416122,
          7.585561,
          7.992601,
          8.327305,
          7.617003,
          7.759199,
          7.5610785,
          7.5856824,
          8.02202,
          7.65503,
          8.240685,
          7.577401,
          8.132247,
          8.280953,
          8.358747,
          8.285237,
          7.8263497,
          8.281653,
          7.79875,
          7.647122,
          8.130331,
          8.322047,
          8.263887,
          7.75001,
          8.077847,
          7.6188188,
          7.878954,
          7.826013,
          8.2647505,
          8.01668,
          8.079602,
          8.050362,
          7.901267,
          7.054479,
          8.115466,
          7.6203856,
          8.108139,
          7.4391956,
          7.5080285,
          8.084211,
          7.3643994,
          7.810722,
          7.7380705,
          7.6127067,
          8.293119,
          8.260813,
          7.86684,
          8.061469,
          7.305425,
          8.321434,
          7.5118427,
          7.278749,
          7.6510024,
          8.394089,
          7.886987,
          8.306377,
          8.191122,
          7.2296762,
          8.105105,
          7.87002,
          7.8428254,
          7.930822,
          6.8528495,
          8.270526,
          7.416971,
          7.4802876,
          7.291142,
          7.8940043,
          8.018896,
          8.116037,
          8.045195,
          8.039889,
          8.1200485,
          8.399524,
          7.698258,
          7.5764647,
          7.749213,
          7.664599,
          7.1604705,
          8.13465,
          8.309508,
          7.521425,
          8.076644,
          7.7956753,
          7.674063
         ]
        },
        {
         "hoverinfo": "text",
         "hovertext": [
          "\"need to cancel the ticket and rebook\"",
          "\"No refund for flights cancelled\"",
          "“wholly inadequate customer service”",
          "\"An absolute disgrace\"",
          "\"never use this airline again\"",
          "\"whole experience was terrible\"",
          "\"Philippines Airlines require a 24 hr negative covid test\"",
          "\"what an absolute nightmare\"",
          "\"worse than Ryanair or EasyJet\"",
          "\"BA cancelled my flight, I never got on it\"",
          "\"Zero empathy was shown\"",
          "\"I would need to call up to rebook\"",
          "\"canceled 3 hours before\"",
          "\"my flight was canceled\"",
          "\"I was left stranded at the airport\"",
          "\"cancelled my return flight\"",
          "\"trying every trick in the book\"",
          "\"I never received the refund\"",
          "\"A voucher is not sufficient\"",
          "\"they have really gone downhill\"",
          "\"going in circles to avoid issuing any voucher\"",
          "\"Six hours before it was cancelled\"",
          "\"felt misguided and misinformed\"",
          "\"stupidity of this whole situation\"",
          "\"unreliable, unprofessional airline\"",
          "\"I had to reschedule my flight\"",
          "\"Flight was cancelled at the last minute\"",
          "\"Do not recommend to anyone in Covid restrictions\"",
          "\"the most shambolic customer support\"",
          "\"BA have refused all responsibility\"",
          "\"battling a long overdue refund\"",
          "\"I want a refund\"",
          "\"zero faith in British Airways\"",
          "\"Really not fair to just take our money!\"",
          "\"I don't even get an apology\"",
          "\"I have not received my refund\"",
          "\"poor customer service\"",
          "\"flight was cancelled 3 days in a row\"",
          "\"This is appalling business practice!\"",
          "\"fully refunded by our travel insurance\"",
          "\"asked for an explanation but have received none\"",
          "\"understand the turmoil caused by Covid-19\"",
          "\"review is for BA booking system\"",
          "\"They actually give me a voucher\"",
          "\"voucher is valid for another two years\"",
          "\"Their customer service is a shambles\"",
          "\"still awaiting a refund\"",
          "\"Customer service is shocking\"",
          "“they have ignored every communication”",
          "“Great customer service from BA”",
          "\"Cancelled connection flight\"",
          "\"A poor show with BA\"",
          "\"Never again, BA\"",
          "\"Appalling customer service\"",
          "\"whole experience was awful\"",
          "\"I am still waiting for an answer\"",
          "\"Absolutely appalling service\"",
          "\"a total disappointment\"",
          "“extremely poor customer service”",
          "\"I will never fly with them again\"",
          "\"not going to receive refund\"",
          "\"BA has failed completely\"",
          "\"have to call to redeem the voucher\"",
          "“The most ridiculous thing I've heard”",
          "\"cancellation two weeks before I was due to travel\"",
          "\"customer service was horrendous\"",
          "\"no better than the worst of the low cost\"",
          "\"I will never fly with them again\"",
          "\"asked them to cancel my ticket\"",
          "\"not a single feedback from British Airways\"",
          "\"given no notifications or help\"",
          "\"Shocking customer service\"",
          "\"They were refused boarding\"",
          "\"There is not a hotline\"",
          "\"they refused to fly me back!",
          "\"middle name was not on her ticket\"",
          "\"no refund issued yet\"",
          "\"no response to my emails/messages\"",
          "\"no representative to help\"",
          "\"over 2 weeks to respond\"",
          "\"Customer service is non existent\"",
          "\"made a complaint, nothing happened\"",
          "\"still waiting for reimbursement\"",
          "\"not been recompensed for our expenses\""
         ],
         "marker": {
          "opacity": 0.5,
          "size": 5
         },
         "mode": "markers+text",
         "name": "Refund Challenges and Customer Frustrations",
         "text": [
          "",
          "",
          "",
          "",
          "",
          "",
          "",
          "",
          "",
          "",
          "",
          "",
          "",
          "",
          "",
          "",
          "",
          "",
          "",
          "",
          "",
          "",
          "",
          "",
          "",
          "",
          "",
          "",
          "",
          "",
          "",
          "",
          "",
          "",
          "",
          "",
          "",
          "",
          "",
          "",
          "",
          "",
          "",
          "",
          "",
          "",
          "",
          "",
          "",
          "",
          "",
          "",
          "",
          "",
          "",
          "",
          "",
          "",
          "",
          "",
          "",
          "",
          "",
          "",
          "",
          "",
          "",
          "",
          "",
          "",
          "",
          "",
          "",
          "",
          "",
          "",
          "",
          "",
          "",
          "",
          "",
          "",
          "",
          ""
         ],
         "textfont": {
          "size": 12
         },
         "type": "scattergl",
         "x": [
          5.6885767,
          5.65659,
          5.3113055,
          5.679489,
          5.555181,
          5.5512314,
          6.279637,
          5.615989,
          5.8254805,
          5.537638,
          5.705491,
          5.3042626,
          5.631814,
          5.917795,
          5.633725,
          5.5499115,
          5.363278,
          5.6869774,
          5.5927835,
          5.9683695,
          5.466697,
          5.896841,
          5.809689,
          6.1115766,
          5.601744,
          5.6566496,
          5.273305,
          5.326386,
          5.511227,
          5.5842085,
          5.4078603,
          5.468149,
          5.494569,
          5.375846,
          5.5280447,
          5.753197,
          5.5198097,
          5.5038843,
          5.3010664,
          5.547163,
          5.604545,
          5.585371,
          5.340425,
          5.3265514,
          5.308132,
          5.6932287,
          5.6435657,
          5.499604,
          5.5312557,
          5.3991165,
          5.335634,
          5.6621714,
          5.348928,
          5.223031,
          5.697446,
          5.494425,
          5.481808,
          5.595514,
          5.524007,
          5.248728,
          5.5296264,
          5.485631,
          5.323196,
          5.4268346,
          5.32943,
          5.71549,
          5.424649,
          5.549824,
          5.6287737,
          5.7397594,
          5.834062,
          5.570394,
          5.711508,
          5.224868,
          5.509684,
          5.696305,
          5.4298673,
          5.6643867,
          5.248839,
          5.487781,
          5.623914,
          5.651461,
          5.5346637,
          5.3105745
         ],
         "y": [
          7.6344595,
          7.4482703,
          7.28693,
          7.3439517,
          7.5113435,
          7.465234,
          7.3211184,
          7.176674,
          7.1767416,
          7.5066113,
          7.6642923,
          7.832475,
          7.3804345,
          7.049309,
          7.428577,
          7.433033,
          7.84664,
          7.3351927,
          7.7767096,
          7.1373534,
          7.488257,
          7.1496706,
          7.189208,
          7.5060077,
          7.4795685,
          7.684298,
          7.315632,
          7.913109,
          7.346995,
          7.2020774,
          7.613463,
          7.3248,
          7.2798457,
          7.903106,
          7.276668,
          7.582639,
          7.5937557,
          7.345915,
          7.768066,
          7.5072966,
          7.2334094,
          7.523737,
          7.800424,
          7.8177176,
          7.9175544,
          7.669775,
          7.286492,
          7.2961373,
          7.2045794,
          7.280249,
          7.257758,
          7.3412724,
          7.331818,
          7.374438,
          7.3005595,
          7.452065,
          7.556736,
          7.5339875,
          7.3336573,
          7.5980754,
          7.4095883,
          7.566086,
          7.9022174,
          7.4792604,
          7.447292,
          7.1322403,
          7.267163,
          7.387263,
          7.1949906,
          7.2161837,
          7.2923,
          7.253606,
          7.2061625,
          7.367547,
          7.552916,
          7.5632863,
          7.484649,
          7.781654,
          7.368913,
          7.5173483,
          7.625604,
          7.2113204,
          7.321874,
          7.8252187
         ]
        },
        {
         "hoverinfo": "text",
         "hovertext": [
          "\"utterly appalling food\"",
          "\"seat was claustrophobic\"",
          "\"don't go out your way to fly them\"",
          "“if GF - take your own food”",
          "\"First time using BA premium and likely my last\"",
          null,
          "\"food not great and entertainment options poor\"",
          "\"service was slow and unfriendly\"",
          "\"staff were so friendly\"",
          "\"Overall not recommended\"",
          "\"used to include complimentary tea/sandwich\"",
          "\"how the mighty have fallen\"",
          "\"hit the  call button, no response for an hour\"",
          null,
          "\"have become a long haul Ryanair\"",
          "\"A very unpleasant experience\"",
          "\"a little disappointed\"",
          "\"charge a large amount for choosing seats\"",
          "\"Inflight food shocking\"",
          "\"I tried BA, never again\"",
          "\"you are facing a stranger\"",
          "“Does BA pay experts to design these breakfasts”",
          "\"your budget airline status\"",
          "\"not recommended at all\"",
          "\"crews very young, unprofessional\"",
          "\"reduction in quality of food\"",
          "\"the food was horrendous\"",
          "\"crew to be friendly and attentive\"",
          "\"now providing a very inferior product\"",
          "\"they are the worst in Europe\"",
          "\"managed to lose my luggage\"",
          "\"I had to ask where is my food\"",
          "\"the limited food served was bland\"",
          "\"No curtain between business and economy class\"",
          "\"really poor food\"",
          "\"possibly cabin crew were embarrassed\"",
          "\"The food was awful\"",
          "\"a positive experience\"",
          "\" Worse than a low-cost carrier\"",
          "\"extremely disappointed with Business Class\"",
          "\"food was just appalling\"",
          "\"penny pinching by BA in club class\"",
          "\"British Airways was a shock\"",
          "\"WiFi didn't work\"",
          "\"no foil covering the food\"",
          "\"attendents cordial and professional\"",
          "\"choice between a mini Kitkat or a mini mars bar\"",
          "\"poor quality product crew have to support\"",
          "\"breakfast served was terrible\"",
          "\"food was average\"",
          "\"as different as night and day\"",
          "\"should not call this business class\"",
          "\"minimal leg room in economy\"",
          "\"how the mighty have fallen\"",
          "\"couldn't even order any food / drink\"",
          "\"service was outstanding\"",
          "\"employs tactics of EasyJet\"",
          "\"national carrier turned into the worst\"",
          "\"I didn’t like either choice\"",
          "\"standard slipped considerably\"",
          "\"no pre-dinner drinks served\"",
          "\"requested Asian vegetarian food\"",
          "\"All in all very disappointing\""
         ],
         "marker": {
          "opacity": 0.5,
          "size": 5
         },
         "mode": "markers+text",
         "name": "Poor Meal Quality and Service",
         "text": [
          "",
          "",
          "",
          "",
          "",
          "",
          "",
          "",
          "",
          "",
          "",
          "",
          "",
          "",
          "",
          "",
          "",
          "",
          "",
          "",
          "",
          "",
          "",
          "",
          "",
          "",
          "",
          "",
          "",
          "",
          "",
          "",
          "",
          "",
          "",
          "",
          "",
          "",
          "",
          "",
          "",
          "",
          "",
          "",
          "",
          "",
          "",
          "",
          "",
          "",
          "",
          "",
          "",
          "",
          "",
          "",
          "",
          "",
          "",
          "",
          "",
          "",
          ""
         ],
         "textfont": {
          "size": 12
         },
         "type": "scattergl",
         "x": [
          11.687576,
          11.137299,
          11.565106,
          11.269132,
          9.741646,
          11.112506,
          11.369223,
          11.111643,
          11.696136,
          11.434791,
          11.609206,
          11.556237,
          11.170481,
          11.596161,
          11.5078125,
          11.427918,
          11.184487,
          11.58305,
          11.646898,
          11.553444,
          11.086255,
          11.825525,
          11.751128,
          11.510989,
          11.047699,
          11.643066,
          11.784012,
          11.629056,
          11.40088,
          11.025255,
          11.47547,
          11.892704,
          11.651235,
          10.992703,
          11.643658,
          11.53184,
          11.634434,
          11.604732,
          11.511425,
          11.6745405,
          11.6069,
          11.007074,
          11.297322,
          11.481373,
          11.524184,
          11.168402,
          11.571204,
          11.598139,
          11.735521,
          11.562381,
          11.025194,
          11.615307,
          11.433476,
          11.466503,
          11.498299,
          11.616057,
          11.201835,
          11.582053,
          11.150696,
          11.228369,
          11.117186,
          11.883973,
          11.693682
         ],
         "y": [
          8.9234,
          8.857285,
          8.976681,
          8.612808,
          8.207955,
          8.802907,
          8.820954,
          8.930258,
          8.459472,
          8.960313,
          9.05867,
          8.91051,
          8.848984,
          8.964409,
          8.763285,
          8.643059,
          8.901829,
          8.86631,
          7.8882594,
          8.737814,
          8.914153,
          7.678825,
          8.493659,
          8.712813,
          8.7506275,
          8.662817,
          8.666323,
          8.34989,
          8.649612,
          8.922006,
          8.84905,
          8.514832,
          8.727716,
          8.938816,
          8.921115,
          8.829116,
          8.682576,
          8.876433,
          8.844682,
          8.866098,
          8.68462,
          8.98028,
          8.778406,
          8.798302,
          9.039938,
          9.094615,
          8.817241,
          8.838228,
          8.89651,
          8.32392,
          8.818707,
          8.368331,
          8.83315,
          8.840646,
          8.855462,
          8.880227,
          9.08966,
          8.877067,
          8.663692,
          8.350115,
          8.932814,
          8.668292,
          8.803073
         ]
        },
        {
         "hoverinfo": "text",
         "hovertext": [
          "\"I will never fly this airline again\"",
          "\"such appalling customer service\"",
          "\"service is extremely poor\"",
          "\"!not a good experience\"",
          "\"Utterly outrageous\"",
          "\"asked me to keep my luggage down\"",
          "\"piled into the bus and left\"",
          "\"I can’t imagine a worst airline\"",
          "\"got it all wrong with 6 hours delay\"",
          "\"thank our crew in particular\"",
          "\"never set foot in another BA flight\"",
          "\"very poor quality seats\"",
          "\"never be using BA again\"",
          "\"ludicrous approach to carry on baggage\"",
          "\"Poor from start to finish\"",
          "\"Arriving late to board\"",
          "\"another abysmal flight from BA\"",
          "\"even Ryanair have more space\"",
          "\"appreciation to be passed on\"",
          "\"Is this how low BA has fallen?\"",
          "\"suitcase was 4cm oversize\"",
          "\"recommend taking own food\"",
          "\"It used to be a good airline\"",
          "\"is simply a budget airline\"",
          "\"policy is arbitrary and unfair\"",
          "\"catch up with the others BA\"",
          "\"gave up being a full-service airline\"",
          "\"Boarding flight took an hour\"",
          "crew were extremely noisy\"",
          "\"cabin staff were almost robotic\"",
          "\"passing off economy seats as business\"",
          "\"airline is going downhill rapidly\"",
          "\"got virtually free tickets\"",
          "\"decline into a sub-par service\"",
          "\"check in my bag at the gate\"",
          "\"process was ridiculously slow\"",
          "\"my luggage arrived soaking wet\"",
          "\"downright rude and abusive\"",
          "\"no better than no frills competitors\"",
          "\"I do want to thank BA\"",
          "\"stick to their cabin bag size limit\"",
          "\"lounge was overcrowded and worn out\"",
          "\"shocked me with the budget low cost style\"",
          "\"queue for bag drop was massive\"",
          "\"the service was shockingly bad\"",
          "\"deeply distressing flight \"",
          "“a pleasant and civilized journey”",
          "\"changed our prepaid seats\"",
          "\"Shocking customer service\"",
          "\"charges for baggage are outrageous\"",
          "\"extremely rude and aggressive\"",
          "\"the worst flight I have ever had\"",
          "\"I dislike them so much\"",
          "\"will think twice before choosing again\"",
          "\"I couldn’t check in online\"",
          "\"Boarding was chaotic\"",
          "\"the worst experience\"",
          "\"delayed for 5 hours\"",
          "\"trip has been really smooth\""
         ],
         "marker": {
          "opacity": 0.5,
          "size": 5
         },
         "mode": "markers+text",
         "name": "Boarding Delays and Customer Service",
         "text": [
          "",
          "",
          "",
          "",
          "",
          "",
          "",
          "",
          "",
          "",
          "",
          "",
          "",
          "",
          "",
          "",
          "",
          "",
          "",
          "",
          "",
          "",
          "",
          "",
          "",
          "",
          "",
          "",
          "",
          "",
          "",
          "",
          "",
          "",
          "",
          "",
          "",
          "",
          "",
          "",
          "",
          "",
          "",
          "",
          "",
          "",
          "",
          "",
          "",
          "",
          "",
          "",
          "",
          "",
          "",
          "",
          "",
          "",
          ""
         ],
         "textfont": {
          "size": 12
         },
         "type": "scattergl",
         "x": [
          8.389131,
          7.9368854,
          7.8957005,
          7.7604346,
          7.1884737,
          7.9866486,
          8.623007,
          6.55554,
          8.322087,
          7.7816954,
          7.7441463,
          8.441335,
          7.9236417,
          8.024315,
          6.752583,
          7.159915,
          8.108219,
          7.959756,
          8.388944,
          7.9484096,
          7.880396,
          8.079591,
          8.35429,
          8.042646,
          8.063529,
          8.462369,
          8.24417,
          8.058056,
          7.8504667,
          8.291482,
          8.025579,
          8.462,
          8.028305,
          8.0005865,
          8.039146,
          8.165175,
          7.127655,
          7.895305,
          7.9769087,
          7.074821,
          8.089591,
          7.2193346,
          8.007294,
          8.350829,
          7.106928,
          7.4268684,
          7.977323,
          8.426063,
          8.288495,
          6.7687654,
          7.2308717,
          8.051147,
          7.9008007,
          7.7437844,
          8.37636,
          7.0940094,
          7.2552323,
          6.450457,
          7.683739
         ],
         "y": [
          6.723649,
          7.2073092,
          7.304214,
          7.3171606,
          6.6636243,
          6.7866836,
          6.2672486,
          6.550689,
          6.717527,
          7.163712,
          7.1691265,
          6.717501,
          6.8744154,
          6.8646502,
          6.8175154,
          6.792225,
          6.7620006,
          6.483293,
          6.22508,
          7.207128,
          6.9194674,
          6.7173057,
          6.9791465,
          6.6917834,
          6.8653526,
          6.762643,
          6.652845,
          6.3552957,
          7.0919304,
          7.066331,
          7.8094463,
          6.919922,
          6.4473352,
          7.0630236,
          6.8333573,
          6.720174,
          6.8852606,
          7.183609,
          7.1204653,
          6.698729,
          6.346017,
          6.8701363,
          7.0630393,
          6.664847,
          6.824326,
          6.757858,
          7.0608807,
          6.6260815,
          7.051325,
          6.6160145,
          6.7631392,
          6.8045235,
          7.172908,
          7.2338033,
          7.0490294,
          6.7194753,
          6.7722774,
          6.580084,
          7.3662944
         ]
        },
        {
         "hoverinfo": "text",
         "hovertext": [
          "\"not be flying BA again\"",
          "\"suitcase didn’t arrive\"",
          "\"never fly British Airways again\"",
          "\"bad service with delayed luggage\"",
          "\"baggage customer service is a joke\"",
          "\"Angry, disappointed, and unsatisfied\"",
          "\"flight was delayed over 6 hours\"",
          "\"due to the delay I had to miss it\"",
          "\"been an appalling experience\"",
          "\"customer service is horrible\"",
          "\"My bag never showed up\"",
          "\"no information where my luggage is\"",
          "\"luggage was finally delivered on Thursday\"",
          "\"our luggage was soaking wet\"",
          "\"first and last experience\"",
          "\"not very accommodating\"",
          "\"get us on a flight 5 days later\"",
          "\"told that the check-in had closed\"",
          "\"I will never fly British Airways again\"",
          "\"There is no customer support\"",
          "\"charged me for a bottle of water\"",
          "\"expected service onboard\"",
          "\"check in counter was closed\"",
          "\"stated it is not their fault\"",
          "\"provided reasonable cabin service\"",
          "\"The airline lost my luggage\"",
          "“Worst service ever”",
          "\"2 suitcases lost in 2 flights\"",
          "\"They lost my baggage\"",
          "\"don’t know which airline is at fault\"",
          "\"luggage was mis-tagged in Dallas\"",
          "\"Lots of cancellations and delays\"",
          "\"lost the connecting flight to Tirana\"",
          "\"45 minutes before my bag came\"",
          "\"Absolutely disgraceful\"",
          "\"vowed to never fly with BA\"",
          "\"never use this company again\"",
          "\"utter abdication of responsibility\"",
          "\"Horrible, horrible service\"",
          "\"Thank you so much!\"",
          "\"could not be less interested\"",
          "\"Luggage is delayed\"",
          "\"No respect with the customer!\"",
          "\"cover 50% of my new luggage\"",
          "\"lack of customer service\"",
          "\"never fly this awful airline again\"",
          "\"would do everything to never fly British Airways again\"",
          "\"Overall not happy at all\"",
          "\"service was totally unacceptable\"",
          "\"they have no idea where our bags are\"",
          "\"one of the worst experiences\"",
          "\"Customer Service is non existent\"",
          "\"thank you for your service and kindness\""
         ],
         "marker": {
          "opacity": 0.5,
          "size": 5
         },
         "mode": "markers+text",
         "name": "Lost Luggage and Poor Service",
         "text": [
          "",
          "",
          "",
          "",
          "",
          "",
          "",
          "",
          "",
          "",
          "",
          "",
          "",
          "",
          "",
          "",
          "",
          "",
          "",
          "",
          "",
          "",
          "",
          "",
          "",
          "",
          "",
          "",
          "",
          "",
          "",
          "",
          "",
          "",
          "",
          "",
          "",
          "",
          "",
          "",
          "",
          "",
          "",
          "",
          "",
          "",
          "",
          "",
          "",
          "",
          "",
          "",
          ""
         ],
         "textfont": {
          "size": 12
         },
         "type": "scattergl",
         "x": [
          6.83546,
          6.3051667,
          6.2645307,
          6.274945,
          6.2974463,
          6.606811,
          6.8261037,
          6.7861533,
          6.5482144,
          6.607203,
          6.7245145,
          6.318085,
          6.2726846,
          6.900235,
          6.665194,
          6.758383,
          6.786343,
          6.2919507,
          6.795337,
          6.8026047,
          6.867662,
          6.6894164,
          6.333807,
          6.4516087,
          6.7276764,
          6.3765497,
          6.8424063,
          6.2740693,
          6.347453,
          6.596267,
          6.25415,
          6.9149504,
          6.732589,
          6.589835,
          6.239536,
          6.580708,
          6.306242,
          6.5367064,
          6.559453,
          6.6302977,
          6.2337823,
          6.975488,
          6.631892,
          6.2416334,
          6.3170547,
          6.799291,
          6.456111,
          7.1138725,
          6.2834487,
          6.543073,
          6.626213,
          6.679037,
          6.3785553
         ],
         "y": [
          6.306647,
          5.8685694,
          5.8447714,
          5.8583484,
          5.8543673,
          6.004728,
          5.888032,
          6.273476,
          6.109635,
          5.962199,
          6.193479,
          5.800468,
          5.8594203,
          5.792488,
          6.149744,
          6.2434497,
          6.404132,
          6.349124,
          6.2866898,
          6.237223,
          6.2395616,
          5.954722,
          5.9548664,
          5.9515414,
          6.107153,
          6.0167017,
          5.852427,
          5.909986,
          5.8408217,
          5.993093,
          5.826255,
          5.9142513,
          6.2948036,
          6.415881,
          5.8732114,
          6.1490746,
          5.8985786,
          5.989688,
          5.9295354,
          6.020915,
          5.784989,
          6.238634,
          5.9066033,
          5.8765397,
          5.9477787,
          6.315176,
          6.0182276,
          5.9001417,
          5.8174424,
          5.9699287,
          6.0396256,
          5.921394,
          5.9088626
         ]
        },
        {
         "hoverinfo": "text",
         "hovertext": [
          "\"continues to go downhill\"",
          "\"Very Poor Business class product\"",
          "\"Complete rip-off sums it up\"",
          "\"certainly make us avoid BA in future\"",
          "\"space provided for business class is just ludicrous\"",
          "\"an additional €476 for seat selection\"",
          "\"is not worth the fare\"",
          "\"Last time I will fly British Airways\"",
          "\"very disappointing experience \"",
          "\"disappointing business class\"",
          "\"substandard business class experience\"",
          "\"never fly British Airways again\"",
          "\"Meal service had no choice\"",
          "\"cabin crew seemed to really struggle with service\"",
          "\"exactly the same width and pitch\"",
          "\"it's truly awful for short-haul\"",
          "\"A380 is unconscionably crammed\"",
          "\"disgusted, what a rip off\"",
          "\"very disengaged management model\"",
          "\"narrow business class facing seats\"",
          "\"at least a decade out of date\"",
          "\"Club Europe is simply a joke\"",
          "\"economy style with an unsold middle seat\"",
          "\"Service extremely inattentive\"",
          "\"BA hang your head in shame\"",
          "\"totally disappointed\"",
          "\"exception is British Airways\"",
          "\"what was I thinking flying this airline?\"",
          "\"seats are narrow\"",
          "\"charges to select Business Class seats\"",
          "\"solid product and excellent crew\"",
          "\"why do they fly such wrecks?\"",
          "\"extra cost not justified\"",
          "\"very short leg space\"",
          "\"this service is a joke\"",
          "\"British Airways is cutting corners\"",
          "\"ravioli pasta had dried out\"",
          "\"food was first class, nothing was too much for the staff\"",
          "\"They have a long way to go\"",
          "\"used to be a nice airline\"",
          "\"the worst business class experience I've ever had\"",
          "“pathetic business class product”",
          "\"all needs a serious rework\"",
          "\"the most uncomfortable flight\"",
          "\"avoid BA like the plague\""
         ],
         "marker": {
          "opacity": 0.5,
          "size": 5
         },
         "mode": "markers+text",
         "name": "Business Class Service and Seating Issues",
         "text": [
          "",
          "",
          "",
          "",
          "",
          "",
          "",
          "",
          "",
          "",
          "",
          "",
          "",
          "",
          "",
          "",
          "",
          "",
          "",
          "",
          "",
          "",
          "",
          "",
          "",
          "",
          "",
          "",
          "",
          "",
          "",
          "",
          "",
          "",
          "",
          "",
          "",
          "",
          "",
          "",
          "",
          "",
          "",
          "",
          ""
         ],
         "textfont": {
          "size": 12
         },
         "type": "scattergl",
         "x": [
          10.062088,
          10.412708,
          10.375719,
          10.456871,
          10.105836,
          10.096989,
          10.158428,
          10.2177725,
          10.151034,
          10.351264,
          10.331583,
          10.180535,
          10.147388,
          10.636665,
          10.089152,
          10.1731615,
          10.238746,
          10.192046,
          10.076718,
          10.189265,
          10.107836,
          10.027638,
          10.199133,
          10.699009,
          10.439785,
          10.163924,
          10.071035,
          10.393523,
          9.971644,
          10.141238,
          10.461464,
          10.145975,
          10.099524,
          10.202197,
          10.486391,
          10.101381,
          10.126072,
          9.959337,
          10.321858,
          10.112218,
          10.287908,
          10.165686,
          10.1322565,
          10.238734,
          10.278017
         ],
         "y": [
          7.5355716,
          7.271663,
          7.3224854,
          7.438757,
          7.582075,
          7.64297,
          7.4720497,
          7.601191,
          7.506765,
          7.608827,
          7.5655384,
          7.47991,
          7.4503503,
          7.4222355,
          7.705604,
          7.6117544,
          7.5563903,
          7.5484934,
          7.6338897,
          7.6115,
          7.420223,
          7.632422,
          7.6321893,
          7.5631804,
          7.3351927,
          7.4759398,
          7.6276608,
          7.272878,
          7.3698134,
          7.6043124,
          6.9130483,
          7.5502706,
          7.7229342,
          7.556113,
          7.438474,
          7.5798535,
          7.3191304,
          7.4233084,
          7.474409,
          7.528641,
          7.4036074,
          7.535698,
          7.5126076,
          7.4955297,
          7.61069
         ]
        },
        {
         "hoverinfo": "text",
         "hovertext": [
          "\"Flight was uneventful\"",
          "\"never fly British Airways again\"",
          "\"I think they had overbooked\"",
          "\"absolutely terrible service\"",
          "\"Extremely dated aircraft\"",
          "\"the worst airline I have flown\"",
          "\"delayed by 3 hours\"",
          "\"missed my connecting flight\"",
          "\"an hour or so to drop off luggage\"",
          "\"Delays after delays\"",
          "\"forced me to check-in my suitcase\"",
          "\"IT systems went down\"",
          "\"on the next flight tomorrow\"",
          "\"A delayed BA flight\"",
          "\"not fly British Airways again\"",
          "\"we demanded we keep it\"",
          "\"I’m sure it’s bad luck\"",
          "\"Not exactly best of British\"",
          "\"late and delayed\"",
          "\"full price for a low cost service\"",
          "\"Another miserable experience\"",
          "\"My food was bad\"",
          "\"staff were no help and frankly rude\"",
          "\" Flight is again delayed\"",
          "\"cramped seat with no lights\"",
          "\"a nightmare\"",
          "\"experience with BA has been awful\"",
          "\"worst experience in all my years of travel\"",
          "\"fly this airline again\"",
          "\"Slowest baggage drop service \"",
          "\"no complimentary food or beverages\"",
          "\"gesture of professionalism\"",
          "\"did not keep us updated\"",
          "\"not worth the money\"",
          "\"an awesome experience\"",
          "\"worst business class experience\""
         ],
         "marker": {
          "opacity": 0.5,
          "size": 5
         },
         "mode": "markers+text",
         "name": "Significant Flight Delays and Issues",
         "text": [
          "",
          "",
          "",
          "",
          "",
          "",
          "",
          "",
          "",
          "",
          "",
          "",
          "",
          "",
          "",
          "",
          "",
          "",
          "",
          "",
          "",
          "",
          "",
          "",
          "",
          "",
          "",
          "",
          "",
          "",
          "",
          "",
          "",
          "",
          "",
          ""
         ],
         "textfont": {
          "size": 12
         },
         "type": "scattergl",
         "x": [
          8.583339,
          8.645162,
          8.461244,
          8.528742,
          8.477763,
          8.800008,
          8.682294,
          8.925714,
          8.516467,
          8.613646,
          8.570814,
          8.608087,
          8.240302,
          8.311415,
          8.162187,
          8.567977,
          8.2355,
          8.709374,
          8.290388,
          7.7278347,
          8.530273,
          8.869825,
          8.667563,
          8.65333,
          8.842366,
          8.895063,
          8.65576,
          8.291759,
          8.739097,
          8.617749,
          10.269756,
          8.998041,
          8.318317,
          8.278758,
          8.979281,
          8.494772
         ],
         "y": [
          5.4859247,
          5.905318,
          5.0756283,
          5.1653957,
          5.053799,
          5.935699,
          5.8686614,
          5.182252,
          5.2003703,
          5.9028025,
          5.189554,
          5.1458964,
          5.51687,
          5.352852,
          5.528061,
          5.4230556,
          5.343694,
          5.2505693,
          5.3782835,
          5.6526456,
          5.0565476,
          5.2060723,
          5.2237816,
          5.2526846,
          5.147021,
          5.058515,
          5.2820077,
          5.389649,
          5.827141,
          5.1544266,
          5.173905,
          5.0110035,
          5.2574954,
          5.4195924,
          5.0398498,
          5.1066217
         ]
        },
        {
         "hoverinfo": "text",
         "hovertext": [
          "\"comfort and service superb\"",
          "\"Better service with Ryanair\"",
          "\"superior to mainline British Airways\"",
          "\"crew professional and friendly\"",
          "\"felt like budget airline\"",
          "\"Will switch to Lufthansa\"",
          "\"they do not offer anything free\"",
          "\"not giving free food and drinks\"",
          "\"BA have lost another client\"",
          "\"Bad service\"",
          "\"Still recommended by me\"",
          "\"cheaper than EasyJet\"",
          "\"planes are ancient\"",
          "\"Absolutely useless\"",
          "\"worst sort of management bureaucracy\"",
          "\"Good improvement\"",
          "\"full-service airline or low cost\"",
          "\"offering an ultra low cost service\"",
          "\"they are truly awful now\"",
          "\"what you expect from a budget carrier\"",
          "\"crew were very pleasant\"",
          "\"akin to a low cost carrier\"",
          "\"staff could not have cared less\"",
          "\"efficient, clean and punctual\"",
          "\"serious impact on the quality\"",
          "\"Impressed with legroom on E190\"",
          "\"Limited TV and movie selections\"",
          "\"I end up with mix feelings\"",
          "\"BA provides buy onboard\"",
          "\"equal to Ryanair and EasyJet\"",
          "\"BA got us all home\"",
          "\"inflated prices for food\""
         ],
         "marker": {
          "opacity": 0.5,
          "size": 5
         },
         "mode": "markers+text",
         "name": "Edinburgh to London Flight Experience",
         "text": [
          "",
          "",
          "",
          "",
          "",
          "",
          "",
          "",
          "",
          "",
          "",
          "",
          "",
          "",
          "",
          "",
          "",
          "",
          "",
          "",
          "",
          "",
          "",
          "",
          "",
          "",
          "",
          "",
          "",
          "",
          "",
          ""
         ],
         "textfont": {
          "size": 12
         },
         "type": "scattergl",
         "x": [
          10.059888,
          10.003464,
          9.944618,
          9.493637,
          9.791855,
          9.792467,
          10.056504,
          10.122256,
          9.713262,
          9.90026,
          9.708672,
          9.890306,
          9.86797,
          9.739237,
          9.663906,
          9.501008,
          9.811504,
          9.964761,
          9.709596,
          10.098335,
          9.643991,
          10.032624,
          9.810266,
          9.825756,
          9.436273,
          9.815645,
          11.144284,
          9.895469,
          10.084466,
          10.000141,
          9.816644,
          9.978483
         ],
         "y": [
          5.721946,
          6.351568,
          5.637161,
          5.951166,
          5.7129083,
          6.2266726,
          5.928228,
          5.671759,
          6.1246862,
          6.318094,
          5.8583503,
          5.739969,
          5.989063,
          5.9286413,
          5.8777776,
          5.9742675,
          6.246216,
          6.1127048,
          6.580408,
          5.9904203,
          6.5426087,
          5.846218,
          6.0551486,
          5.680543,
          6.220753,
          5.724607,
          5.197403,
          6.0663147,
          5.687541,
          6.003169,
          6.0124683,
          5.78707
         ]
        },
        {
         "hoverinfo": "text",
         "hovertext": [
          "\"provided a high quality service\"",
          "\"not very friendly or helpful\"",
          "\"New Club Suites are amazing\"",
          "\"cabin crew where fantastic\"",
          "\"I am very disappointed\"",
          "\"It was the most uncomfortable flight\"",
          "\"positioning as a budget airline\"",
          "\"very satisfied with flight and service\"",
          "\"Seat was very uncomfortable\"",
          "\"What a disappointment of an airline\"",
          "\"hit a new low for me\"",
          "\"Should be more snacks on board\"",
          "\"a la carte dining option\"",
          "\"they have become so budget\"",
          "\"British Airways is seriously lacking\"",
          "\"You get what you pay for\"",
          "\"food was miserable\"",
          "\"Performance of the flight deck was up to its usual high standard\"",
          "\"would not recommend BA\"",
          "\"seats were the biggest let down\"",
          "\"very helpful and attentive\"",
          "\"cabin service was good\"",
          "\"I have given up on avios\"",
          "\"would not recommend\"",
          "\"Extremely disappointed trip\"",
          "\"years have not been kind\"",
          "\"I prepared myself for the worst\"",
          "\"IFE is a work of mystery\"",
          "\"cabin staff stomp up and down the aisle\""
         ],
         "marker": {
          "opacity": 0.5,
          "size": 5
         },
         "mode": "markers+text",
         "name": "Meal Service and Inflight Entertainment Issues",
         "text": [
          "",
          "",
          "",
          "",
          "",
          "",
          "",
          "",
          "",
          "",
          "",
          "",
          "",
          "",
          "",
          "",
          "",
          "",
          "",
          "",
          "",
          "",
          "",
          "",
          "",
          "",
          "",
          "",
          ""
         ],
         "textfont": {
          "size": 12
         },
         "type": "scattergl",
         "x": [
          12.239708,
          12.272587,
          12.819537,
          12.251521,
          12.2392845,
          12.359006,
          12.257436,
          12.013444,
          11.920942,
          12.363754,
          12.330032,
          12.189517,
          12.256212,
          12.398958,
          12.266803,
          12.235104,
          12.124425,
          12.78068,
          12.243578,
          12.171501,
          12.297283,
          12.2533245,
          12.082155,
          12.275867,
          12.415171,
          12.285757,
          12.211199,
          12.262164,
          12.335062
         ],
         "y": [
          8.206404,
          8.086376,
          7.336871,
          8.158711,
          8.047386,
          8.010258,
          8.1368475,
          8.509433,
          7.9806695,
          8.211701,
          8.194893,
          7.9788895,
          8.033785,
          8.232684,
          8.224704,
          8.018667,
          8.020939,
          7.4706416,
          8.067754,
          8.274763,
          8.240552,
          8.062118,
          7.937036,
          8.17192,
          8.287366,
          8.230914,
          8.285494,
          8.138261,
          8.172438
         ]
        },
        {
         "hoverinfo": "text",
         "hovertext": [
          "\"legroom was insufficient\"",
          "\"service was really good\"",
          "\"still consider other airlines\"",
          "\"never again British Airways\"",
          "\"really pleasant experience\"",
          "\"crew were attentive, friendly\"",
          "\"the service is good\"",
          "\"Clean aircraft, good crew, professional\"",
          "\"crew were very helpful\"",
          "\"the best thing was the crew\"",
          "\"impressed with level of service\"",
          "\"the service pleasant enough\"",
          "\"a good product and service\"",
          "\"service on board was impeccable\"",
          "\"777 aircraft is looking old\"",
          "\"I was unable to select a seat\"",
          "\"Layout of Boeing 787 cabin is poor\"",
          "\"Couldn't recommend BA more\"",
          "\"One of my better flights\"",
          "\"cabin staff were fantastic\"",
          "\"Flight attendants welcoming\"",
          "\"not improving where they should\"",
          "\"the food was poor\"",
          "\"both felt a bit disappointed\"",
          "\"Nice flight, good crew, very good seat\"",
          "“didn't find the crew particularly welcoming”",
          "\"a fantastic flight\"",
          "\"the flight was satisfactory\""
         ],
         "marker": {
          "opacity": 0.5,
          "size": 5
         },
         "mode": "markers+text",
         "name": "Boeing 787 Comfort and Service",
         "text": [
          "",
          "",
          "",
          "",
          "",
          "",
          "",
          "",
          "",
          "",
          "",
          "",
          "",
          "",
          "",
          "",
          "",
          "",
          "",
          "",
          "",
          "",
          "",
          "",
          "",
          "",
          "",
          ""
         ],
         "textfont": {
          "size": 12
         },
         "type": "scattergl",
         "x": [
          12.11229,
          12.117625,
          11.967618,
          11.9173155,
          12.076716,
          11.994814,
          12.122657,
          12.259884,
          11.854502,
          12.049119,
          11.9408,
          11.608085,
          11.911379,
          11.805749,
          11.920199,
          11.983864,
          11.928204,
          11.990601,
          12.010231,
          12.176998,
          12.274357,
          11.975741,
          12.117498,
          12.139476,
          11.905152,
          12.123307,
          12.105847,
          12.199875
         ],
         "y": [
          7.1278963,
          7.276539,
          6.8794465,
          6.6746078,
          7.210283,
          6.8789487,
          7.2550716,
          7.1417317,
          6.7836776,
          6.9441905,
          6.7340837,
          7.295438,
          6.7767115,
          7.0088143,
          7.157986,
          6.866295,
          6.737539,
          6.935519,
          7.1250615,
          7.1548905,
          6.8776326,
          6.885496,
          7.178312,
          7.1310725,
          6.732408,
          7.135803,
          6.9109406,
          7.025232
         ]
        },
        {
         "hoverinfo": "text",
         "hovertext": [
          "\"breakfast become rather perfunctory\"",
          "\"food has noticeably improved\"",
          "\"Air conditioning problem\"",
          "\"very friendly cabin crew\"",
          "\"Sound dinner service\"",
          "\"Overall a good flight\"",
          "\"very good experience\"",
          "\"flight has improved my opinion on British Airways\"",
          "\"I was very pleasantly surprised\"",
          "\"comfortable economy seat\"",
          "\"service on this flight was superb\"",
          "\"Crew on this sector were good\"",
          "\"seats are a huge improvement\"",
          "\"FAs went through the motions\"",
          "\"inflight service was distinctly average\"",
          "\"lacked the wow factor\"",
          "\"unimpressive amenities and service\"",
          "\"return trip was disappointing\"",
          "\"need to move with the times\"",
          "\"a flight with no problems\"",
          "\"Overall a good flight\"",
          "\"an old style business class experience\"",
          "\"an average experience\"",
          "\"SLOW lounge continues to impress\"",
          "\"significant downgrade in BA service\"",
          "\"way below BA's competitors\""
         ],
         "marker": {
          "opacity": 0.5,
          "size": 5
         },
         "mode": "markers+text",
         "name": "Lounge Quality and Catering Discrepancies",
         "text": [
          "",
          "",
          "",
          "",
          "",
          "",
          "",
          "",
          "",
          "",
          "",
          "",
          "",
          "",
          "",
          "",
          "",
          "",
          "",
          "",
          "",
          "",
          "",
          "",
          "",
          ""
         ],
         "textfont": {
          "size": 12
         },
         "type": "scattergl",
         "x": [
          12.890269,
          12.726162,
          12.958194,
          12.718223,
          12.960271,
          12.936413,
          12.668029,
          12.876448,
          12.780119,
          12.694538,
          12.839904,
          12.946121,
          12.937677,
          12.914172,
          12.957478,
          12.850891,
          12.640665,
          12.984709,
          12.877815,
          12.936388,
          13.00511,
          12.956031,
          12.920205,
          12.99548,
          12.896768,
          12.947167
         ],
         "y": [
          7.9494705,
          7.855108,
          8.006541,
          7.891066,
          8.055382,
          7.9829907,
          7.7164316,
          8.007905,
          7.713386,
          7.838402,
          8.050741,
          7.9343057,
          8.06617,
          8.0803,
          7.995404,
          7.821076,
          8.096279,
          8.033456,
          7.9819183,
          7.7961802,
          7.914571,
          8.070406,
          7.9917006,
          8.079994,
          8.007732,
          8.06514
         ]
        },
        {
         "hoverinfo": "text",
         "hovertext": [
          "\"She was attentive, warm, friendly\"",
          "\"Couldn’t fault anything\"",
          "“This is true service”",
          null,
          "\"he made my experience\"",
          "\"she went above and beyond\"",
          "\"Very attentive and enthusiastic\"",
          "\"it was an absolute delight\"",
          "\"cabin crew were so kind\"",
          "\"impeccable, attentive and delightful\"",
          "\"an exceptional crew member\"",
          "\"crew was nice and friendly\"",
          "\"Thank you British Airways\"",
          "\"She was an amazing person\"",
          "\"Shout out to the help desk at Heathrow\"",
          "\"staff were so friendly\"",
          "\"gratitude and appreciation\"",
          "\"service went from good to superb\"",
          "\"I am really grateful\"",
          "\"Really good crew\"",
          "\"personnel was just magnificent\"",
          "\"she went above and beyond\"",
          "\"one of the most pleasurable flights\"",
          "\"amazing at her job\"",
          "\"thank you for the great service\""
         ],
         "marker": {
          "opacity": 0.5,
          "size": 5
         },
         "mode": "markers+text",
         "name": "Exceptional Cabin Crew Support",
         "text": [
          "",
          "",
          "",
          "",
          "",
          "",
          "",
          "",
          "",
          "",
          "",
          "",
          "",
          "",
          "",
          "",
          "",
          "",
          "",
          "",
          "",
          "",
          "",
          "",
          ""
         ],
         "textfont": {
          "size": 12
         },
         "type": "scattergl",
         "x": [
          11.32859,
          11.36522,
          11.313783,
          11.358353,
          11.328816,
          11.31712,
          11.33939,
          11.335656,
          11.418701,
          11.428954,
          11.347777,
          11.334494,
          11.288484,
          11.359697,
          11.311405,
          12.169142,
          11.439687,
          11.3774185,
          11.372395,
          11.332902,
          11.289819,
          11.332872,
          11.365137,
          11.291472,
          11.387139
         ],
         "y": [
          4.227599,
          4.278556,
          4.2283015,
          4.2733636,
          4.243003,
          4.208921,
          4.506978,
          4.2490845,
          4.3896656,
          4.705127,
          4.239916,
          4.6655774,
          4.2364264,
          4.269738,
          4.280748,
          6.5519633,
          4.5006437,
          4.2848535,
          4.2817698,
          4.658616,
          4.204023,
          4.231804,
          4.3977113,
          4.235069,
          4.295192
         ]
        },
        {
         "hoverinfo": "text",
         "hovertext": [
          "\"5 mins too late for me to check in\"",
          "\"Rude and aggressive customer service\"",
          "\"used to be such a wonderful airline\"",
          "\"provide a hassle free flight to my son\"",
          "\"They were beyond amazing!\"",
          "\"waited for my bags for 3 hours\"",
          "\"flight is delayed\"",
          "\"I will no longer fly with BA\"",
          "\"so determined to help\"",
          "\"delays and cancellations\"",
          "\"unhelpful, uncomfortable and shabby\"",
          "\"customer service advisor disinterested\"",
          "\"Customer Service does not exist\"",
          "\"could not rebook via BA’s website\"",
          "\"think that BA are getting their mojo back again\"",
          "\"not worth the risk of travelling with BA\"",
          "\"such a poor service\"",
          "\"lies and lack of informatio\"",
          "\"delayed and missed connecting flight\"",
          "\"a horror show of incompetence\"",
          "\"it was beyond ridiculous\"",
          "\"a cheap airline that cannot be relied on\"",
          "\"could not have asked for better service\"",
          "\"our national flag carrier is being comfortably out performed by budget airlines\""
         ],
         "marker": {
          "opacity": 0.5,
          "size": 5
         },
         "mode": "markers+text",
         "name": "Ticketing and Customer Service Failures",
         "text": [
          "",
          "",
          "",
          "",
          "",
          "",
          "",
          "",
          "",
          "",
          "",
          "",
          "",
          "",
          "",
          "",
          "",
          "",
          "",
          "",
          "",
          "",
          "",
          ""
         ],
         "textfont": {
          "size": 12
         },
         "type": "scattergl",
         "x": [
          6.759228,
          7.1562066,
          6.819968,
          11.363224,
          11.271207,
          6.646904,
          7.041571,
          6.9610457,
          6.7053537,
          6.963927,
          6.9684415,
          6.9289446,
          7.015254,
          6.5995946,
          6.855004,
          6.837428,
          6.740038,
          6.90616,
          6.5649076,
          8.593591,
          6.728237,
          6.662625,
          6.6483874,
          6.993231
         ],
         "y": [
          7.0947695,
          6.7528195,
          7.131073,
          5.604735,
          4.2065196,
          6.771806,
          7.048747,
          6.910336,
          7.0872316,
          7.20533,
          6.8985715,
          6.871255,
          7.1215415,
          7.3337865,
          7.1410236,
          7.4001846,
          6.9861956,
          7.250013,
          7.050271,
          6.31367,
          7.064492,
          7.029937,
          6.816173,
          7.1856337
         ]
        },
        {
         "hoverinfo": "text",
         "hovertext": [
          "\"has been hit by cost savings\"",
          "\"a worn-out Boeing 777\"",
          "\"this is by far the worst\"",
          "\"would be my last choice\"",
          "\"worst experience I have had flying\"",
          "\"their customer service is a shambles\"",
          "\"outdated, unclean and uncomfortable\"",
          "\"Last long haul BA flight\"",
          "\"onboard like discount carriers\"",
          "\"If I had the option I would not fly BA\"",
          "\"inflight entertainment didn't work\"",
          "\"quality dropped dramatically\"",
          "\"extremely run down and shabby\"",
          "\"one of the worst journeys\"",
          "\"appalling customer service\"",
          "\"sufficient leg and arm room\"",
          "\"no customer loyalty sought\"",
          "\"seems they were understaffed\"",
          "\"choose another airline\"",
          "\"no accessory pack of eye shades\"",
          "\"I will never use them again\"",
          "\"British Airways have lost the plot\"",
          "\"fantastic staff at Terminal 3\""
         ],
         "marker": {
          "opacity": 0.5,
          "size": 5
         },
         "mode": "markers+text",
         "name": "Legroom and Seat Comfort Issues",
         "text": [
          "",
          "",
          "",
          "",
          "",
          "",
          "",
          "",
          "",
          "",
          "",
          "",
          "",
          "",
          "",
          "",
          "",
          "",
          "",
          "",
          "",
          "",
          ""
         ],
         "textfont": {
          "size": 12
         },
         "type": "scattergl",
         "x": [
          10.544818,
          10.098608,
          8.430726,
          8.740438,
          11.137779,
          8.72288,
          11.077652,
          8.866403,
          8.7999115,
          8.915696,
          10.931815,
          8.371869,
          9.003926,
          10.713635,
          11.0685625,
          8.69029,
          8.30637,
          10.995565,
          11.050601,
          11.122982,
          8.698412,
          10.519354,
          11.022897
         ],
         "y": [
          7.983098,
          9.428452,
          7.7088766,
          7.8072324,
          8.201256,
          7.3007526,
          7.5343,
          6.991382,
          7.0848513,
          6.905948,
          7.6865163,
          7.202515,
          7.4909897,
          7.715264,
          7.459714,
          7.269033,
          7.320163,
          7.8469005,
          7.493692,
          8.177553,
          7.285957,
          7.7083983,
          7.450839
         ]
        },
        {
         "hoverinfo": "text",
         "hovertext": [
          "\"I will no longer fly with BA\"",
          "\"in-flight service is usually weak\"",
          "\"The service was very good\"",
          "\"Maybe the old charm will return soon\"",
          "\"crew are still doing a great job\"",
          "\"Cabin crew were all fantastic\"",
          "\"BA falls down on presentation\"",
          "\"reasonable flight\"",
          "\"acceptable experience, nothing more\"",
          "\"last choice in future\"",
          "\"high level of service and friendliness\"",
          "\"this experience was a disgrace\"",
          "\"Baggage took 3/4 hour to be delivered\"",
          "\"Boarding was chaotic\"",
          "\"cabin crew were friendly and professional\"",
          "\"an excellent flight\"",
          "\"just an average airline\"",
          "\"A380 for the first time\"",
          "\"A380's are showing their age\"",
          "\"service and food were very good\"",
          "\"Was very comfortable\""
         ],
         "marker": {
          "opacity": 0.5,
          "size": 5
         },
         "mode": "markers+text",
         "name": "A380 Cabin Experience and Issues",
         "text": [
          "",
          "",
          "",
          "",
          "",
          "",
          "",
          "",
          "",
          "",
          "",
          "",
          "",
          "",
          "",
          "",
          "",
          "",
          "",
          "",
          ""
         ],
         "textfont": {
          "size": 12
         },
         "type": "scattergl",
         "x": [
          12.834309,
          12.460939,
          12.788082,
          12.763755,
          12.84489,
          12.748457,
          12.426825,
          12.8051605,
          12.766781,
          12.873965,
          12.797176,
          12.87257,
          12.848038,
          12.653902,
          12.855107,
          12.7824745,
          12.774567,
          12.780686,
          12.799631,
          12.798369,
          12.700367
         ],
         "y": [
          6.437506,
          6.425421,
          6.3657866,
          6.4118032,
          6.307449,
          6.4345565,
          6.381384,
          6.3571463,
          6.299223,
          6.309397,
          6.389556,
          6.3097878,
          6.404396,
          6.434082,
          6.3489213,
          6.3296432,
          6.4148874,
          6.2775154,
          6.3810077,
          6.30533,
          6.178334
         ]
        },
        {
         "hoverinfo": "text",
         "hovertext": [
          "\"Food and drinks fine\"",
          "\"Cabin crew attentive and bubbly\"",
          "\"Good service the whole way\"",
          "\"the nicest crew I've ever had\"",
          "\"Overall a very enjoyable flight\"",
          "\"this flight was excellent\"",
          "\"very professional and pleasant\"",
          "\"well turned out staff\"",
          "\"nothing bad about food but nothing great either\"",
          "\"This time it was good value\"",
          "\"cabins are in need of refurbishment\"",
          "\"Hard working crew\"",
          "\"Staff very friendly and professional\"",
          "\"Good professional crew\"",
          "\"Generally a positive experience\"",
          "\"very basic generic airline\"",
          "\"very friendly cabin crew\"",
          "\"Flight perfectly on time\"",
          "\"Service was good but food not so\"",
          "\"Couldn’t ask for more\""
         ],
         "marker": {
          "opacity": 0.5,
          "size": 5
         },
         "mode": "markers+text",
         "name": "Comfort and Cabin Crew Evaluation",
         "text": [
          "",
          "",
          "",
          "",
          "",
          "",
          "",
          "",
          "",
          "",
          "",
          "",
          "",
          "",
          "",
          "",
          "",
          "",
          "",
          ""
         ],
         "textfont": {
          "size": 12
         },
         "type": "scattergl",
         "x": [
          12.722816,
          12.753998,
          12.805069,
          12.782271,
          12.759497,
          12.678972,
          12.53634,
          12.57395,
          12.781755,
          12.775192,
          12.818847,
          12.705594,
          12.764463,
          12.869771,
          12.746804,
          12.808462,
          12.882147,
          12.83062,
          12.865169,
          12.81747
         ],
         "y": [
          6.9142666,
          6.8502164,
          6.992259,
          6.741276,
          6.871703,
          6.849082,
          6.876065,
          6.858537,
          6.9877214,
          6.8519144,
          6.826248,
          6.774826,
          6.8272214,
          6.7502713,
          6.8558817,
          6.7924633,
          6.750244,
          6.7473865,
          6.7979183,
          6.841809
         ]
        },
        {
         "hoverinfo": "text",
         "hovertext": [
          "\"not worth the money spent\"",
          null,
          "\"let us sit inside for 3 hours\"",
          "\"seat pitch on the small side\"",
          "\"aircraft was very old, outdated\"",
          "\"in the air great service\"",
          "\"Abysmal service\"",
          "\"this time they were superb\"",
          "\"left a great deal to be desired\"",
          "\"service is polite\"",
          "\"flight itself was quite good\"",
          "\"generous hand luggage rules\"",
          "\"comfortable and enough legroom\"",
          "\"crew were extremely nice\"",
          "\"rude staff and service\"",
          "\"special when the service is ok\"",
          "\"way below expected service\"",
          "\"don't include drinks or snacks\"",
          "\"carrier has become a laughing stock\""
         ],
         "marker": {
          "opacity": 0.5,
          "size": 5
         },
         "mode": "markers+text",
         "name": "Efficient Check-in and Boarding Chaos",
         "text": [
          "",
          "",
          "",
          "",
          "",
          "",
          "",
          "",
          "",
          "",
          "",
          "",
          "",
          "",
          "",
          "",
          "",
          "",
          ""
         ],
         "textfont": {
          "size": 12
         },
         "type": "scattergl",
         "x": [
          9.924452,
          9.77181,
          9.949814,
          9.690927,
          9.061032,
          9.811063,
          9.761781,
          10.311447,
          9.825232,
          9.855159,
          9.602033,
          8.995468,
          9.047475,
          9.803416,
          9.253851,
          9.830485,
          9.795475,
          9.065169,
          9.245685
         ],
         "y": [
          5.2709794,
          5.3295617,
          5.213774,
          5.4103355,
          5.7101803,
          5.2916965,
          5.3417115,
          4.849045,
          5.3019886,
          5.3200674,
          5.526818,
          5.792591,
          5.7664266,
          5.2764797,
          5.614628,
          5.236467,
          5.3300266,
          5.67241,
          5.649152
         ]
        },
        {
         "hoverinfo": "text",
         "hovertext": [
          "\"policy of charging to book a seat\"",
          "\"Unprofessional staff, uncomfortable seats\"",
          "\"Premium Economy is a joke\"",
          "\"one drink service on 10 hour flight\"",
          "\"was very disappointed\"",
          "\"Better than I was expecting\"",
          "\"inadequate for the money paid\"",
          "\"a much lower standard than other airlines\"",
          "\"an amazing experience\"",
          "\"offer some additional comfort\"",
          "\"worth the extra money for Premium Economy\"",
          "\"pleasantly surprised by the experience\"",
          "\"I cannot recommend this cabin\"",
          "\"inflight service was efficient and friendly\"",
          "\" A very pleasant experience\"",
          "\"cramped single aisle aircraft\"",
          "\"a poor service all round \""
         ],
         "marker": {
          "opacity": 0.5,
          "size": 5
         },
         "mode": "markers+text",
         "name": "Premium Economy Experience Evaluation",
         "text": [
          "",
          "",
          "",
          "",
          "",
          "",
          "",
          "",
          "",
          "",
          "",
          "",
          "",
          "",
          "",
          "",
          ""
         ],
         "textfont": {
          "size": 12
         },
         "type": "scattergl",
         "x": [
          12.283961,
          12.345279,
          12.2485285,
          12.407268,
          12.34279,
          12.2856455,
          12.287252,
          12.184072,
          12.389322,
          12.121874,
          12.147228,
          12.429921,
          12.215014,
          12.434092,
          12.3091955,
          12.4083395,
          12.259981
         ],
         "y": [
          7.3833346,
          7.410755,
          7.325548,
          7.415992,
          7.416855,
          7.455662,
          7.3481197,
          7.4058394,
          7.4097295,
          7.42934,
          7.308675,
          7.4368544,
          7.2946377,
          7.3841076,
          7.412506,
          7.3879805,
          7.339425
         ]
        },
        {
         "hoverinfo": "text",
         "hovertext": [
          "\"bad experience with BA\"",
          "\"very disappointed with the service they provide\"",
          "\"fast and efficient service\"",
          "\"turned into a low cost airline\"",
          "\"good flight and service\"",
          "\"started with a 2.5 hours delay\"",
          "\"the worst flight I've been on\"",
          "\"The legroom was terrible\"",
          "\"a very good overall service\"",
          "\"Very tired and disappointed\"",
          "\"inflight service was top notch\"",
          "\"we had to print out boarding passes\"",
          "\"very happy with this short flight\"",
          "\"clean looking A320\"",
          "\"require a transit visa\"",
          "\"had to pay for another flight\""
         ],
         "marker": {
          "opacity": 0.5,
          "size": 5
         },
         "mode": "markers+text",
         "name": "Delays and Inflight Service Issues",
         "text": [
          "",
          "",
          "",
          "",
          "",
          "",
          "",
          "",
          "",
          "",
          "",
          "",
          "",
          "",
          "",
          ""
         ],
         "textfont": {
          "size": 12
         },
         "type": "scattergl",
         "x": [
          9.597657,
          9.23094,
          9.551189,
          9.546595,
          9.546021,
          9.50908,
          9.517728,
          9.543384,
          9.621542,
          9.233151,
          9.546271,
          9.550634,
          9.592277,
          9.4760895,
          9.563291,
          9.217675
         ],
         "y": [
          4.921503,
          5.4021745,
          4.8796406,
          4.882268,
          4.881883,
          4.88975,
          4.902975,
          4.883962,
          4.8641543,
          5.425813,
          4.885667,
          4.851347,
          4.8977847,
          4.9954815,
          4.897318,
          5.4039087
         ]
        },
        {
         "hoverinfo": "text",
         "hovertext": [
          "\"service is consistently unacceptable\"",
          "\"check-in process was terrible\"",
          "\"This airline is a complete disaster\"",
          "\"One issue after another!\"",
          "\"do not recommend this airline\"",
          "\"every flight had huge problems\"",
          "\"manager is very professional\"",
          "\"Service was inattentive at best\"",
          "\"the worst of the worst\"",
          "\"Complete and utter chaos\"",
          "\"flights changed with no cost\"",
          "\"was the worst flight\"",
          "\"BA sort this shambles out\"",
          "\"wonderful BA representative\"",
          "\"A catalogue of failures\""
         ],
         "marker": {
          "opacity": 0.5,
          "size": 5
         },
         "mode": "markers+text",
         "name": "Frequent Flight Delays and Chaos",
         "text": [
          "",
          "",
          "",
          "",
          "",
          "",
          "",
          "",
          "",
          "",
          "",
          "",
          "",
          "",
          ""
         ],
         "textfont": {
          "size": 12
         },
         "type": "scattergl",
         "x": [
          7.4112916,
          7.5440307,
          7.024846,
          7.045465,
          7.338976,
          7.5051856,
          7.0580997,
          7.1892834,
          6.912535,
          7.432861,
          7.5031424,
          7.3623004,
          7.27373,
          7.342513,
          7.276377
         ],
         "y": [
          6.0083003,
          6.149639,
          6.09904,
          6.341273,
          6.4093637,
          6.020331,
          6.1446075,
          6.372655,
          7.007755,
          6.196183,
          6.111495,
          6.0038433,
          6.2287,
          6.3246903,
          5.9964957
         ]
        },
        {
         "hoverinfo": "text",
         "hovertext": [
          "\"did not take responsibility\"",
          "\"the worst experience ever\"",
          "\"appalling service received\"",
          "\"decided to avoid BA from now on\"",
          "\"now worse than Ryanair\"",
          "\"Very very poor customer service\"",
          "\"arrived 3 hrs 25 mins late\"",
          "\"incredibly heartless and incompetent company\"",
          "\"Utterly appalling company\"",
          "\"My baggage never arrived\"",
          "\"Worst service/airline ever\"",
          "\"The worst customer service\"",
          "\"cancelled the rebooked flight\"",
          "\"Worst BA experience\"",
          "\"treats customers with such contempt\""
         ],
         "marker": {
          "opacity": 0.5,
          "size": 5
         },
         "mode": "markers+text",
         "name": "Overbooking and Flight Cancellations",
         "text": [
          "",
          "",
          "",
          "",
          "",
          "",
          "",
          "",
          "",
          "",
          "",
          "",
          "",
          "",
          ""
         ],
         "textfont": {
          "size": 12
         },
         "type": "scattergl",
         "x": [
          6.1589622,
          6.341977,
          6.15059,
          6.4395165,
          6.1595955,
          6.1851525,
          6.1246066,
          6.173106,
          6.205687,
          6.110837,
          6.1062007,
          6.1545568,
          6.132866,
          6.4859056,
          6.3575654
         ],
         "y": [
          6.823507,
          7.0370746,
          6.759519,
          6.6199303,
          6.7456656,
          6.820328,
          6.790786,
          6.5957007,
          6.867546,
          6.8294387,
          6.7570424,
          6.6815233,
          6.8190975,
          6.6784177,
          6.56524
         ]
        },
        {
         "hoverinfo": "text",
         "hovertext": [
          "\"one expects a degree of comfort\"",
          "\"Cheapskate airline now\"",
          "\"Crew was pretty average\"",
          "\"Very satisfied with BA\"",
          "\"no free food nor drink\"",
          "\"business class is a joke\"",
          "\"closer to low-cost carriers\"",
          "\"I decided no BA anymore\"",
          "\"three hours to get rebooking\"",
          "\"The airline isn’t bad\"",
          "\"Onboard 10/10, getting to be onboard 1/10\"",
          "\"budget airline at premium price\"",
          "\"luggage misplaced in the plane\"",
          "\"a noticeable degradation of service\"",
          "\"went above and beyond for me\""
         ],
         "marker": {
          "opacity": 0.5,
          "size": 5
         },
         "mode": "markers+text",
         "name": "Ground Staff and Check-in Issues",
         "text": [
          "",
          "",
          "",
          "",
          "",
          "",
          "",
          "",
          "",
          "",
          "",
          "",
          "",
          "",
          ""
         ],
         "textfont": {
          "size": 12
         },
         "type": "scattergl",
         "x": [
          10.6712265,
          9.230093,
          10.723926,
          10.688518,
          8.768801,
          10.692787,
          8.716667,
          8.761296,
          10.816014,
          8.8306,
          8.780819,
          8.795027,
          10.62401,
          8.78381,
          10.767225
         ],
         "y": [
          4.707347,
          5.775467,
          4.6676264,
          4.716487,
          5.94244,
          4.908315,
          6.015596,
          5.988601,
          4.8325534,
          5.835152,
          5.8569446,
          5.894939,
          4.6834407,
          5.8939095,
          4.8957
         ]
        },
        {
         "hoverinfo": "text",
         "hovertext": [
          "\"getting worse and worse\"",
          "\"Bare bones service\"",
          "\"some sort of mean spirited joke\"",
          "\"I was very disappointed\"",
          "\"one of the worst experiences\"",
          "\"once again disappointed\"",
          "\"experience was excellent\"",
          "\"BA is now a low cost carrier\"",
          "\"don't provide free food and drink\"",
          "\"has adopted the low cost airline mentality\"",
          "\"lounge at T5 is large and busy\"",
          "\"glorified budget airline\"",
          "\"embarrass flight staff so much\""
         ],
         "marker": {
          "opacity": 0.5,
          "size": 5
         },
         "mode": "markers+text",
         "name": "Poor In-Flight Experience and Services",
         "text": [
          "",
          "",
          "",
          "",
          "",
          "",
          "",
          "",
          "",
          "",
          "",
          "",
          ""
         ],
         "textfont": {
          "size": 12
         },
         "type": "scattergl",
         "x": [
          9.907747,
          9.870777,
          9.915519,
          9.894791,
          9.875423,
          9.918026,
          9.829522,
          9.904523,
          9.958322,
          10.0793915,
          9.954193,
          9.916906,
          9.925394
         ],
         "y": [
          4.619282,
          4.642443,
          4.626547,
          4.656433,
          4.6035624,
          4.64542,
          4.6716194,
          4.6298676,
          4.6391373,
          4.7922535,
          4.660242,
          4.5999775,
          4.6038575
         ]
        },
        {
         "hoverinfo": "text",
         "hovertext": [
          "\"Movie selection below average\"",
          "\"service good, food adequate\"",
          "\"Would recommend\"",
          "\"Not good for business\"",
          "\"good arrival lounge at LHR\"",
          "\"flight without a problem\"",
          "\"service was mediocre at best\"",
          "\"we had an excellent flight\"",
          "\"had a good flight on the A380\"",
          "\"friendly and professional\"",
          "\"A380 is state of the art\"",
          "\"A good flight overall\""
         ],
         "marker": {
          "opacity": 0.5,
          "size": 5
         },
         "mode": "markers+text",
         "name": "A380 Comfort and Service Feedback",
         "text": [
          "",
          "",
          "",
          "",
          "",
          "",
          "",
          "",
          "",
          "",
          "",
          ""
         ],
         "textfont": {
          "size": 12
         },
         "type": "scattergl",
         "x": [
          12.575276,
          12.465029,
          12.5761,
          12.523449,
          12.467608,
          12.607974,
          12.270748,
          12.52662,
          12.518687,
          12.515727,
          12.516864,
          12.563649
         ],
         "y": [
          5.8262267,
          6.0032244,
          5.9850755,
          5.84717,
          6.044446,
          5.9407244,
          6.018332,
          5.9447227,
          5.9897604,
          5.2966337,
          5.8600636,
          5.82997
         ]
        },
        {
         "hoverinfo": "text",
         "hovertext": [
          "\"they managed to cut more costs\"",
          "\"a better BA experience\"",
          "\"appallingly uncomfortable flights\"",
          "\"experience is so lacklustre\"",
          "\"a waste of money\"",
          "\"the seat pitch is ridiculous\"",
          "\"their service was hit-and-miss\"",
          "\"Club Europe is poor value\"",
          "\"a miserable experience\"",
          "\"one of the most disgusting onboard meals\""
         ],
         "marker": {
          "opacity": 0.5,
          "size": 5
         },
         "mode": "markers+text",
         "name": "Club Europe Service and Comfort Issues",
         "text": [
          "",
          "",
          "",
          "",
          "",
          "",
          "",
          "",
          "",
          ""
         ],
         "textfont": {
          "size": 12
         },
         "type": "scattergl",
         "x": [
          10.069772,
          10.137025,
          9.900241,
          10.221748,
          10.137645,
          10.420814,
          10.521694,
          10.180841,
          10.164474,
          10.480775
         ],
         "y": [
          7.0421042,
          6.958016,
          7.219869,
          6.725864,
          6.8156996,
          6.815748,
          6.714318,
          6.814812,
          6.884391,
          6.712636
         ]
        }
       ],
       "layout": {
        "annotations": [
         {
          "showarrow": false,
          "text": "D1",
          "x": 4.4395763874053955,
          "y": 7.501461517810822,
          "yshift": 10
         },
         {
          "showarrow": false,
          "text": "D2",
          "x": 9.697726321220397,
          "xshift": 10,
          "y": 11.429503583908081
         }
        ],
        "height": 750,
        "shapes": [
         {
          "line": {
           "color": "#CFD8DC",
           "width": 2
          },
          "type": "line",
          "x0": 9.697726321220397,
          "x1": 9.697726321220397,
          "y0": 3.573419451713562,
          "y1": 11.429503583908081
         },
         {
          "line": {
           "color": "#9E9E9E",
           "width": 2
          },
          "type": "line",
          "x0": 4.4395763874053955,
          "x1": 14.9558762550354,
          "y0": 7.501461517810822,
          "y1": 7.501461517810822
         }
        ],
        "template": {
         "data": {
          "bar": [
           {
            "error_x": {
             "color": "rgb(36,36,36)"
            },
            "error_y": {
             "color": "rgb(36,36,36)"
            },
            "marker": {
             "line": {
              "color": "white",
              "width": 0.5
             },
             "pattern": {
              "fillmode": "overlay",
              "size": 10,
              "solidity": 0.2
             }
            },
            "type": "bar"
           }
          ],
          "barpolar": [
           {
            "marker": {
             "line": {
              "color": "white",
              "width": 0.5
             },
             "pattern": {
              "fillmode": "overlay",
              "size": 10,
              "solidity": 0.2
             }
            },
            "type": "barpolar"
           }
          ],
          "carpet": [
           {
            "aaxis": {
             "endlinecolor": "rgb(36,36,36)",
             "gridcolor": "white",
             "linecolor": "white",
             "minorgridcolor": "white",
             "startlinecolor": "rgb(36,36,36)"
            },
            "baxis": {
             "endlinecolor": "rgb(36,36,36)",
             "gridcolor": "white",
             "linecolor": "white",
             "minorgridcolor": "white",
             "startlinecolor": "rgb(36,36,36)"
            },
            "type": "carpet"
           }
          ],
          "choropleth": [
           {
            "colorbar": {
             "outlinewidth": 1,
             "tickcolor": "rgb(36,36,36)",
             "ticks": "outside"
            },
            "type": "choropleth"
           }
          ],
          "contour": [
           {
            "colorbar": {
             "outlinewidth": 1,
             "tickcolor": "rgb(36,36,36)",
             "ticks": "outside"
            },
            "colorscale": [
             [
              0,
              "#440154"
             ],
             [
              0.1111111111111111,
              "#482878"
             ],
             [
              0.2222222222222222,
              "#3e4989"
             ],
             [
              0.3333333333333333,
              "#31688e"
             ],
             [
              0.4444444444444444,
              "#26828e"
             ],
             [
              0.5555555555555556,
              "#1f9e89"
             ],
             [
              0.6666666666666666,
              "#35b779"
             ],
             [
              0.7777777777777778,
              "#6ece58"
             ],
             [
              0.8888888888888888,
              "#b5de2b"
             ],
             [
              1,
              "#fde725"
             ]
            ],
            "type": "contour"
           }
          ],
          "contourcarpet": [
           {
            "colorbar": {
             "outlinewidth": 1,
             "tickcolor": "rgb(36,36,36)",
             "ticks": "outside"
            },
            "type": "contourcarpet"
           }
          ],
          "heatmap": [
           {
            "colorbar": {
             "outlinewidth": 1,
             "tickcolor": "rgb(36,36,36)",
             "ticks": "outside"
            },
            "colorscale": [
             [
              0,
              "#440154"
             ],
             [
              0.1111111111111111,
              "#482878"
             ],
             [
              0.2222222222222222,
              "#3e4989"
             ],
             [
              0.3333333333333333,
              "#31688e"
             ],
             [
              0.4444444444444444,
              "#26828e"
             ],
             [
              0.5555555555555556,
              "#1f9e89"
             ],
             [
              0.6666666666666666,
              "#35b779"
             ],
             [
              0.7777777777777778,
              "#6ece58"
             ],
             [
              0.8888888888888888,
              "#b5de2b"
             ],
             [
              1,
              "#fde725"
             ]
            ],
            "type": "heatmap"
           }
          ],
          "heatmapgl": [
           {
            "colorbar": {
             "outlinewidth": 1,
             "tickcolor": "rgb(36,36,36)",
             "ticks": "outside"
            },
            "colorscale": [
             [
              0,
              "#440154"
             ],
             [
              0.1111111111111111,
              "#482878"
             ],
             [
              0.2222222222222222,
              "#3e4989"
             ],
             [
              0.3333333333333333,
              "#31688e"
             ],
             [
              0.4444444444444444,
              "#26828e"
             ],
             [
              0.5555555555555556,
              "#1f9e89"
             ],
             [
              0.6666666666666666,
              "#35b779"
             ],
             [
              0.7777777777777778,
              "#6ece58"
             ],
             [
              0.8888888888888888,
              "#b5de2b"
             ],
             [
              1,
              "#fde725"
             ]
            ],
            "type": "heatmapgl"
           }
          ],
          "histogram": [
           {
            "marker": {
             "line": {
              "color": "white",
              "width": 0.6
             }
            },
            "type": "histogram"
           }
          ],
          "histogram2d": [
           {
            "colorbar": {
             "outlinewidth": 1,
             "tickcolor": "rgb(36,36,36)",
             "ticks": "outside"
            },
            "colorscale": [
             [
              0,
              "#440154"
             ],
             [
              0.1111111111111111,
              "#482878"
             ],
             [
              0.2222222222222222,
              "#3e4989"
             ],
             [
              0.3333333333333333,
              "#31688e"
             ],
             [
              0.4444444444444444,
              "#26828e"
             ],
             [
              0.5555555555555556,
              "#1f9e89"
             ],
             [
              0.6666666666666666,
              "#35b779"
             ],
             [
              0.7777777777777778,
              "#6ece58"
             ],
             [
              0.8888888888888888,
              "#b5de2b"
             ],
             [
              1,
              "#fde725"
             ]
            ],
            "type": "histogram2d"
           }
          ],
          "histogram2dcontour": [
           {
            "colorbar": {
             "outlinewidth": 1,
             "tickcolor": "rgb(36,36,36)",
             "ticks": "outside"
            },
            "colorscale": [
             [
              0,
              "#440154"
             ],
             [
              0.1111111111111111,
              "#482878"
             ],
             [
              0.2222222222222222,
              "#3e4989"
             ],
             [
              0.3333333333333333,
              "#31688e"
             ],
             [
              0.4444444444444444,
              "#26828e"
             ],
             [
              0.5555555555555556,
              "#1f9e89"
             ],
             [
              0.6666666666666666,
              "#35b779"
             ],
             [
              0.7777777777777778,
              "#6ece58"
             ],
             [
              0.8888888888888888,
              "#b5de2b"
             ],
             [
              1,
              "#fde725"
             ]
            ],
            "type": "histogram2dcontour"
           }
          ],
          "mesh3d": [
           {
            "colorbar": {
             "outlinewidth": 1,
             "tickcolor": "rgb(36,36,36)",
             "ticks": "outside"
            },
            "type": "mesh3d"
           }
          ],
          "parcoords": [
           {
            "line": {
             "colorbar": {
              "outlinewidth": 1,
              "tickcolor": "rgb(36,36,36)",
              "ticks": "outside"
             }
            },
            "type": "parcoords"
           }
          ],
          "pie": [
           {
            "automargin": true,
            "type": "pie"
           }
          ],
          "scatter": [
           {
            "fillpattern": {
             "fillmode": "overlay",
             "size": 10,
             "solidity": 0.2
            },
            "type": "scatter"
           }
          ],
          "scatter3d": [
           {
            "line": {
             "colorbar": {
              "outlinewidth": 1,
              "tickcolor": "rgb(36,36,36)",
              "ticks": "outside"
             }
            },
            "marker": {
             "colorbar": {
              "outlinewidth": 1,
              "tickcolor": "rgb(36,36,36)",
              "ticks": "outside"
             }
            },
            "type": "scatter3d"
           }
          ],
          "scattercarpet": [
           {
            "marker": {
             "colorbar": {
              "outlinewidth": 1,
              "tickcolor": "rgb(36,36,36)",
              "ticks": "outside"
             }
            },
            "type": "scattercarpet"
           }
          ],
          "scattergeo": [
           {
            "marker": {
             "colorbar": {
              "outlinewidth": 1,
              "tickcolor": "rgb(36,36,36)",
              "ticks": "outside"
             }
            },
            "type": "scattergeo"
           }
          ],
          "scattergl": [
           {
            "marker": {
             "colorbar": {
              "outlinewidth": 1,
              "tickcolor": "rgb(36,36,36)",
              "ticks": "outside"
             }
            },
            "type": "scattergl"
           }
          ],
          "scattermapbox": [
           {
            "marker": {
             "colorbar": {
              "outlinewidth": 1,
              "tickcolor": "rgb(36,36,36)",
              "ticks": "outside"
             }
            },
            "type": "scattermapbox"
           }
          ],
          "scatterpolar": [
           {
            "marker": {
             "colorbar": {
              "outlinewidth": 1,
              "tickcolor": "rgb(36,36,36)",
              "ticks": "outside"
             }
            },
            "type": "scatterpolar"
           }
          ],
          "scatterpolargl": [
           {
            "marker": {
             "colorbar": {
              "outlinewidth": 1,
              "tickcolor": "rgb(36,36,36)",
              "ticks": "outside"
             }
            },
            "type": "scatterpolargl"
           }
          ],
          "scatterternary": [
           {
            "marker": {
             "colorbar": {
              "outlinewidth": 1,
              "tickcolor": "rgb(36,36,36)",
              "ticks": "outside"
             }
            },
            "type": "scatterternary"
           }
          ],
          "surface": [
           {
            "colorbar": {
             "outlinewidth": 1,
             "tickcolor": "rgb(36,36,36)",
             "ticks": "outside"
            },
            "colorscale": [
             [
              0,
              "#440154"
             ],
             [
              0.1111111111111111,
              "#482878"
             ],
             [
              0.2222222222222222,
              "#3e4989"
             ],
             [
              0.3333333333333333,
              "#31688e"
             ],
             [
              0.4444444444444444,
              "#26828e"
             ],
             [
              0.5555555555555556,
              "#1f9e89"
             ],
             [
              0.6666666666666666,
              "#35b779"
             ],
             [
              0.7777777777777778,
              "#6ece58"
             ],
             [
              0.8888888888888888,
              "#b5de2b"
             ],
             [
              1,
              "#fde725"
             ]
            ],
            "type": "surface"
           }
          ],
          "table": [
           {
            "cells": {
             "fill": {
              "color": "rgb(237,237,237)"
             },
             "line": {
              "color": "white"
             }
            },
            "header": {
             "fill": {
              "color": "rgb(217,217,217)"
             },
             "line": {
              "color": "white"
             }
            },
            "type": "table"
           }
          ]
         },
         "layout": {
          "annotationdefaults": {
           "arrowhead": 0,
           "arrowwidth": 1
          },
          "autotypenumbers": "strict",
          "coloraxis": {
           "colorbar": {
            "outlinewidth": 1,
            "tickcolor": "rgb(36,36,36)",
            "ticks": "outside"
           }
          },
          "colorscale": {
           "diverging": [
            [
             0,
             "rgb(103,0,31)"
            ],
            [
             0.1,
             "rgb(178,24,43)"
            ],
            [
             0.2,
             "rgb(214,96,77)"
            ],
            [
             0.3,
             "rgb(244,165,130)"
            ],
            [
             0.4,
             "rgb(253,219,199)"
            ],
            [
             0.5,
             "rgb(247,247,247)"
            ],
            [
             0.6,
             "rgb(209,229,240)"
            ],
            [
             0.7,
             "rgb(146,197,222)"
            ],
            [
             0.8,
             "rgb(67,147,195)"
            ],
            [
             0.9,
             "rgb(33,102,172)"
            ],
            [
             1,
             "rgb(5,48,97)"
            ]
           ],
           "sequential": [
            [
             0,
             "#440154"
            ],
            [
             0.1111111111111111,
             "#482878"
            ],
            [
             0.2222222222222222,
             "#3e4989"
            ],
            [
             0.3333333333333333,
             "#31688e"
            ],
            [
             0.4444444444444444,
             "#26828e"
            ],
            [
             0.5555555555555556,
             "#1f9e89"
            ],
            [
             0.6666666666666666,
             "#35b779"
            ],
            [
             0.7777777777777778,
             "#6ece58"
            ],
            [
             0.8888888888888888,
             "#b5de2b"
            ],
            [
             1,
             "#fde725"
            ]
           ],
           "sequentialminus": [
            [
             0,
             "#440154"
            ],
            [
             0.1111111111111111,
             "#482878"
            ],
            [
             0.2222222222222222,
             "#3e4989"
            ],
            [
             0.3333333333333333,
             "#31688e"
            ],
            [
             0.4444444444444444,
             "#26828e"
            ],
            [
             0.5555555555555556,
             "#1f9e89"
            ],
            [
             0.6666666666666666,
             "#35b779"
            ],
            [
             0.7777777777777778,
             "#6ece58"
            ],
            [
             0.8888888888888888,
             "#b5de2b"
            ],
            [
             1,
             "#fde725"
            ]
           ]
          },
          "colorway": [
           "#1F77B4",
           "#FF7F0E",
           "#2CA02C",
           "#D62728",
           "#9467BD",
           "#8C564B",
           "#E377C2",
           "#7F7F7F",
           "#BCBD22",
           "#17BECF"
          ],
          "font": {
           "color": "rgb(36,36,36)"
          },
          "geo": {
           "bgcolor": "white",
           "lakecolor": "white",
           "landcolor": "white",
           "showlakes": true,
           "showland": true,
           "subunitcolor": "white"
          },
          "hoverlabel": {
           "align": "left"
          },
          "hovermode": "closest",
          "mapbox": {
           "style": "light"
          },
          "paper_bgcolor": "white",
          "plot_bgcolor": "white",
          "polar": {
           "angularaxis": {
            "gridcolor": "rgb(232,232,232)",
            "linecolor": "rgb(36,36,36)",
            "showgrid": false,
            "showline": true,
            "ticks": "outside"
           },
           "bgcolor": "white",
           "radialaxis": {
            "gridcolor": "rgb(232,232,232)",
            "linecolor": "rgb(36,36,36)",
            "showgrid": false,
            "showline": true,
            "ticks": "outside"
           }
          },
          "scene": {
           "xaxis": {
            "backgroundcolor": "white",
            "gridcolor": "rgb(232,232,232)",
            "gridwidth": 2,
            "linecolor": "rgb(36,36,36)",
            "showbackground": true,
            "showgrid": false,
            "showline": true,
            "ticks": "outside",
            "zeroline": false,
            "zerolinecolor": "rgb(36,36,36)"
           },
           "yaxis": {
            "backgroundcolor": "white",
            "gridcolor": "rgb(232,232,232)",
            "gridwidth": 2,
            "linecolor": "rgb(36,36,36)",
            "showbackground": true,
            "showgrid": false,
            "showline": true,
            "ticks": "outside",
            "zeroline": false,
            "zerolinecolor": "rgb(36,36,36)"
           },
           "zaxis": {
            "backgroundcolor": "white",
            "gridcolor": "rgb(232,232,232)",
            "gridwidth": 2,
            "linecolor": "rgb(36,36,36)",
            "showbackground": true,
            "showgrid": false,
            "showline": true,
            "ticks": "outside",
            "zeroline": false,
            "zerolinecolor": "rgb(36,36,36)"
           }
          },
          "shapedefaults": {
           "fillcolor": "black",
           "line": {
            "width": 0
           },
           "opacity": 0.3
          },
          "ternary": {
           "aaxis": {
            "gridcolor": "rgb(232,232,232)",
            "linecolor": "rgb(36,36,36)",
            "showgrid": false,
            "showline": true,
            "ticks": "outside"
           },
           "baxis": {
            "gridcolor": "rgb(232,232,232)",
            "linecolor": "rgb(36,36,36)",
            "showgrid": false,
            "showline": true,
            "ticks": "outside"
           },
           "bgcolor": "white",
           "caxis": {
            "gridcolor": "rgb(232,232,232)",
            "linecolor": "rgb(36,36,36)",
            "showgrid": false,
            "showline": true,
            "ticks": "outside"
           }
          },
          "title": {
           "x": 0.05
          },
          "xaxis": {
           "automargin": true,
           "gridcolor": "rgb(232,232,232)",
           "linecolor": "rgb(36,36,36)",
           "showgrid": false,
           "showline": true,
           "ticks": "outside",
           "title": {
            "standoff": 15
           },
           "zeroline": false,
           "zerolinecolor": "rgb(36,36,36)"
          },
          "yaxis": {
           "automargin": true,
           "gridcolor": "rgb(232,232,232)",
           "linecolor": "rgb(36,36,36)",
           "showgrid": false,
           "showline": true,
           "ticks": "outside",
           "title": {
            "standoff": 15
           },
           "zeroline": false,
           "zerolinecolor": "rgb(36,36,36)"
          }
         }
        },
        "title": {
         "font": {
          "color": "Black",
          "size": 22
         },
         "text": "All Topics",
         "x": 0.5,
         "xanchor": "center",
         "yanchor": "top"
        },
        "width": 1000,
        "xaxis": {
         "visible": false
        },
        "yaxis": {
         "visible": false
        }
       }
      }
     },
     "metadata": {},
     "output_type": "display_data"
    }
   ],
   "source": [
    "topic_model.visualize_documents(\n",
    "    df[\"title\"].tolist(),\n",
    "    embeddings=embeddings,\n",
    "    width=1000,\n",
    "    title=\"All Topics\",\n",
    "    custom_labels=True,\n",
    "    hide_annotations=True,\n",
    ")"
   ]
  },
  {
   "cell_type": "markdown",
   "metadata": {},
   "source": [
    "#### Topic Top Words\n",
    "\n",
    "This plot show the top words in each of the top 8 topics. The size of each bar indicates the word's c-TF-IDF score, which is a measure of the word's importance within the topic.\n"
   ]
  },
  {
   "cell_type": "code",
   "execution_count": 10,
   "metadata": {},
   "outputs": [
    {
     "data": {
      "application/vnd.plotly.v1+json": {
       "config": {
        "plotlyServerURL": "https://plot.ly"
       },
       "data": [
        {
         "marker": {
          "color": "#D55E00"
         },
         "orientation": "h",
         "type": "bar",
         "x": [
          0.15372888225735706,
          0.15414290995040078,
          0.15423715781329805,
          0.15607591978501414,
          0.17112673731730532
         ],
         "xaxis": "x",
         "y": [
          "food  ",
          "crew  ",
          "cabin  ",
          "first class  ",
          "first  "
         ],
         "yaxis": "y"
        },
        {
         "marker": {
          "color": "#0072B2"
         },
         "orientation": "h",
         "type": "bar",
         "x": [
          0.1664925303471052,
          0.1664925303471052,
          0.17475344680868587,
          0.18790843761908427,
          0.30776456298880345
         ],
         "xaxis": "x2",
         "y": [
          "surrey  ",
          "gatwick surrey  ",
          "london gatwick  ",
          "lounge  ",
          "gatwick  "
         ],
         "yaxis": "y2"
        },
        {
         "marker": {
          "color": "#CC79A7"
         },
         "orientation": "h",
         "type": "bar",
         "x": [
          0.20390628664698227,
          0.20482062275498775,
          0.20722505925534823,
          0.21834526492223333,
          0.22362212490810712
         ],
         "xaxis": "x3",
         "y": [
          "london  ",
          "bangkok  ",
          "great  ",
          "entertainment  ",
          "good  "
         ],
         "yaxis": "y3"
        },
        {
         "marker": {
          "color": "#E69F00"
         },
         "orientation": "h",
         "type": "bar",
         "x": [
          0.18038412594863504,
          0.18061915100789905,
          0.18760866194253978,
          0.19253941631754687,
          0.19531516591414844
         ],
         "xaxis": "x4",
         "y": [
          "seat  ",
          "told  ",
          "seats  ",
          "customer  ",
          "paid  "
         ],
         "yaxis": "y4"
        },
        {
         "marker": {
          "color": "#56B4E9"
         },
         "orientation": "h",
         "type": "bar",
         "x": [
          0.23955033619157112,
          0.2425956860257397,
          0.26369382680253384,
          0.2737566766783102,
          0.32669426016907854
         ],
         "xaxis": "x5",
         "y": [
          "phone  ",
          "cancel  ",
          "voucher  ",
          "cancelled  ",
          "refund  "
         ],
         "yaxis": "y5"
        },
        {
         "marker": {
          "color": "#009E73"
         },
         "orientation": "h",
         "type": "bar",
         "x": [
          0.1943895278351467,
          0.20715352451457533,
          0.22480233701096528,
          0.23352177834564478,
          0.2380453876560666
         ],
         "xaxis": "x6",
         "y": [
          "food  ",
          "curry  ",
          "meal  ",
          "served  ",
          "chicken  "
         ],
         "yaxis": "y6"
        },
        {
         "marker": {
          "color": "#F0E442"
         },
         "orientation": "h",
         "type": "bar",
         "x": [
          0.2020386107681732,
          0.20385300670078038,
          0.21140619044066258,
          0.21248611022472866,
          0.2217181581068533
         ],
         "xaxis": "x7",
         "y": [
          "help  ",
          "luggage  ",
          "bag  ",
          "bags  ",
          "hand  "
         ],
         "yaxis": "y7"
        },
        {
         "marker": {
          "color": "#D55E00"
         },
         "orientation": "h",
         "type": "bar",
         "x": [
          0.2515258803127478,
          0.2603231719854643,
          0.2634214873108242,
          0.2656442287402013,
          0.3208431979648372
         ],
         "xaxis": "x8",
         "y": [
          "bags  ",
          "dublin  ",
          "bag  ",
          "suitcase  ",
          "luggage  "
         ],
         "yaxis": "y8"
        }
       ],
       "layout": {
        "annotations": [
         {
          "font": {
           "size": 16
          },
          "showarrow": false,
          "text": "Topic 0",
          "x": 0.0875,
          "xanchor": "center",
          "xref": "paper",
          "y": 1,
          "yanchor": "bottom",
          "yref": "paper"
         },
         {
          "font": {
           "size": 16
          },
          "showarrow": false,
          "text": "Topic 1",
          "x": 0.36250000000000004,
          "xanchor": "center",
          "xref": "paper",
          "y": 1,
          "yanchor": "bottom",
          "yref": "paper"
         },
         {
          "font": {
           "size": 16
          },
          "showarrow": false,
          "text": "Topic 2",
          "x": 0.6375000000000001,
          "xanchor": "center",
          "xref": "paper",
          "y": 1,
          "yanchor": "bottom",
          "yref": "paper"
         },
         {
          "font": {
           "size": 16
          },
          "showarrow": false,
          "text": "Topic 3",
          "x": 0.9125,
          "xanchor": "center",
          "xref": "paper",
          "y": 1,
          "yanchor": "bottom",
          "yref": "paper"
         },
         {
          "font": {
           "size": 16
          },
          "showarrow": false,
          "text": "Topic 4",
          "x": 0.0875,
          "xanchor": "center",
          "xref": "paper",
          "y": 0.4,
          "yanchor": "bottom",
          "yref": "paper"
         },
         {
          "font": {
           "size": 16
          },
          "showarrow": false,
          "text": "Topic 5",
          "x": 0.36250000000000004,
          "xanchor": "center",
          "xref": "paper",
          "y": 0.4,
          "yanchor": "bottom",
          "yref": "paper"
         },
         {
          "font": {
           "size": 16
          },
          "showarrow": false,
          "text": "Topic 6",
          "x": 0.6375000000000001,
          "xanchor": "center",
          "xref": "paper",
          "y": 0.4,
          "yanchor": "bottom",
          "yref": "paper"
         },
         {
          "font": {
           "size": 16
          },
          "showarrow": false,
          "text": "Topic 7",
          "x": 0.9125,
          "xanchor": "center",
          "xref": "paper",
          "y": 0.4,
          "yanchor": "bottom",
          "yref": "paper"
         }
        ],
        "height": 500,
        "hoverlabel": {
         "bgcolor": "white",
         "font": {
          "family": "Rockwell",
          "size": 16
         }
        },
        "showlegend": false,
        "template": {
         "data": {
          "bar": [
           {
            "error_x": {
             "color": "#2a3f5f"
            },
            "error_y": {
             "color": "#2a3f5f"
            },
            "marker": {
             "line": {
              "color": "white",
              "width": 0.5
             },
             "pattern": {
              "fillmode": "overlay",
              "size": 10,
              "solidity": 0.2
             }
            },
            "type": "bar"
           }
          ],
          "barpolar": [
           {
            "marker": {
             "line": {
              "color": "white",
              "width": 0.5
             },
             "pattern": {
              "fillmode": "overlay",
              "size": 10,
              "solidity": 0.2
             }
            },
            "type": "barpolar"
           }
          ],
          "carpet": [
           {
            "aaxis": {
             "endlinecolor": "#2a3f5f",
             "gridcolor": "#C8D4E3",
             "linecolor": "#C8D4E3",
             "minorgridcolor": "#C8D4E3",
             "startlinecolor": "#2a3f5f"
            },
            "baxis": {
             "endlinecolor": "#2a3f5f",
             "gridcolor": "#C8D4E3",
             "linecolor": "#C8D4E3",
             "minorgridcolor": "#C8D4E3",
             "startlinecolor": "#2a3f5f"
            },
            "type": "carpet"
           }
          ],
          "choropleth": [
           {
            "colorbar": {
             "outlinewidth": 0,
             "ticks": ""
            },
            "type": "choropleth"
           }
          ],
          "contour": [
           {
            "colorbar": {
             "outlinewidth": 0,
             "ticks": ""
            },
            "colorscale": [
             [
              0,
              "#0d0887"
             ],
             [
              0.1111111111111111,
              "#46039f"
             ],
             [
              0.2222222222222222,
              "#7201a8"
             ],
             [
              0.3333333333333333,
              "#9c179e"
             ],
             [
              0.4444444444444444,
              "#bd3786"
             ],
             [
              0.5555555555555556,
              "#d8576b"
             ],
             [
              0.6666666666666666,
              "#ed7953"
             ],
             [
              0.7777777777777778,
              "#fb9f3a"
             ],
             [
              0.8888888888888888,
              "#fdca26"
             ],
             [
              1,
              "#f0f921"
             ]
            ],
            "type": "contour"
           }
          ],
          "contourcarpet": [
           {
            "colorbar": {
             "outlinewidth": 0,
             "ticks": ""
            },
            "type": "contourcarpet"
           }
          ],
          "heatmap": [
           {
            "colorbar": {
             "outlinewidth": 0,
             "ticks": ""
            },
            "colorscale": [
             [
              0,
              "#0d0887"
             ],
             [
              0.1111111111111111,
              "#46039f"
             ],
             [
              0.2222222222222222,
              "#7201a8"
             ],
             [
              0.3333333333333333,
              "#9c179e"
             ],
             [
              0.4444444444444444,
              "#bd3786"
             ],
             [
              0.5555555555555556,
              "#d8576b"
             ],
             [
              0.6666666666666666,
              "#ed7953"
             ],
             [
              0.7777777777777778,
              "#fb9f3a"
             ],
             [
              0.8888888888888888,
              "#fdca26"
             ],
             [
              1,
              "#f0f921"
             ]
            ],
            "type": "heatmap"
           }
          ],
          "heatmapgl": [
           {
            "colorbar": {
             "outlinewidth": 0,
             "ticks": ""
            },
            "colorscale": [
             [
              0,
              "#0d0887"
             ],
             [
              0.1111111111111111,
              "#46039f"
             ],
             [
              0.2222222222222222,
              "#7201a8"
             ],
             [
              0.3333333333333333,
              "#9c179e"
             ],
             [
              0.4444444444444444,
              "#bd3786"
             ],
             [
              0.5555555555555556,
              "#d8576b"
             ],
             [
              0.6666666666666666,
              "#ed7953"
             ],
             [
              0.7777777777777778,
              "#fb9f3a"
             ],
             [
              0.8888888888888888,
              "#fdca26"
             ],
             [
              1,
              "#f0f921"
             ]
            ],
            "type": "heatmapgl"
           }
          ],
          "histogram": [
           {
            "marker": {
             "pattern": {
              "fillmode": "overlay",
              "size": 10,
              "solidity": 0.2
             }
            },
            "type": "histogram"
           }
          ],
          "histogram2d": [
           {
            "colorbar": {
             "outlinewidth": 0,
             "ticks": ""
            },
            "colorscale": [
             [
              0,
              "#0d0887"
             ],
             [
              0.1111111111111111,
              "#46039f"
             ],
             [
              0.2222222222222222,
              "#7201a8"
             ],
             [
              0.3333333333333333,
              "#9c179e"
             ],
             [
              0.4444444444444444,
              "#bd3786"
             ],
             [
              0.5555555555555556,
              "#d8576b"
             ],
             [
              0.6666666666666666,
              "#ed7953"
             ],
             [
              0.7777777777777778,
              "#fb9f3a"
             ],
             [
              0.8888888888888888,
              "#fdca26"
             ],
             [
              1,
              "#f0f921"
             ]
            ],
            "type": "histogram2d"
           }
          ],
          "histogram2dcontour": [
           {
            "colorbar": {
             "outlinewidth": 0,
             "ticks": ""
            },
            "colorscale": [
             [
              0,
              "#0d0887"
             ],
             [
              0.1111111111111111,
              "#46039f"
             ],
             [
              0.2222222222222222,
              "#7201a8"
             ],
             [
              0.3333333333333333,
              "#9c179e"
             ],
             [
              0.4444444444444444,
              "#bd3786"
             ],
             [
              0.5555555555555556,
              "#d8576b"
             ],
             [
              0.6666666666666666,
              "#ed7953"
             ],
             [
              0.7777777777777778,
              "#fb9f3a"
             ],
             [
              0.8888888888888888,
              "#fdca26"
             ],
             [
              1,
              "#f0f921"
             ]
            ],
            "type": "histogram2dcontour"
           }
          ],
          "mesh3d": [
           {
            "colorbar": {
             "outlinewidth": 0,
             "ticks": ""
            },
            "type": "mesh3d"
           }
          ],
          "parcoords": [
           {
            "line": {
             "colorbar": {
              "outlinewidth": 0,
              "ticks": ""
             }
            },
            "type": "parcoords"
           }
          ],
          "pie": [
           {
            "automargin": true,
            "type": "pie"
           }
          ],
          "scatter": [
           {
            "fillpattern": {
             "fillmode": "overlay",
             "size": 10,
             "solidity": 0.2
            },
            "type": "scatter"
           }
          ],
          "scatter3d": [
           {
            "line": {
             "colorbar": {
              "outlinewidth": 0,
              "ticks": ""
             }
            },
            "marker": {
             "colorbar": {
              "outlinewidth": 0,
              "ticks": ""
             }
            },
            "type": "scatter3d"
           }
          ],
          "scattercarpet": [
           {
            "marker": {
             "colorbar": {
              "outlinewidth": 0,
              "ticks": ""
             }
            },
            "type": "scattercarpet"
           }
          ],
          "scattergeo": [
           {
            "marker": {
             "colorbar": {
              "outlinewidth": 0,
              "ticks": ""
             }
            },
            "type": "scattergeo"
           }
          ],
          "scattergl": [
           {
            "marker": {
             "colorbar": {
              "outlinewidth": 0,
              "ticks": ""
             }
            },
            "type": "scattergl"
           }
          ],
          "scattermapbox": [
           {
            "marker": {
             "colorbar": {
              "outlinewidth": 0,
              "ticks": ""
             }
            },
            "type": "scattermapbox"
           }
          ],
          "scatterpolar": [
           {
            "marker": {
             "colorbar": {
              "outlinewidth": 0,
              "ticks": ""
             }
            },
            "type": "scatterpolar"
           }
          ],
          "scatterpolargl": [
           {
            "marker": {
             "colorbar": {
              "outlinewidth": 0,
              "ticks": ""
             }
            },
            "type": "scatterpolargl"
           }
          ],
          "scatterternary": [
           {
            "marker": {
             "colorbar": {
              "outlinewidth": 0,
              "ticks": ""
             }
            },
            "type": "scatterternary"
           }
          ],
          "surface": [
           {
            "colorbar": {
             "outlinewidth": 0,
             "ticks": ""
            },
            "colorscale": [
             [
              0,
              "#0d0887"
             ],
             [
              0.1111111111111111,
              "#46039f"
             ],
             [
              0.2222222222222222,
              "#7201a8"
             ],
             [
              0.3333333333333333,
              "#9c179e"
             ],
             [
              0.4444444444444444,
              "#bd3786"
             ],
             [
              0.5555555555555556,
              "#d8576b"
             ],
             [
              0.6666666666666666,
              "#ed7953"
             ],
             [
              0.7777777777777778,
              "#fb9f3a"
             ],
             [
              0.8888888888888888,
              "#fdca26"
             ],
             [
              1,
              "#f0f921"
             ]
            ],
            "type": "surface"
           }
          ],
          "table": [
           {
            "cells": {
             "fill": {
              "color": "#EBF0F8"
             },
             "line": {
              "color": "white"
             }
            },
            "header": {
             "fill": {
              "color": "#C8D4E3"
             },
             "line": {
              "color": "white"
             }
            },
            "type": "table"
           }
          ]
         },
         "layout": {
          "annotationdefaults": {
           "arrowcolor": "#2a3f5f",
           "arrowhead": 0,
           "arrowwidth": 1
          },
          "autotypenumbers": "strict",
          "coloraxis": {
           "colorbar": {
            "outlinewidth": 0,
            "ticks": ""
           }
          },
          "colorscale": {
           "diverging": [
            [
             0,
             "#8e0152"
            ],
            [
             0.1,
             "#c51b7d"
            ],
            [
             0.2,
             "#de77ae"
            ],
            [
             0.3,
             "#f1b6da"
            ],
            [
             0.4,
             "#fde0ef"
            ],
            [
             0.5,
             "#f7f7f7"
            ],
            [
             0.6,
             "#e6f5d0"
            ],
            [
             0.7,
             "#b8e186"
            ],
            [
             0.8,
             "#7fbc41"
            ],
            [
             0.9,
             "#4d9221"
            ],
            [
             1,
             "#276419"
            ]
           ],
           "sequential": [
            [
             0,
             "#0d0887"
            ],
            [
             0.1111111111111111,
             "#46039f"
            ],
            [
             0.2222222222222222,
             "#7201a8"
            ],
            [
             0.3333333333333333,
             "#9c179e"
            ],
            [
             0.4444444444444444,
             "#bd3786"
            ],
            [
             0.5555555555555556,
             "#d8576b"
            ],
            [
             0.6666666666666666,
             "#ed7953"
            ],
            [
             0.7777777777777778,
             "#fb9f3a"
            ],
            [
             0.8888888888888888,
             "#fdca26"
            ],
            [
             1,
             "#f0f921"
            ]
           ],
           "sequentialminus": [
            [
             0,
             "#0d0887"
            ],
            [
             0.1111111111111111,
             "#46039f"
            ],
            [
             0.2222222222222222,
             "#7201a8"
            ],
            [
             0.3333333333333333,
             "#9c179e"
            ],
            [
             0.4444444444444444,
             "#bd3786"
            ],
            [
             0.5555555555555556,
             "#d8576b"
            ],
            [
             0.6666666666666666,
             "#ed7953"
            ],
            [
             0.7777777777777778,
             "#fb9f3a"
            ],
            [
             0.8888888888888888,
             "#fdca26"
            ],
            [
             1,
             "#f0f921"
            ]
           ]
          },
          "colorway": [
           "#636efa",
           "#EF553B",
           "#00cc96",
           "#ab63fa",
           "#FFA15A",
           "#19d3f3",
           "#FF6692",
           "#B6E880",
           "#FF97FF",
           "#FECB52"
          ],
          "font": {
           "color": "#2a3f5f"
          },
          "geo": {
           "bgcolor": "white",
           "lakecolor": "white",
           "landcolor": "white",
           "showlakes": true,
           "showland": true,
           "subunitcolor": "#C8D4E3"
          },
          "hoverlabel": {
           "align": "left"
          },
          "hovermode": "closest",
          "mapbox": {
           "style": "light"
          },
          "paper_bgcolor": "white",
          "plot_bgcolor": "white",
          "polar": {
           "angularaxis": {
            "gridcolor": "#EBF0F8",
            "linecolor": "#EBF0F8",
            "ticks": ""
           },
           "bgcolor": "white",
           "radialaxis": {
            "gridcolor": "#EBF0F8",
            "linecolor": "#EBF0F8",
            "ticks": ""
           }
          },
          "scene": {
           "xaxis": {
            "backgroundcolor": "white",
            "gridcolor": "#DFE8F3",
            "gridwidth": 2,
            "linecolor": "#EBF0F8",
            "showbackground": true,
            "ticks": "",
            "zerolinecolor": "#EBF0F8"
           },
           "yaxis": {
            "backgroundcolor": "white",
            "gridcolor": "#DFE8F3",
            "gridwidth": 2,
            "linecolor": "#EBF0F8",
            "showbackground": true,
            "ticks": "",
            "zerolinecolor": "#EBF0F8"
           },
           "zaxis": {
            "backgroundcolor": "white",
            "gridcolor": "#DFE8F3",
            "gridwidth": 2,
            "linecolor": "#EBF0F8",
            "showbackground": true,
            "ticks": "",
            "zerolinecolor": "#EBF0F8"
           }
          },
          "shapedefaults": {
           "line": {
            "color": "#2a3f5f"
           }
          },
          "ternary": {
           "aaxis": {
            "gridcolor": "#DFE8F3",
            "linecolor": "#A2B1C6",
            "ticks": ""
           },
           "baxis": {
            "gridcolor": "#DFE8F3",
            "linecolor": "#A2B1C6",
            "ticks": ""
           },
           "bgcolor": "white",
           "caxis": {
            "gridcolor": "#DFE8F3",
            "linecolor": "#A2B1C6",
            "ticks": ""
           }
          },
          "title": {
           "x": 0.05
          },
          "xaxis": {
           "automargin": true,
           "gridcolor": "#EBF0F8",
           "linecolor": "#EBF0F8",
           "ticks": "",
           "title": {
            "standoff": 15
           },
           "zerolinecolor": "#EBF0F8",
           "zerolinewidth": 2
          },
          "yaxis": {
           "automargin": true,
           "gridcolor": "#EBF0F8",
           "linecolor": "#EBF0F8",
           "ticks": "",
           "title": {
            "standoff": 15
           },
           "zerolinecolor": "#EBF0F8",
           "zerolinewidth": 2
          }
         }
        },
        "title": {
         "font": {
          "color": "Black",
          "size": 22
         },
         "text": "Topic Top Words",
         "x": 0.5,
         "xanchor": "center",
         "yanchor": "top"
        },
        "width": 1000,
        "xaxis": {
         "anchor": "y",
         "domain": [
          0,
          0.175
         ],
         "showgrid": true
        },
        "xaxis2": {
         "anchor": "y2",
         "domain": [
          0.275,
          0.45
         ],
         "showgrid": true
        },
        "xaxis3": {
         "anchor": "y3",
         "domain": [
          0.55,
          0.7250000000000001
         ],
         "showgrid": true
        },
        "xaxis4": {
         "anchor": "y4",
         "domain": [
          0.825,
          1
         ],
         "showgrid": true
        },
        "xaxis5": {
         "anchor": "y5",
         "domain": [
          0,
          0.175
         ],
         "showgrid": true
        },
        "xaxis6": {
         "anchor": "y6",
         "domain": [
          0.275,
          0.45
         ],
         "showgrid": true
        },
        "xaxis7": {
         "anchor": "y7",
         "domain": [
          0.55,
          0.7250000000000001
         ],
         "showgrid": true
        },
        "xaxis8": {
         "anchor": "y8",
         "domain": [
          0.825,
          1
         ],
         "showgrid": true
        },
        "yaxis": {
         "anchor": "x",
         "domain": [
          0.6000000000000001,
          1
         ],
         "showgrid": true
        },
        "yaxis2": {
         "anchor": "x2",
         "domain": [
          0.6000000000000001,
          1
         ],
         "showgrid": true
        },
        "yaxis3": {
         "anchor": "x3",
         "domain": [
          0.6000000000000001,
          1
         ],
         "showgrid": true
        },
        "yaxis4": {
         "anchor": "x4",
         "domain": [
          0.6000000000000001,
          1
         ],
         "showgrid": true
        },
        "yaxis5": {
         "anchor": "x5",
         "domain": [
          0,
          0.4
         ],
         "showgrid": true
        },
        "yaxis6": {
         "anchor": "x6",
         "domain": [
          0,
          0.4
         ],
         "showgrid": true
        },
        "yaxis7": {
         "anchor": "x7",
         "domain": [
          0,
          0.4
         ],
         "showgrid": true
        },
        "yaxis8": {
         "anchor": "x8",
         "domain": [
          0,
          0.4
         ],
         "showgrid": true
        }
       }
      }
     },
     "metadata": {},
     "output_type": "display_data"
    }
   ],
   "source": [
    "topic_model.visualize_barchart(title=\"Topic Top Words\", autoscale=True, width=250)"
   ]
  },
  {
   "cell_type": "markdown",
   "metadata": {},
   "source": [
    "#### Bubble chart\n",
    "\n",
    "This visualization displays the distribution of topics in a 2-dimensional space using bubbles. The size of each bubble indicates how often the topic appears in the documents. The distance between bubbles represents semantic relationship between the topics, with topics that share common words appearing closer together and overlapping.\n"
   ]
  },
  {
   "cell_type": "code",
   "execution_count": 11,
   "metadata": {},
   "outputs": [
    {
     "data": {
      "application/vnd.plotly.v1+json": {
       "config": {
        "plotlyServerURL": "https://plot.ly"
       },
       "data": [
        {
         "customdata": [
          [
           0,
           "Cabin Cleanliness and Service Standards",
           172
          ],
          [
           1,
           "Gatwick Lounge and Boarding Issues",
           161
          ],
          [
           2,
           "Poor Service and Outdated Aircraft",
           125
          ],
          [
           3,
           "Booking, Refunds, and Customer Service Issues",
           119
          ],
          [
           4,
           "Refund Challenges and Customer Frustrations",
           84
          ],
          [
           5,
           "Poor Meal Quality and Service",
           63
          ],
          [
           6,
           "Boarding Delays and Customer Service",
           59
          ],
          [
           7,
           "Lost Luggage and Poor Service",
           53
          ],
          [
           8,
           "Business Class Service and Seating Issues",
           45
          ],
          [
           9,
           "Significant Flight Delays and Issues",
           36
          ],
          [
           10,
           "Edinburgh to London Flight Experience",
           32
          ],
          [
           11,
           "Meal Service and Inflight Entertainment Issues",
           29
          ],
          [
           12,
           "Boeing 787 Comfort and Service",
           28
          ],
          [
           13,
           "Lounge Quality and Catering Discrepancies",
           26
          ],
          [
           14,
           "Exceptional Cabin Crew Support",
           25
          ],
          [
           15,
           "Ticketing and Customer Service Failures",
           24
          ],
          [
           16,
           "Legroom and Seat Comfort Issues",
           23
          ],
          [
           17,
           "A380 Cabin Experience and Issues",
           21
          ],
          [
           18,
           "Comfort and Cabin Crew Evaluation",
           20
          ],
          [
           19,
           "Efficient Check-in and Boarding Chaos",
           19
          ],
          [
           20,
           "Premium Economy Experience Evaluation",
           17
          ],
          [
           21,
           "Delays and Inflight Service Issues",
           16
          ],
          [
           22,
           "Frequent Flight Delays and Chaos",
           15
          ],
          [
           23,
           "Overbooking and Flight Cancellations",
           15
          ],
          [
           24,
           "Ground Staff and Check-in Issues",
           15
          ],
          [
           25,
           "Poor In-Flight Experience and Services",
           13
          ],
          [
           26,
           "A380 Comfort and Service Feedback",
           12
          ],
          [
           27,
           "Club Europe Service and Comfort Issues",
           10
          ]
         ],
         "hovertemplate": "<b>Topic %{customdata[0]}</b><br>%{customdata[1]}<br>Size: %{customdata[2]}",
         "legendgroup": "",
         "marker": {
          "color": "#B0BEC5",
          "line": {
           "color": "DarkSlateGrey",
           "width": 2
          },
          "size": [
           172,
           161,
           125,
           119,
           84,
           63,
           59,
           53,
           45,
           36,
           32,
           29,
           28,
           26,
           25,
           24,
           23,
           21,
           20,
           19,
           17,
           16,
           15,
           15,
           15,
           13,
           12,
           10
          ],
          "sizemode": "area",
          "sizeref": 0.1075,
          "symbol": "circle"
         },
         "mode": "markers",
         "name": "",
         "orientation": "v",
         "showlegend": false,
         "type": "scatter",
         "x": [
          12.772625,
          13.112437,
          10.9697075,
          -15.03347,
          6.2369914,
          12.481654,
          11.427941,
          6.099446,
          12.47438,
          11.547212,
          10.265019,
          12.458222,
          13.415251,
          12.286953,
          11.118001,
          -14.713158,
          11.728149,
          11.800673,
          13.040243,
          11.357956,
          13.665907,
          10.141989,
          -14.807026,
          6.333183,
          10.839799,
          10.662712,
          11.702503,
          12.877821
         ],
         "xaxis": "x",
         "y": [
          5.4172072,
          5.716061,
          -1.0944439,
          10.699088,
          6.726267,
          5.4890594,
          5.347774,
          6.863607,
          5.0053377,
          -1.5482246,
          -0.94387054,
          6.259329,
          3.7661424,
          6.442631,
          -0.71417665,
          11.0195055,
          5.575902,
          -0.5086294,
          3.5995402,
          -1.4419167,
          3.5157022,
          -1.0329273,
          10.92563,
          6.6292043,
          -0.08616735,
          -0.735566,
          -0.66883296,
          5.1922398
         ],
         "yaxis": "y"
        }
       ],
       "layout": {
        "annotations": [
         {
          "showarrow": false,
          "text": "D1",
          "x": -17.28849067687988,
          "y": 5.44598653614521,
          "yshift": 10
         },
         {
          "showarrow": false,
          "text": "D2",
          "x": -0.7863488674163808,
          "xshift": 10,
          "y": 12.672431325912475
         }
        ],
        "height": 650,
        "hoverlabel": {
         "bgcolor": "white",
         "font": {
          "family": "Rockwell",
          "size": 16
         }
        },
        "legend": {
         "itemsizing": "constant",
         "tracegroupgap": 0
        },
        "margin": {
         "t": 60
        },
        "shapes": [
         {
          "line": {
           "color": "#CFD8DC",
           "width": 2
          },
          "type": "line",
          "x0": -0.7863488674163808,
          "x1": -0.7863488674163808,
          "y0": -1.780458253622055,
          "y1": 12.672431325912475
         },
         {
          "line": {
           "color": "#9E9E9E",
           "width": 2
          },
          "type": "line",
          "x0": -17.28849067687988,
          "x1": 15.71579294204712,
          "y0": 5.44598653614521,
          "y1": 5.44598653614521
         }
        ],
        "sliders": [
         {
          "active": 0,
          "pad": {
           "t": 50
          },
          "steps": [
           {
            "args": [
             {
              "marker.color": [
               [
                "red",
                "#B0BEC5",
                "#B0BEC5",
                "#B0BEC5",
                "#B0BEC5",
                "#B0BEC5",
                "#B0BEC5",
                "#B0BEC5",
                "#B0BEC5",
                "#B0BEC5",
                "#B0BEC5",
                "#B0BEC5",
                "#B0BEC5",
                "#B0BEC5",
                "#B0BEC5",
                "#B0BEC5",
                "#B0BEC5",
                "#B0BEC5",
                "#B0BEC5",
                "#B0BEC5",
                "#B0BEC5",
                "#B0BEC5",
                "#B0BEC5",
                "#B0BEC5",
                "#B0BEC5",
                "#B0BEC5",
                "#B0BEC5",
                "#B0BEC5"
               ]
              ]
             }
            ],
            "label": "Topic 0",
            "method": "update"
           },
           {
            "args": [
             {
              "marker.color": [
               [
                "#B0BEC5",
                "red",
                "#B0BEC5",
                "#B0BEC5",
                "#B0BEC5",
                "#B0BEC5",
                "#B0BEC5",
                "#B0BEC5",
                "#B0BEC5",
                "#B0BEC5",
                "#B0BEC5",
                "#B0BEC5",
                "#B0BEC5",
                "#B0BEC5",
                "#B0BEC5",
                "#B0BEC5",
                "#B0BEC5",
                "#B0BEC5",
                "#B0BEC5",
                "#B0BEC5",
                "#B0BEC5",
                "#B0BEC5",
                "#B0BEC5",
                "#B0BEC5",
                "#B0BEC5",
                "#B0BEC5",
                "#B0BEC5",
                "#B0BEC5"
               ]
              ]
             }
            ],
            "label": "Topic 1",
            "method": "update"
           },
           {
            "args": [
             {
              "marker.color": [
               [
                "#B0BEC5",
                "#B0BEC5",
                "red",
                "#B0BEC5",
                "#B0BEC5",
                "#B0BEC5",
                "#B0BEC5",
                "#B0BEC5",
                "#B0BEC5",
                "#B0BEC5",
                "#B0BEC5",
                "#B0BEC5",
                "#B0BEC5",
                "#B0BEC5",
                "#B0BEC5",
                "#B0BEC5",
                "#B0BEC5",
                "#B0BEC5",
                "#B0BEC5",
                "#B0BEC5",
                "#B0BEC5",
                "#B0BEC5",
                "#B0BEC5",
                "#B0BEC5",
                "#B0BEC5",
                "#B0BEC5",
                "#B0BEC5",
                "#B0BEC5"
               ]
              ]
             }
            ],
            "label": "Topic 2",
            "method": "update"
           },
           {
            "args": [
             {
              "marker.color": [
               [
                "#B0BEC5",
                "#B0BEC5",
                "#B0BEC5",
                "red",
                "#B0BEC5",
                "#B0BEC5",
                "#B0BEC5",
                "#B0BEC5",
                "#B0BEC5",
                "#B0BEC5",
                "#B0BEC5",
                "#B0BEC5",
                "#B0BEC5",
                "#B0BEC5",
                "#B0BEC5",
                "#B0BEC5",
                "#B0BEC5",
                "#B0BEC5",
                "#B0BEC5",
                "#B0BEC5",
                "#B0BEC5",
                "#B0BEC5",
                "#B0BEC5",
                "#B0BEC5",
                "#B0BEC5",
                "#B0BEC5",
                "#B0BEC5",
                "#B0BEC5"
               ]
              ]
             }
            ],
            "label": "Topic 3",
            "method": "update"
           },
           {
            "args": [
             {
              "marker.color": [
               [
                "#B0BEC5",
                "#B0BEC5",
                "#B0BEC5",
                "#B0BEC5",
                "red",
                "#B0BEC5",
                "#B0BEC5",
                "#B0BEC5",
                "#B0BEC5",
                "#B0BEC5",
                "#B0BEC5",
                "#B0BEC5",
                "#B0BEC5",
                "#B0BEC5",
                "#B0BEC5",
                "#B0BEC5",
                "#B0BEC5",
                "#B0BEC5",
                "#B0BEC5",
                "#B0BEC5",
                "#B0BEC5",
                "#B0BEC5",
                "#B0BEC5",
                "#B0BEC5",
                "#B0BEC5",
                "#B0BEC5",
                "#B0BEC5",
                "#B0BEC5"
               ]
              ]
             }
            ],
            "label": "Topic 4",
            "method": "update"
           },
           {
            "args": [
             {
              "marker.color": [
               [
                "#B0BEC5",
                "#B0BEC5",
                "#B0BEC5",
                "#B0BEC5",
                "#B0BEC5",
                "red",
                "#B0BEC5",
                "#B0BEC5",
                "#B0BEC5",
                "#B0BEC5",
                "#B0BEC5",
                "#B0BEC5",
                "#B0BEC5",
                "#B0BEC5",
                "#B0BEC5",
                "#B0BEC5",
                "#B0BEC5",
                "#B0BEC5",
                "#B0BEC5",
                "#B0BEC5",
                "#B0BEC5",
                "#B0BEC5",
                "#B0BEC5",
                "#B0BEC5",
                "#B0BEC5",
                "#B0BEC5",
                "#B0BEC5",
                "#B0BEC5"
               ]
              ]
             }
            ],
            "label": "Topic 5",
            "method": "update"
           },
           {
            "args": [
             {
              "marker.color": [
               [
                "#B0BEC5",
                "#B0BEC5",
                "#B0BEC5",
                "#B0BEC5",
                "#B0BEC5",
                "#B0BEC5",
                "red",
                "#B0BEC5",
                "#B0BEC5",
                "#B0BEC5",
                "#B0BEC5",
                "#B0BEC5",
                "#B0BEC5",
                "#B0BEC5",
                "#B0BEC5",
                "#B0BEC5",
                "#B0BEC5",
                "#B0BEC5",
                "#B0BEC5",
                "#B0BEC5",
                "#B0BEC5",
                "#B0BEC5",
                "#B0BEC5",
                "#B0BEC5",
                "#B0BEC5",
                "#B0BEC5",
                "#B0BEC5",
                "#B0BEC5"
               ]
              ]
             }
            ],
            "label": "Topic 6",
            "method": "update"
           },
           {
            "args": [
             {
              "marker.color": [
               [
                "#B0BEC5",
                "#B0BEC5",
                "#B0BEC5",
                "#B0BEC5",
                "#B0BEC5",
                "#B0BEC5",
                "#B0BEC5",
                "red",
                "#B0BEC5",
                "#B0BEC5",
                "#B0BEC5",
                "#B0BEC5",
                "#B0BEC5",
                "#B0BEC5",
                "#B0BEC5",
                "#B0BEC5",
                "#B0BEC5",
                "#B0BEC5",
                "#B0BEC5",
                "#B0BEC5",
                "#B0BEC5",
                "#B0BEC5",
                "#B0BEC5",
                "#B0BEC5",
                "#B0BEC5",
                "#B0BEC5",
                "#B0BEC5",
                "#B0BEC5"
               ]
              ]
             }
            ],
            "label": "Topic 7",
            "method": "update"
           },
           {
            "args": [
             {
              "marker.color": [
               [
                "#B0BEC5",
                "#B0BEC5",
                "#B0BEC5",
                "#B0BEC5",
                "#B0BEC5",
                "#B0BEC5",
                "#B0BEC5",
                "#B0BEC5",
                "red",
                "#B0BEC5",
                "#B0BEC5",
                "#B0BEC5",
                "#B0BEC5",
                "#B0BEC5",
                "#B0BEC5",
                "#B0BEC5",
                "#B0BEC5",
                "#B0BEC5",
                "#B0BEC5",
                "#B0BEC5",
                "#B0BEC5",
                "#B0BEC5",
                "#B0BEC5",
                "#B0BEC5",
                "#B0BEC5",
                "#B0BEC5",
                "#B0BEC5",
                "#B0BEC5"
               ]
              ]
             }
            ],
            "label": "Topic 8",
            "method": "update"
           },
           {
            "args": [
             {
              "marker.color": [
               [
                "#B0BEC5",
                "#B0BEC5",
                "#B0BEC5",
                "#B0BEC5",
                "#B0BEC5",
                "#B0BEC5",
                "#B0BEC5",
                "#B0BEC5",
                "#B0BEC5",
                "red",
                "#B0BEC5",
                "#B0BEC5",
                "#B0BEC5",
                "#B0BEC5",
                "#B0BEC5",
                "#B0BEC5",
                "#B0BEC5",
                "#B0BEC5",
                "#B0BEC5",
                "#B0BEC5",
                "#B0BEC5",
                "#B0BEC5",
                "#B0BEC5",
                "#B0BEC5",
                "#B0BEC5",
                "#B0BEC5",
                "#B0BEC5",
                "#B0BEC5"
               ]
              ]
             }
            ],
            "label": "Topic 9",
            "method": "update"
           },
           {
            "args": [
             {
              "marker.color": [
               [
                "#B0BEC5",
                "#B0BEC5",
                "#B0BEC5",
                "#B0BEC5",
                "#B0BEC5",
                "#B0BEC5",
                "#B0BEC5",
                "#B0BEC5",
                "#B0BEC5",
                "#B0BEC5",
                "red",
                "#B0BEC5",
                "#B0BEC5",
                "#B0BEC5",
                "#B0BEC5",
                "#B0BEC5",
                "#B0BEC5",
                "#B0BEC5",
                "#B0BEC5",
                "#B0BEC5",
                "#B0BEC5",
                "#B0BEC5",
                "#B0BEC5",
                "#B0BEC5",
                "#B0BEC5",
                "#B0BEC5",
                "#B0BEC5",
                "#B0BEC5"
               ]
              ]
             }
            ],
            "label": "Topic 10",
            "method": "update"
           },
           {
            "args": [
             {
              "marker.color": [
               [
                "#B0BEC5",
                "#B0BEC5",
                "#B0BEC5",
                "#B0BEC5",
                "#B0BEC5",
                "#B0BEC5",
                "#B0BEC5",
                "#B0BEC5",
                "#B0BEC5",
                "#B0BEC5",
                "#B0BEC5",
                "red",
                "#B0BEC5",
                "#B0BEC5",
                "#B0BEC5",
                "#B0BEC5",
                "#B0BEC5",
                "#B0BEC5",
                "#B0BEC5",
                "#B0BEC5",
                "#B0BEC5",
                "#B0BEC5",
                "#B0BEC5",
                "#B0BEC5",
                "#B0BEC5",
                "#B0BEC5",
                "#B0BEC5",
                "#B0BEC5"
               ]
              ]
             }
            ],
            "label": "Topic 11",
            "method": "update"
           },
           {
            "args": [
             {
              "marker.color": [
               [
                "#B0BEC5",
                "#B0BEC5",
                "#B0BEC5",
                "#B0BEC5",
                "#B0BEC5",
                "#B0BEC5",
                "#B0BEC5",
                "#B0BEC5",
                "#B0BEC5",
                "#B0BEC5",
                "#B0BEC5",
                "#B0BEC5",
                "red",
                "#B0BEC5",
                "#B0BEC5",
                "#B0BEC5",
                "#B0BEC5",
                "#B0BEC5",
                "#B0BEC5",
                "#B0BEC5",
                "#B0BEC5",
                "#B0BEC5",
                "#B0BEC5",
                "#B0BEC5",
                "#B0BEC5",
                "#B0BEC5",
                "#B0BEC5",
                "#B0BEC5"
               ]
              ]
             }
            ],
            "label": "Topic 12",
            "method": "update"
           },
           {
            "args": [
             {
              "marker.color": [
               [
                "#B0BEC5",
                "#B0BEC5",
                "#B0BEC5",
                "#B0BEC5",
                "#B0BEC5",
                "#B0BEC5",
                "#B0BEC5",
                "#B0BEC5",
                "#B0BEC5",
                "#B0BEC5",
                "#B0BEC5",
                "#B0BEC5",
                "#B0BEC5",
                "red",
                "#B0BEC5",
                "#B0BEC5",
                "#B0BEC5",
                "#B0BEC5",
                "#B0BEC5",
                "#B0BEC5",
                "#B0BEC5",
                "#B0BEC5",
                "#B0BEC5",
                "#B0BEC5",
                "#B0BEC5",
                "#B0BEC5",
                "#B0BEC5",
                "#B0BEC5"
               ]
              ]
             }
            ],
            "label": "Topic 13",
            "method": "update"
           },
           {
            "args": [
             {
              "marker.color": [
               [
                "#B0BEC5",
                "#B0BEC5",
                "#B0BEC5",
                "#B0BEC5",
                "#B0BEC5",
                "#B0BEC5",
                "#B0BEC5",
                "#B0BEC5",
                "#B0BEC5",
                "#B0BEC5",
                "#B0BEC5",
                "#B0BEC5",
                "#B0BEC5",
                "#B0BEC5",
                "red",
                "#B0BEC5",
                "#B0BEC5",
                "#B0BEC5",
                "#B0BEC5",
                "#B0BEC5",
                "#B0BEC5",
                "#B0BEC5",
                "#B0BEC5",
                "#B0BEC5",
                "#B0BEC5",
                "#B0BEC5",
                "#B0BEC5",
                "#B0BEC5"
               ]
              ]
             }
            ],
            "label": "Topic 14",
            "method": "update"
           },
           {
            "args": [
             {
              "marker.color": [
               [
                "#B0BEC5",
                "#B0BEC5",
                "#B0BEC5",
                "#B0BEC5",
                "#B0BEC5",
                "#B0BEC5",
                "#B0BEC5",
                "#B0BEC5",
                "#B0BEC5",
                "#B0BEC5",
                "#B0BEC5",
                "#B0BEC5",
                "#B0BEC5",
                "#B0BEC5",
                "#B0BEC5",
                "red",
                "#B0BEC5",
                "#B0BEC5",
                "#B0BEC5",
                "#B0BEC5",
                "#B0BEC5",
                "#B0BEC5",
                "#B0BEC5",
                "#B0BEC5",
                "#B0BEC5",
                "#B0BEC5",
                "#B0BEC5",
                "#B0BEC5"
               ]
              ]
             }
            ],
            "label": "Topic 15",
            "method": "update"
           },
           {
            "args": [
             {
              "marker.color": [
               [
                "#B0BEC5",
                "#B0BEC5",
                "#B0BEC5",
                "#B0BEC5",
                "#B0BEC5",
                "#B0BEC5",
                "#B0BEC5",
                "#B0BEC5",
                "#B0BEC5",
                "#B0BEC5",
                "#B0BEC5",
                "#B0BEC5",
                "#B0BEC5",
                "#B0BEC5",
                "#B0BEC5",
                "#B0BEC5",
                "red",
                "#B0BEC5",
                "#B0BEC5",
                "#B0BEC5",
                "#B0BEC5",
                "#B0BEC5",
                "#B0BEC5",
                "#B0BEC5",
                "#B0BEC5",
                "#B0BEC5",
                "#B0BEC5",
                "#B0BEC5"
               ]
              ]
             }
            ],
            "label": "Topic 16",
            "method": "update"
           },
           {
            "args": [
             {
              "marker.color": [
               [
                "#B0BEC5",
                "#B0BEC5",
                "#B0BEC5",
                "#B0BEC5",
                "#B0BEC5",
                "#B0BEC5",
                "#B0BEC5",
                "#B0BEC5",
                "#B0BEC5",
                "#B0BEC5",
                "#B0BEC5",
                "#B0BEC5",
                "#B0BEC5",
                "#B0BEC5",
                "#B0BEC5",
                "#B0BEC5",
                "#B0BEC5",
                "red",
                "#B0BEC5",
                "#B0BEC5",
                "#B0BEC5",
                "#B0BEC5",
                "#B0BEC5",
                "#B0BEC5",
                "#B0BEC5",
                "#B0BEC5",
                "#B0BEC5",
                "#B0BEC5"
               ]
              ]
             }
            ],
            "label": "Topic 17",
            "method": "update"
           },
           {
            "args": [
             {
              "marker.color": [
               [
                "#B0BEC5",
                "#B0BEC5",
                "#B0BEC5",
                "#B0BEC5",
                "#B0BEC5",
                "#B0BEC5",
                "#B0BEC5",
                "#B0BEC5",
                "#B0BEC5",
                "#B0BEC5",
                "#B0BEC5",
                "#B0BEC5",
                "#B0BEC5",
                "#B0BEC5",
                "#B0BEC5",
                "#B0BEC5",
                "#B0BEC5",
                "#B0BEC5",
                "red",
                "#B0BEC5",
                "#B0BEC5",
                "#B0BEC5",
                "#B0BEC5",
                "#B0BEC5",
                "#B0BEC5",
                "#B0BEC5",
                "#B0BEC5",
                "#B0BEC5"
               ]
              ]
             }
            ],
            "label": "Topic 18",
            "method": "update"
           },
           {
            "args": [
             {
              "marker.color": [
               [
                "#B0BEC5",
                "#B0BEC5",
                "#B0BEC5",
                "#B0BEC5",
                "#B0BEC5",
                "#B0BEC5",
                "#B0BEC5",
                "#B0BEC5",
                "#B0BEC5",
                "#B0BEC5",
                "#B0BEC5",
                "#B0BEC5",
                "#B0BEC5",
                "#B0BEC5",
                "#B0BEC5",
                "#B0BEC5",
                "#B0BEC5",
                "#B0BEC5",
                "#B0BEC5",
                "red",
                "#B0BEC5",
                "#B0BEC5",
                "#B0BEC5",
                "#B0BEC5",
                "#B0BEC5",
                "#B0BEC5",
                "#B0BEC5",
                "#B0BEC5"
               ]
              ]
             }
            ],
            "label": "Topic 19",
            "method": "update"
           },
           {
            "args": [
             {
              "marker.color": [
               [
                "#B0BEC5",
                "#B0BEC5",
                "#B0BEC5",
                "#B0BEC5",
                "#B0BEC5",
                "#B0BEC5",
                "#B0BEC5",
                "#B0BEC5",
                "#B0BEC5",
                "#B0BEC5",
                "#B0BEC5",
                "#B0BEC5",
                "#B0BEC5",
                "#B0BEC5",
                "#B0BEC5",
                "#B0BEC5",
                "#B0BEC5",
                "#B0BEC5",
                "#B0BEC5",
                "#B0BEC5",
                "red",
                "#B0BEC5",
                "#B0BEC5",
                "#B0BEC5",
                "#B0BEC5",
                "#B0BEC5",
                "#B0BEC5",
                "#B0BEC5"
               ]
              ]
             }
            ],
            "label": "Topic 20",
            "method": "update"
           },
           {
            "args": [
             {
              "marker.color": [
               [
                "#B0BEC5",
                "#B0BEC5",
                "#B0BEC5",
                "#B0BEC5",
                "#B0BEC5",
                "#B0BEC5",
                "#B0BEC5",
                "#B0BEC5",
                "#B0BEC5",
                "#B0BEC5",
                "#B0BEC5",
                "#B0BEC5",
                "#B0BEC5",
                "#B0BEC5",
                "#B0BEC5",
                "#B0BEC5",
                "#B0BEC5",
                "#B0BEC5",
                "#B0BEC5",
                "#B0BEC5",
                "#B0BEC5",
                "red",
                "#B0BEC5",
                "#B0BEC5",
                "#B0BEC5",
                "#B0BEC5",
                "#B0BEC5",
                "#B0BEC5"
               ]
              ]
             }
            ],
            "label": "Topic 21",
            "method": "update"
           },
           {
            "args": [
             {
              "marker.color": [
               [
                "#B0BEC5",
                "#B0BEC5",
                "#B0BEC5",
                "#B0BEC5",
                "#B0BEC5",
                "#B0BEC5",
                "#B0BEC5",
                "#B0BEC5",
                "#B0BEC5",
                "#B0BEC5",
                "#B0BEC5",
                "#B0BEC5",
                "#B0BEC5",
                "#B0BEC5",
                "#B0BEC5",
                "#B0BEC5",
                "#B0BEC5",
                "#B0BEC5",
                "#B0BEC5",
                "#B0BEC5",
                "#B0BEC5",
                "#B0BEC5",
                "red",
                "#B0BEC5",
                "#B0BEC5",
                "#B0BEC5",
                "#B0BEC5",
                "#B0BEC5"
               ]
              ]
             }
            ],
            "label": "Topic 22",
            "method": "update"
           },
           {
            "args": [
             {
              "marker.color": [
               [
                "#B0BEC5",
                "#B0BEC5",
                "#B0BEC5",
                "#B0BEC5",
                "#B0BEC5",
                "#B0BEC5",
                "#B0BEC5",
                "#B0BEC5",
                "#B0BEC5",
                "#B0BEC5",
                "#B0BEC5",
                "#B0BEC5",
                "#B0BEC5",
                "#B0BEC5",
                "#B0BEC5",
                "#B0BEC5",
                "#B0BEC5",
                "#B0BEC5",
                "#B0BEC5",
                "#B0BEC5",
                "#B0BEC5",
                "#B0BEC5",
                "#B0BEC5",
                "red",
                "#B0BEC5",
                "#B0BEC5",
                "#B0BEC5",
                "#B0BEC5"
               ]
              ]
             }
            ],
            "label": "Topic 23",
            "method": "update"
           },
           {
            "args": [
             {
              "marker.color": [
               [
                "#B0BEC5",
                "#B0BEC5",
                "#B0BEC5",
                "#B0BEC5",
                "#B0BEC5",
                "#B0BEC5",
                "#B0BEC5",
                "#B0BEC5",
                "#B0BEC5",
                "#B0BEC5",
                "#B0BEC5",
                "#B0BEC5",
                "#B0BEC5",
                "#B0BEC5",
                "#B0BEC5",
                "#B0BEC5",
                "#B0BEC5",
                "#B0BEC5",
                "#B0BEC5",
                "#B0BEC5",
                "#B0BEC5",
                "#B0BEC5",
                "#B0BEC5",
                "#B0BEC5",
                "red",
                "#B0BEC5",
                "#B0BEC5",
                "#B0BEC5"
               ]
              ]
             }
            ],
            "label": "Topic 24",
            "method": "update"
           },
           {
            "args": [
             {
              "marker.color": [
               [
                "#B0BEC5",
                "#B0BEC5",
                "#B0BEC5",
                "#B0BEC5",
                "#B0BEC5",
                "#B0BEC5",
                "#B0BEC5",
                "#B0BEC5",
                "#B0BEC5",
                "#B0BEC5",
                "#B0BEC5",
                "#B0BEC5",
                "#B0BEC5",
                "#B0BEC5",
                "#B0BEC5",
                "#B0BEC5",
                "#B0BEC5",
                "#B0BEC5",
                "#B0BEC5",
                "#B0BEC5",
                "#B0BEC5",
                "#B0BEC5",
                "#B0BEC5",
                "#B0BEC5",
                "#B0BEC5",
                "red",
                "#B0BEC5",
                "#B0BEC5"
               ]
              ]
             }
            ],
            "label": "Topic 25",
            "method": "update"
           },
           {
            "args": [
             {
              "marker.color": [
               [
                "#B0BEC5",
                "#B0BEC5",
                "#B0BEC5",
                "#B0BEC5",
                "#B0BEC5",
                "#B0BEC5",
                "#B0BEC5",
                "#B0BEC5",
                "#B0BEC5",
                "#B0BEC5",
                "#B0BEC5",
                "#B0BEC5",
                "#B0BEC5",
                "#B0BEC5",
                "#B0BEC5",
                "#B0BEC5",
                "#B0BEC5",
                "#B0BEC5",
                "#B0BEC5",
                "#B0BEC5",
                "#B0BEC5",
                "#B0BEC5",
                "#B0BEC5",
                "#B0BEC5",
                "#B0BEC5",
                "#B0BEC5",
                "red",
                "#B0BEC5"
               ]
              ]
             }
            ],
            "label": "Topic 26",
            "method": "update"
           },
           {
            "args": [
             {
              "marker.color": [
               [
                "#B0BEC5",
                "#B0BEC5",
                "#B0BEC5",
                "#B0BEC5",
                "#B0BEC5",
                "#B0BEC5",
                "#B0BEC5",
                "#B0BEC5",
                "#B0BEC5",
                "#B0BEC5",
                "#B0BEC5",
                "#B0BEC5",
                "#B0BEC5",
                "#B0BEC5",
                "#B0BEC5",
                "#B0BEC5",
                "#B0BEC5",
                "#B0BEC5",
                "#B0BEC5",
                "#B0BEC5",
                "#B0BEC5",
                "#B0BEC5",
                "#B0BEC5",
                "#B0BEC5",
                "#B0BEC5",
                "#B0BEC5",
                "#B0BEC5",
                "red"
               ]
              ]
             }
            ],
            "label": "Topic 27",
            "method": "update"
           }
          ]
         }
        ],
        "template": {
         "data": {
          "bar": [
           {
            "error_x": {
             "color": "rgb(36,36,36)"
            },
            "error_y": {
             "color": "rgb(36,36,36)"
            },
            "marker": {
             "line": {
              "color": "white",
              "width": 0.5
             },
             "pattern": {
              "fillmode": "overlay",
              "size": 10,
              "solidity": 0.2
             }
            },
            "type": "bar"
           }
          ],
          "barpolar": [
           {
            "marker": {
             "line": {
              "color": "white",
              "width": 0.5
             },
             "pattern": {
              "fillmode": "overlay",
              "size": 10,
              "solidity": 0.2
             }
            },
            "type": "barpolar"
           }
          ],
          "carpet": [
           {
            "aaxis": {
             "endlinecolor": "rgb(36,36,36)",
             "gridcolor": "white",
             "linecolor": "white",
             "minorgridcolor": "white",
             "startlinecolor": "rgb(36,36,36)"
            },
            "baxis": {
             "endlinecolor": "rgb(36,36,36)",
             "gridcolor": "white",
             "linecolor": "white",
             "minorgridcolor": "white",
             "startlinecolor": "rgb(36,36,36)"
            },
            "type": "carpet"
           }
          ],
          "choropleth": [
           {
            "colorbar": {
             "outlinewidth": 1,
             "tickcolor": "rgb(36,36,36)",
             "ticks": "outside"
            },
            "type": "choropleth"
           }
          ],
          "contour": [
           {
            "colorbar": {
             "outlinewidth": 1,
             "tickcolor": "rgb(36,36,36)",
             "ticks": "outside"
            },
            "colorscale": [
             [
              0,
              "#440154"
             ],
             [
              0.1111111111111111,
              "#482878"
             ],
             [
              0.2222222222222222,
              "#3e4989"
             ],
             [
              0.3333333333333333,
              "#31688e"
             ],
             [
              0.4444444444444444,
              "#26828e"
             ],
             [
              0.5555555555555556,
              "#1f9e89"
             ],
             [
              0.6666666666666666,
              "#35b779"
             ],
             [
              0.7777777777777778,
              "#6ece58"
             ],
             [
              0.8888888888888888,
              "#b5de2b"
             ],
             [
              1,
              "#fde725"
             ]
            ],
            "type": "contour"
           }
          ],
          "contourcarpet": [
           {
            "colorbar": {
             "outlinewidth": 1,
             "tickcolor": "rgb(36,36,36)",
             "ticks": "outside"
            },
            "type": "contourcarpet"
           }
          ],
          "heatmap": [
           {
            "colorbar": {
             "outlinewidth": 1,
             "tickcolor": "rgb(36,36,36)",
             "ticks": "outside"
            },
            "colorscale": [
             [
              0,
              "#440154"
             ],
             [
              0.1111111111111111,
              "#482878"
             ],
             [
              0.2222222222222222,
              "#3e4989"
             ],
             [
              0.3333333333333333,
              "#31688e"
             ],
             [
              0.4444444444444444,
              "#26828e"
             ],
             [
              0.5555555555555556,
              "#1f9e89"
             ],
             [
              0.6666666666666666,
              "#35b779"
             ],
             [
              0.7777777777777778,
              "#6ece58"
             ],
             [
              0.8888888888888888,
              "#b5de2b"
             ],
             [
              1,
              "#fde725"
             ]
            ],
            "type": "heatmap"
           }
          ],
          "heatmapgl": [
           {
            "colorbar": {
             "outlinewidth": 1,
             "tickcolor": "rgb(36,36,36)",
             "ticks": "outside"
            },
            "colorscale": [
             [
              0,
              "#440154"
             ],
             [
              0.1111111111111111,
              "#482878"
             ],
             [
              0.2222222222222222,
              "#3e4989"
             ],
             [
              0.3333333333333333,
              "#31688e"
             ],
             [
              0.4444444444444444,
              "#26828e"
             ],
             [
              0.5555555555555556,
              "#1f9e89"
             ],
             [
              0.6666666666666666,
              "#35b779"
             ],
             [
              0.7777777777777778,
              "#6ece58"
             ],
             [
              0.8888888888888888,
              "#b5de2b"
             ],
             [
              1,
              "#fde725"
             ]
            ],
            "type": "heatmapgl"
           }
          ],
          "histogram": [
           {
            "marker": {
             "line": {
              "color": "white",
              "width": 0.6
             }
            },
            "type": "histogram"
           }
          ],
          "histogram2d": [
           {
            "colorbar": {
             "outlinewidth": 1,
             "tickcolor": "rgb(36,36,36)",
             "ticks": "outside"
            },
            "colorscale": [
             [
              0,
              "#440154"
             ],
             [
              0.1111111111111111,
              "#482878"
             ],
             [
              0.2222222222222222,
              "#3e4989"
             ],
             [
              0.3333333333333333,
              "#31688e"
             ],
             [
              0.4444444444444444,
              "#26828e"
             ],
             [
              0.5555555555555556,
              "#1f9e89"
             ],
             [
              0.6666666666666666,
              "#35b779"
             ],
             [
              0.7777777777777778,
              "#6ece58"
             ],
             [
              0.8888888888888888,
              "#b5de2b"
             ],
             [
              1,
              "#fde725"
             ]
            ],
            "type": "histogram2d"
           }
          ],
          "histogram2dcontour": [
           {
            "colorbar": {
             "outlinewidth": 1,
             "tickcolor": "rgb(36,36,36)",
             "ticks": "outside"
            },
            "colorscale": [
             [
              0,
              "#440154"
             ],
             [
              0.1111111111111111,
              "#482878"
             ],
             [
              0.2222222222222222,
              "#3e4989"
             ],
             [
              0.3333333333333333,
              "#31688e"
             ],
             [
              0.4444444444444444,
              "#26828e"
             ],
             [
              0.5555555555555556,
              "#1f9e89"
             ],
             [
              0.6666666666666666,
              "#35b779"
             ],
             [
              0.7777777777777778,
              "#6ece58"
             ],
             [
              0.8888888888888888,
              "#b5de2b"
             ],
             [
              1,
              "#fde725"
             ]
            ],
            "type": "histogram2dcontour"
           }
          ],
          "mesh3d": [
           {
            "colorbar": {
             "outlinewidth": 1,
             "tickcolor": "rgb(36,36,36)",
             "ticks": "outside"
            },
            "type": "mesh3d"
           }
          ],
          "parcoords": [
           {
            "line": {
             "colorbar": {
              "outlinewidth": 1,
              "tickcolor": "rgb(36,36,36)",
              "ticks": "outside"
             }
            },
            "type": "parcoords"
           }
          ],
          "pie": [
           {
            "automargin": true,
            "type": "pie"
           }
          ],
          "scatter": [
           {
            "fillpattern": {
             "fillmode": "overlay",
             "size": 10,
             "solidity": 0.2
            },
            "type": "scatter"
           }
          ],
          "scatter3d": [
           {
            "line": {
             "colorbar": {
              "outlinewidth": 1,
              "tickcolor": "rgb(36,36,36)",
              "ticks": "outside"
             }
            },
            "marker": {
             "colorbar": {
              "outlinewidth": 1,
              "tickcolor": "rgb(36,36,36)",
              "ticks": "outside"
             }
            },
            "type": "scatter3d"
           }
          ],
          "scattercarpet": [
           {
            "marker": {
             "colorbar": {
              "outlinewidth": 1,
              "tickcolor": "rgb(36,36,36)",
              "ticks": "outside"
             }
            },
            "type": "scattercarpet"
           }
          ],
          "scattergeo": [
           {
            "marker": {
             "colorbar": {
              "outlinewidth": 1,
              "tickcolor": "rgb(36,36,36)",
              "ticks": "outside"
             }
            },
            "type": "scattergeo"
           }
          ],
          "scattergl": [
           {
            "marker": {
             "colorbar": {
              "outlinewidth": 1,
              "tickcolor": "rgb(36,36,36)",
              "ticks": "outside"
             }
            },
            "type": "scattergl"
           }
          ],
          "scattermapbox": [
           {
            "marker": {
             "colorbar": {
              "outlinewidth": 1,
              "tickcolor": "rgb(36,36,36)",
              "ticks": "outside"
             }
            },
            "type": "scattermapbox"
           }
          ],
          "scatterpolar": [
           {
            "marker": {
             "colorbar": {
              "outlinewidth": 1,
              "tickcolor": "rgb(36,36,36)",
              "ticks": "outside"
             }
            },
            "type": "scatterpolar"
           }
          ],
          "scatterpolargl": [
           {
            "marker": {
             "colorbar": {
              "outlinewidth": 1,
              "tickcolor": "rgb(36,36,36)",
              "ticks": "outside"
             }
            },
            "type": "scatterpolargl"
           }
          ],
          "scatterternary": [
           {
            "marker": {
             "colorbar": {
              "outlinewidth": 1,
              "tickcolor": "rgb(36,36,36)",
              "ticks": "outside"
             }
            },
            "type": "scatterternary"
           }
          ],
          "surface": [
           {
            "colorbar": {
             "outlinewidth": 1,
             "tickcolor": "rgb(36,36,36)",
             "ticks": "outside"
            },
            "colorscale": [
             [
              0,
              "#440154"
             ],
             [
              0.1111111111111111,
              "#482878"
             ],
             [
              0.2222222222222222,
              "#3e4989"
             ],
             [
              0.3333333333333333,
              "#31688e"
             ],
             [
              0.4444444444444444,
              "#26828e"
             ],
             [
              0.5555555555555556,
              "#1f9e89"
             ],
             [
              0.6666666666666666,
              "#35b779"
             ],
             [
              0.7777777777777778,
              "#6ece58"
             ],
             [
              0.8888888888888888,
              "#b5de2b"
             ],
             [
              1,
              "#fde725"
             ]
            ],
            "type": "surface"
           }
          ],
          "table": [
           {
            "cells": {
             "fill": {
              "color": "rgb(237,237,237)"
             },
             "line": {
              "color": "white"
             }
            },
            "header": {
             "fill": {
              "color": "rgb(217,217,217)"
             },
             "line": {
              "color": "white"
             }
            },
            "type": "table"
           }
          ]
         },
         "layout": {
          "annotationdefaults": {
           "arrowhead": 0,
           "arrowwidth": 1
          },
          "autotypenumbers": "strict",
          "coloraxis": {
           "colorbar": {
            "outlinewidth": 1,
            "tickcolor": "rgb(36,36,36)",
            "ticks": "outside"
           }
          },
          "colorscale": {
           "diverging": [
            [
             0,
             "rgb(103,0,31)"
            ],
            [
             0.1,
             "rgb(178,24,43)"
            ],
            [
             0.2,
             "rgb(214,96,77)"
            ],
            [
             0.3,
             "rgb(244,165,130)"
            ],
            [
             0.4,
             "rgb(253,219,199)"
            ],
            [
             0.5,
             "rgb(247,247,247)"
            ],
            [
             0.6,
             "rgb(209,229,240)"
            ],
            [
             0.7,
             "rgb(146,197,222)"
            ],
            [
             0.8,
             "rgb(67,147,195)"
            ],
            [
             0.9,
             "rgb(33,102,172)"
            ],
            [
             1,
             "rgb(5,48,97)"
            ]
           ],
           "sequential": [
            [
             0,
             "#440154"
            ],
            [
             0.1111111111111111,
             "#482878"
            ],
            [
             0.2222222222222222,
             "#3e4989"
            ],
            [
             0.3333333333333333,
             "#31688e"
            ],
            [
             0.4444444444444444,
             "#26828e"
            ],
            [
             0.5555555555555556,
             "#1f9e89"
            ],
            [
             0.6666666666666666,
             "#35b779"
            ],
            [
             0.7777777777777778,
             "#6ece58"
            ],
            [
             0.8888888888888888,
             "#b5de2b"
            ],
            [
             1,
             "#fde725"
            ]
           ],
           "sequentialminus": [
            [
             0,
             "#440154"
            ],
            [
             0.1111111111111111,
             "#482878"
            ],
            [
             0.2222222222222222,
             "#3e4989"
            ],
            [
             0.3333333333333333,
             "#31688e"
            ],
            [
             0.4444444444444444,
             "#26828e"
            ],
            [
             0.5555555555555556,
             "#1f9e89"
            ],
            [
             0.6666666666666666,
             "#35b779"
            ],
            [
             0.7777777777777778,
             "#6ece58"
            ],
            [
             0.8888888888888888,
             "#b5de2b"
            ],
            [
             1,
             "#fde725"
            ]
           ]
          },
          "colorway": [
           "#1F77B4",
           "#FF7F0E",
           "#2CA02C",
           "#D62728",
           "#9467BD",
           "#8C564B",
           "#E377C2",
           "#7F7F7F",
           "#BCBD22",
           "#17BECF"
          ],
          "font": {
           "color": "rgb(36,36,36)"
          },
          "geo": {
           "bgcolor": "white",
           "lakecolor": "white",
           "landcolor": "white",
           "showlakes": true,
           "showland": true,
           "subunitcolor": "white"
          },
          "hoverlabel": {
           "align": "left"
          },
          "hovermode": "closest",
          "mapbox": {
           "style": "light"
          },
          "paper_bgcolor": "white",
          "plot_bgcolor": "white",
          "polar": {
           "angularaxis": {
            "gridcolor": "rgb(232,232,232)",
            "linecolor": "rgb(36,36,36)",
            "showgrid": false,
            "showline": true,
            "ticks": "outside"
           },
           "bgcolor": "white",
           "radialaxis": {
            "gridcolor": "rgb(232,232,232)",
            "linecolor": "rgb(36,36,36)",
            "showgrid": false,
            "showline": true,
            "ticks": "outside"
           }
          },
          "scene": {
           "xaxis": {
            "backgroundcolor": "white",
            "gridcolor": "rgb(232,232,232)",
            "gridwidth": 2,
            "linecolor": "rgb(36,36,36)",
            "showbackground": true,
            "showgrid": false,
            "showline": true,
            "ticks": "outside",
            "zeroline": false,
            "zerolinecolor": "rgb(36,36,36)"
           },
           "yaxis": {
            "backgroundcolor": "white",
            "gridcolor": "rgb(232,232,232)",
            "gridwidth": 2,
            "linecolor": "rgb(36,36,36)",
            "showbackground": true,
            "showgrid": false,
            "showline": true,
            "ticks": "outside",
            "zeroline": false,
            "zerolinecolor": "rgb(36,36,36)"
           },
           "zaxis": {
            "backgroundcolor": "white",
            "gridcolor": "rgb(232,232,232)",
            "gridwidth": 2,
            "linecolor": "rgb(36,36,36)",
            "showbackground": true,
            "showgrid": false,
            "showline": true,
            "ticks": "outside",
            "zeroline": false,
            "zerolinecolor": "rgb(36,36,36)"
           }
          },
          "shapedefaults": {
           "fillcolor": "black",
           "line": {
            "width": 0
           },
           "opacity": 0.3
          },
          "ternary": {
           "aaxis": {
            "gridcolor": "rgb(232,232,232)",
            "linecolor": "rgb(36,36,36)",
            "showgrid": false,
            "showline": true,
            "ticks": "outside"
           },
           "baxis": {
            "gridcolor": "rgb(232,232,232)",
            "linecolor": "rgb(36,36,36)",
            "showgrid": false,
            "showline": true,
            "ticks": "outside"
           },
           "bgcolor": "white",
           "caxis": {
            "gridcolor": "rgb(232,232,232)",
            "linecolor": "rgb(36,36,36)",
            "showgrid": false,
            "showline": true,
            "ticks": "outside"
           }
          },
          "title": {
           "x": 0.05
          },
          "xaxis": {
           "automargin": true,
           "gridcolor": "rgb(232,232,232)",
           "linecolor": "rgb(36,36,36)",
           "showgrid": false,
           "showline": true,
           "ticks": "outside",
           "title": {
            "standoff": 15
           },
           "zeroline": false,
           "zerolinecolor": "rgb(36,36,36)"
          },
          "yaxis": {
           "automargin": true,
           "gridcolor": "rgb(232,232,232)",
           "linecolor": "rgb(36,36,36)",
           "showgrid": false,
           "showline": true,
           "ticks": "outside",
           "title": {
            "standoff": 15
           },
           "zeroline": false,
           "zerolinecolor": "rgb(36,36,36)"
          }
         }
        },
        "title": {
         "font": {
          "color": "Black",
          "size": 22
         },
         "text": "All Topics",
         "x": 0.5,
         "xanchor": "center",
         "y": 0.95,
         "yanchor": "top"
        },
        "width": 650,
        "xaxis": {
         "anchor": "y",
         "domain": [
          0,
          1
         ],
         "range": [
          -17.28849067687988,
          15.71579294204712
         ],
         "title": {
          "text": ""
         },
         "visible": false
        },
        "yaxis": {
         "anchor": "x",
         "domain": [
          0,
          1
         ],
         "range": [
          -1.780458253622055,
          12.672431325912475
         ],
         "title": {
          "text": ""
         },
         "visible": false
        }
       }
      }
     },
     "metadata": {},
     "output_type": "display_data"
    }
   ],
   "source": [
    "topic_model.visualize_topics(title=\"All Topics\", custom_labels=True)"
   ]
  },
  {
   "cell_type": "markdown",
   "metadata": {},
   "source": [
    "#### Rating and Count by Topic\n"
   ]
  },
  {
   "cell_type": "code",
   "execution_count": 20,
   "metadata": {},
   "outputs": [
    {
     "data": {
      "application/vnd.plotly.v1+json": {
       "config": {
        "plotlyServerURL": "https://plot.ly"
       },
       "data": [
        {
         "name": "Average Rating",
         "type": "bar",
         "x": [
          "Exceptional Cabin Crew Support",
          "Comfort and Cabin Crew Evaluation",
          "A380 Comfort and Service Feedback",
          "Boeing 787 Comfort and Service",
          "Lounge Quality and Catering Discrepancies",
          "Poor Service and Outdated Aircraft",
          "A380 Cabin Experience and Issues",
          "Efficient Check-in and Boarding Chaos",
          "Premium Economy Experience Evaluation",
          "Meal Service and Inflight Entertainment Issues",
          "Cabin Cleanliness and Service Standards",
          "Gatwick Lounge and Boarding Issues",
          "Delays and Inflight Service Issues",
          "Poor In-Flight Experience and Services",
          "Edinburgh to London Flight Experience",
          "Club Europe Service and Comfort Issues",
          "Ground Staff and Check-in Issues",
          "Poor Meal Quality and Service",
          "Ticketing and Customer Service Failures",
          "Frequent Flight Delays and Chaos",
          "Legroom and Seat Comfort Issues",
          "Significant Flight Delays and Issues",
          "Boarding Delays and Customer Service",
          "Business Class Service and Seating Issues",
          "Lost Luggage and Poor Service",
          "Booking, Refunds, and Customer Service Issues",
          "Refund Challenges and Customer Frustrations",
          "Overbooking and Flight Cancellations"
         ],
         "xaxis": "x",
         "y": [
          9.84,
          8.2,
          7.333333333333333,
          7.142857142857143,
          6.8076923076923075,
          6.12,
          6.0476190476190474,
          5.842105263157895,
          5.0588235294117645,
          4.931034482758621,
          4.883720930232558,
          4.869565217391305,
          4.5625,
          4.384615384615385,
          4.375,
          3.9,
          3.8,
          3.3492063492063493,
          3.2083333333333335,
          3.1333333333333333,
          3,
          2.9444444444444446,
          2.7966101694915255,
          2.688888888888889,
          1.9433962264150944,
          1.8571428571428572,
          1.4047619047619047,
          1.2666666666666666
         ],
         "yaxis": "y"
        },
        {
         "name": "Count",
         "type": "bar",
         "x": [
          "Exceptional Cabin Crew Support",
          "Comfort and Cabin Crew Evaluation",
          "A380 Comfort and Service Feedback",
          "Boeing 787 Comfort and Service",
          "Lounge Quality and Catering Discrepancies",
          "Poor Service and Outdated Aircraft",
          "A380 Cabin Experience and Issues",
          "Efficient Check-in and Boarding Chaos",
          "Premium Economy Experience Evaluation",
          "Meal Service and Inflight Entertainment Issues",
          "Cabin Cleanliness and Service Standards",
          "Gatwick Lounge and Boarding Issues",
          "Delays and Inflight Service Issues",
          "Poor In-Flight Experience and Services",
          "Edinburgh to London Flight Experience",
          "Club Europe Service and Comfort Issues",
          "Ground Staff and Check-in Issues",
          "Poor Meal Quality and Service",
          "Ticketing and Customer Service Failures",
          "Frequent Flight Delays and Chaos",
          "Legroom and Seat Comfort Issues",
          "Significant Flight Delays and Issues",
          "Boarding Delays and Customer Service",
          "Business Class Service and Seating Issues",
          "Lost Luggage and Poor Service",
          "Booking, Refunds, and Customer Service Issues",
          "Refund Challenges and Customer Frustrations",
          "Overbooking and Flight Cancellations"
         ],
         "xaxis": "x2",
         "y": [
          25,
          20,
          12,
          28,
          26,
          125,
          21,
          19,
          17,
          29,
          172,
          161,
          16,
          13,
          32,
          10,
          15,
          63,
          24,
          15,
          23,
          36,
          59,
          45,
          53,
          119,
          84,
          15
         ],
         "yaxis": "y2"
        }
       ],
       "layout": {
        "height": 600,
        "showlegend": false,
        "template": {
         "data": {
          "bar": [
           {
            "error_x": {
             "color": "#2a3f5f"
            },
            "error_y": {
             "color": "#2a3f5f"
            },
            "marker": {
             "line": {
              "color": "#E5ECF6",
              "width": 0.5
             },
             "pattern": {
              "fillmode": "overlay",
              "size": 10,
              "solidity": 0.2
             }
            },
            "type": "bar"
           }
          ],
          "barpolar": [
           {
            "marker": {
             "line": {
              "color": "#E5ECF6",
              "width": 0.5
             },
             "pattern": {
              "fillmode": "overlay",
              "size": 10,
              "solidity": 0.2
             }
            },
            "type": "barpolar"
           }
          ],
          "carpet": [
           {
            "aaxis": {
             "endlinecolor": "#2a3f5f",
             "gridcolor": "white",
             "linecolor": "white",
             "minorgridcolor": "white",
             "startlinecolor": "#2a3f5f"
            },
            "baxis": {
             "endlinecolor": "#2a3f5f",
             "gridcolor": "white",
             "linecolor": "white",
             "minorgridcolor": "white",
             "startlinecolor": "#2a3f5f"
            },
            "type": "carpet"
           }
          ],
          "choropleth": [
           {
            "colorbar": {
             "outlinewidth": 0,
             "ticks": ""
            },
            "type": "choropleth"
           }
          ],
          "contour": [
           {
            "colorbar": {
             "outlinewidth": 0,
             "ticks": ""
            },
            "colorscale": [
             [
              0,
              "#0d0887"
             ],
             [
              0.1111111111111111,
              "#46039f"
             ],
             [
              0.2222222222222222,
              "#7201a8"
             ],
             [
              0.3333333333333333,
              "#9c179e"
             ],
             [
              0.4444444444444444,
              "#bd3786"
             ],
             [
              0.5555555555555556,
              "#d8576b"
             ],
             [
              0.6666666666666666,
              "#ed7953"
             ],
             [
              0.7777777777777778,
              "#fb9f3a"
             ],
             [
              0.8888888888888888,
              "#fdca26"
             ],
             [
              1,
              "#f0f921"
             ]
            ],
            "type": "contour"
           }
          ],
          "contourcarpet": [
           {
            "colorbar": {
             "outlinewidth": 0,
             "ticks": ""
            },
            "type": "contourcarpet"
           }
          ],
          "heatmap": [
           {
            "colorbar": {
             "outlinewidth": 0,
             "ticks": ""
            },
            "colorscale": [
             [
              0,
              "#0d0887"
             ],
             [
              0.1111111111111111,
              "#46039f"
             ],
             [
              0.2222222222222222,
              "#7201a8"
             ],
             [
              0.3333333333333333,
              "#9c179e"
             ],
             [
              0.4444444444444444,
              "#bd3786"
             ],
             [
              0.5555555555555556,
              "#d8576b"
             ],
             [
              0.6666666666666666,
              "#ed7953"
             ],
             [
              0.7777777777777778,
              "#fb9f3a"
             ],
             [
              0.8888888888888888,
              "#fdca26"
             ],
             [
              1,
              "#f0f921"
             ]
            ],
            "type": "heatmap"
           }
          ],
          "heatmapgl": [
           {
            "colorbar": {
             "outlinewidth": 0,
             "ticks": ""
            },
            "colorscale": [
             [
              0,
              "#0d0887"
             ],
             [
              0.1111111111111111,
              "#46039f"
             ],
             [
              0.2222222222222222,
              "#7201a8"
             ],
             [
              0.3333333333333333,
              "#9c179e"
             ],
             [
              0.4444444444444444,
              "#bd3786"
             ],
             [
              0.5555555555555556,
              "#d8576b"
             ],
             [
              0.6666666666666666,
              "#ed7953"
             ],
             [
              0.7777777777777778,
              "#fb9f3a"
             ],
             [
              0.8888888888888888,
              "#fdca26"
             ],
             [
              1,
              "#f0f921"
             ]
            ],
            "type": "heatmapgl"
           }
          ],
          "histogram": [
           {
            "marker": {
             "pattern": {
              "fillmode": "overlay",
              "size": 10,
              "solidity": 0.2
             }
            },
            "type": "histogram"
           }
          ],
          "histogram2d": [
           {
            "colorbar": {
             "outlinewidth": 0,
             "ticks": ""
            },
            "colorscale": [
             [
              0,
              "#0d0887"
             ],
             [
              0.1111111111111111,
              "#46039f"
             ],
             [
              0.2222222222222222,
              "#7201a8"
             ],
             [
              0.3333333333333333,
              "#9c179e"
             ],
             [
              0.4444444444444444,
              "#bd3786"
             ],
             [
              0.5555555555555556,
              "#d8576b"
             ],
             [
              0.6666666666666666,
              "#ed7953"
             ],
             [
              0.7777777777777778,
              "#fb9f3a"
             ],
             [
              0.8888888888888888,
              "#fdca26"
             ],
             [
              1,
              "#f0f921"
             ]
            ],
            "type": "histogram2d"
           }
          ],
          "histogram2dcontour": [
           {
            "colorbar": {
             "outlinewidth": 0,
             "ticks": ""
            },
            "colorscale": [
             [
              0,
              "#0d0887"
             ],
             [
              0.1111111111111111,
              "#46039f"
             ],
             [
              0.2222222222222222,
              "#7201a8"
             ],
             [
              0.3333333333333333,
              "#9c179e"
             ],
             [
              0.4444444444444444,
              "#bd3786"
             ],
             [
              0.5555555555555556,
              "#d8576b"
             ],
             [
              0.6666666666666666,
              "#ed7953"
             ],
             [
              0.7777777777777778,
              "#fb9f3a"
             ],
             [
              0.8888888888888888,
              "#fdca26"
             ],
             [
              1,
              "#f0f921"
             ]
            ],
            "type": "histogram2dcontour"
           }
          ],
          "mesh3d": [
           {
            "colorbar": {
             "outlinewidth": 0,
             "ticks": ""
            },
            "type": "mesh3d"
           }
          ],
          "parcoords": [
           {
            "line": {
             "colorbar": {
              "outlinewidth": 0,
              "ticks": ""
             }
            },
            "type": "parcoords"
           }
          ],
          "pie": [
           {
            "automargin": true,
            "type": "pie"
           }
          ],
          "scatter": [
           {
            "fillpattern": {
             "fillmode": "overlay",
             "size": 10,
             "solidity": 0.2
            },
            "type": "scatter"
           }
          ],
          "scatter3d": [
           {
            "line": {
             "colorbar": {
              "outlinewidth": 0,
              "ticks": ""
             }
            },
            "marker": {
             "colorbar": {
              "outlinewidth": 0,
              "ticks": ""
             }
            },
            "type": "scatter3d"
           }
          ],
          "scattercarpet": [
           {
            "marker": {
             "colorbar": {
              "outlinewidth": 0,
              "ticks": ""
             }
            },
            "type": "scattercarpet"
           }
          ],
          "scattergeo": [
           {
            "marker": {
             "colorbar": {
              "outlinewidth": 0,
              "ticks": ""
             }
            },
            "type": "scattergeo"
           }
          ],
          "scattergl": [
           {
            "marker": {
             "colorbar": {
              "outlinewidth": 0,
              "ticks": ""
             }
            },
            "type": "scattergl"
           }
          ],
          "scattermapbox": [
           {
            "marker": {
             "colorbar": {
              "outlinewidth": 0,
              "ticks": ""
             }
            },
            "type": "scattermapbox"
           }
          ],
          "scatterpolar": [
           {
            "marker": {
             "colorbar": {
              "outlinewidth": 0,
              "ticks": ""
             }
            },
            "type": "scatterpolar"
           }
          ],
          "scatterpolargl": [
           {
            "marker": {
             "colorbar": {
              "outlinewidth": 0,
              "ticks": ""
             }
            },
            "type": "scatterpolargl"
           }
          ],
          "scatterternary": [
           {
            "marker": {
             "colorbar": {
              "outlinewidth": 0,
              "ticks": ""
             }
            },
            "type": "scatterternary"
           }
          ],
          "surface": [
           {
            "colorbar": {
             "outlinewidth": 0,
             "ticks": ""
            },
            "colorscale": [
             [
              0,
              "#0d0887"
             ],
             [
              0.1111111111111111,
              "#46039f"
             ],
             [
              0.2222222222222222,
              "#7201a8"
             ],
             [
              0.3333333333333333,
              "#9c179e"
             ],
             [
              0.4444444444444444,
              "#bd3786"
             ],
             [
              0.5555555555555556,
              "#d8576b"
             ],
             [
              0.6666666666666666,
              "#ed7953"
             ],
             [
              0.7777777777777778,
              "#fb9f3a"
             ],
             [
              0.8888888888888888,
              "#fdca26"
             ],
             [
              1,
              "#f0f921"
             ]
            ],
            "type": "surface"
           }
          ],
          "table": [
           {
            "cells": {
             "fill": {
              "color": "#EBF0F8"
             },
             "line": {
              "color": "white"
             }
            },
            "header": {
             "fill": {
              "color": "#C8D4E3"
             },
             "line": {
              "color": "white"
             }
            },
            "type": "table"
           }
          ]
         },
         "layout": {
          "annotationdefaults": {
           "arrowcolor": "#2a3f5f",
           "arrowhead": 0,
           "arrowwidth": 1
          },
          "autotypenumbers": "strict",
          "coloraxis": {
           "colorbar": {
            "outlinewidth": 0,
            "ticks": ""
           }
          },
          "colorscale": {
           "diverging": [
            [
             0,
             "#8e0152"
            ],
            [
             0.1,
             "#c51b7d"
            ],
            [
             0.2,
             "#de77ae"
            ],
            [
             0.3,
             "#f1b6da"
            ],
            [
             0.4,
             "#fde0ef"
            ],
            [
             0.5,
             "#f7f7f7"
            ],
            [
             0.6,
             "#e6f5d0"
            ],
            [
             0.7,
             "#b8e186"
            ],
            [
             0.8,
             "#7fbc41"
            ],
            [
             0.9,
             "#4d9221"
            ],
            [
             1,
             "#276419"
            ]
           ],
           "sequential": [
            [
             0,
             "#0d0887"
            ],
            [
             0.1111111111111111,
             "#46039f"
            ],
            [
             0.2222222222222222,
             "#7201a8"
            ],
            [
             0.3333333333333333,
             "#9c179e"
            ],
            [
             0.4444444444444444,
             "#bd3786"
            ],
            [
             0.5555555555555556,
             "#d8576b"
            ],
            [
             0.6666666666666666,
             "#ed7953"
            ],
            [
             0.7777777777777778,
             "#fb9f3a"
            ],
            [
             0.8888888888888888,
             "#fdca26"
            ],
            [
             1,
             "#f0f921"
            ]
           ],
           "sequentialminus": [
            [
             0,
             "#0d0887"
            ],
            [
             0.1111111111111111,
             "#46039f"
            ],
            [
             0.2222222222222222,
             "#7201a8"
            ],
            [
             0.3333333333333333,
             "#9c179e"
            ],
            [
             0.4444444444444444,
             "#bd3786"
            ],
            [
             0.5555555555555556,
             "#d8576b"
            ],
            [
             0.6666666666666666,
             "#ed7953"
            ],
            [
             0.7777777777777778,
             "#fb9f3a"
            ],
            [
             0.8888888888888888,
             "#fdca26"
            ],
            [
             1,
             "#f0f921"
            ]
           ]
          },
          "colorway": [
           "#636efa",
           "#EF553B",
           "#00cc96",
           "#ab63fa",
           "#FFA15A",
           "#19d3f3",
           "#FF6692",
           "#B6E880",
           "#FF97FF",
           "#FECB52"
          ],
          "font": {
           "color": "#2a3f5f"
          },
          "geo": {
           "bgcolor": "white",
           "lakecolor": "white",
           "landcolor": "#E5ECF6",
           "showlakes": true,
           "showland": true,
           "subunitcolor": "white"
          },
          "hoverlabel": {
           "align": "left"
          },
          "hovermode": "closest",
          "mapbox": {
           "style": "light"
          },
          "paper_bgcolor": "white",
          "plot_bgcolor": "#E5ECF6",
          "polar": {
           "angularaxis": {
            "gridcolor": "white",
            "linecolor": "white",
            "ticks": ""
           },
           "bgcolor": "#E5ECF6",
           "radialaxis": {
            "gridcolor": "white",
            "linecolor": "white",
            "ticks": ""
           }
          },
          "scene": {
           "xaxis": {
            "backgroundcolor": "#E5ECF6",
            "gridcolor": "white",
            "gridwidth": 2,
            "linecolor": "white",
            "showbackground": true,
            "ticks": "",
            "zerolinecolor": "white"
           },
           "yaxis": {
            "backgroundcolor": "#E5ECF6",
            "gridcolor": "white",
            "gridwidth": 2,
            "linecolor": "white",
            "showbackground": true,
            "ticks": "",
            "zerolinecolor": "white"
           },
           "zaxis": {
            "backgroundcolor": "#E5ECF6",
            "gridcolor": "white",
            "gridwidth": 2,
            "linecolor": "white",
            "showbackground": true,
            "ticks": "",
            "zerolinecolor": "white"
           }
          },
          "shapedefaults": {
           "line": {
            "color": "#2a3f5f"
           }
          },
          "ternary": {
           "aaxis": {
            "gridcolor": "white",
            "linecolor": "white",
            "ticks": ""
           },
           "baxis": {
            "gridcolor": "white",
            "linecolor": "white",
            "ticks": ""
           },
           "bgcolor": "#E5ECF6",
           "caxis": {
            "gridcolor": "white",
            "linecolor": "white",
            "ticks": ""
           }
          },
          "title": {
           "x": 0.05
          },
          "xaxis": {
           "automargin": true,
           "gridcolor": "white",
           "linecolor": "white",
           "ticks": "",
           "title": {
            "standoff": 15
           },
           "zerolinecolor": "white",
           "zerolinewidth": 2
          },
          "yaxis": {
           "automargin": true,
           "gridcolor": "white",
           "linecolor": "white",
           "ticks": "",
           "title": {
            "standoff": 15
           },
           "zerolinecolor": "white",
           "zerolinewidth": 2
          }
         }
        },
        "title": {
         "text": "Rating and Count by Topic"
        },
        "width": 1000,
        "xaxis": {
         "anchor": "y",
         "domain": [
          0,
          1
         ],
         "matches": "x2",
         "showticklabels": false,
         "tickangle": -45
        },
        "xaxis2": {
         "anchor": "y2",
         "domain": [
          0,
          1
         ],
         "tickangle": -45
        },
        "yaxis": {
         "anchor": "x",
         "domain": [
          0.51,
          1
         ],
         "title": {
          "standoff": 15,
          "text": "Avg. Rating"
         }
        },
        "yaxis2": {
         "anchor": "x2",
         "domain": [
          0,
          0.49
         ],
         "title": {
          "standoff": 5,
          "text": "Review Count"
         }
        }
       }
      }
     },
     "metadata": {},
     "output_type": "display_data"
    }
   ],
   "source": [
    "df_topics = df[df[\"topic\"] > -1]\n",
    "\n",
    "avg_rating_by_topic = df_topics.groupby(\"topic_label\")[\"rating\"].mean().reset_index()\n",
    "avg_rating_by_topic_sorted = avg_rating_by_topic.sort_values(by=\"rating\", ascending=False)\n",
    "topic_label_counts = df_topics[\"topic_label\"].value_counts().reset_index()\n",
    "topic_label_counts.columns = [\"topic_label\", \"count\"]\n",
    "\n",
    "merged_data = avg_rating_by_topic_sorted.merge(topic_label_counts, on=\"topic_label\")\n",
    "\n",
    "\n",
    "fig = make_subplots(rows=2, cols=1, shared_xaxes=True, vertical_spacing=0.02)\n",
    "\n",
    "fig.add_trace(\n",
    "    go.Bar(\n",
    "        y=merged_data[\"rating\"],\n",
    "        x=merged_data[\"topic_label\"],\n",
    "        name=\"Average Rating\",\n",
    "    ),\n",
    "    row=1,\n",
    "    col=1,\n",
    ")\n",
    "\n",
    "fig.add_trace(go.Bar(y=merged_data[\"count\"], x=merged_data[\"topic_label\"], name=\"Count\"), row=2, col=1)\n",
    "\n",
    "\n",
    "fig.update_layout(\n",
    "    xaxis_tickangle=-45, height=600, width=1000, title_text=\"Rating and Count by Topic\", showlegend=False\n",
    ")\n",
    "fig.update_yaxes(title_text=\"Avg. Rating\", row=1, col=1, title_standoff=15)\n",
    "fig.update_yaxes(title_text=\"Review Count\", row=2, col=1, title_standoff=5)\n",
    "fig.update_xaxes(tickangle=-45)\n",
    "fig.show()"
   ]
  },
  {
   "cell_type": "markdown",
   "metadata": {},
   "source": [
    "### tl;dr All topic info\n"
   ]
  },
  {
   "cell_type": "code",
   "execution_count": 13,
   "metadata": {},
   "outputs": [
    {
     "data": {
      "text/html": [
       "<div>\n",
       "<style scoped>\n",
       "    .dataframe tbody tr th:only-of-type {\n",
       "        vertical-align: middle;\n",
       "    }\n",
       "\n",
       "    .dataframe tbody tr th {\n",
       "        vertical-align: top;\n",
       "    }\n",
       "\n",
       "    .dataframe thead th {\n",
       "        text-align: right;\n",
       "    }\n",
       "</style>\n",
       "<table border=\"1\" class=\"dataframe\">\n",
       "  <thead>\n",
       "    <tr style=\"text-align: right;\">\n",
       "      <th></th>\n",
       "      <th>Topic</th>\n",
       "      <th>Count</th>\n",
       "      <th>Name</th>\n",
       "      <th>CustomName</th>\n",
       "      <th>Representation</th>\n",
       "      <th>openai</th>\n",
       "      <th>Representative_Docs</th>\n",
       "    </tr>\n",
       "  </thead>\n",
       "  <tbody>\n",
       "    <tr>\n",
       "      <th>0</th>\n",
       "      <td>-1</td>\n",
       "      <td>1027</td>\n",
       "      <td>-1_london_heathrow_staff_seat</td>\n",
       "      <td>Flight Delays and Cancelled Connections</td>\n",
       "      <td>[london, heathrow, staff, seat, service, crew,...</td>\n",
       "      <td>[Flight Delays and Cancelled Connections]</td>\n",
       "      <td>[vancouver to barcelona via heathrow with brit...</td>\n",
       "    </tr>\n",
       "    <tr>\n",
       "      <th>1</th>\n",
       "      <td>0</td>\n",
       "      <td>172</td>\n",
       "      <td>0_first_first class_cabin_crew</td>\n",
       "      <td>Cabin Cleanliness and Service Standards</td>\n",
       "      <td>[first, first class, cabin, crew, food, class,...</td>\n",
       "      <td>[Cabin Cleanliness and Service Standards]</td>\n",
       "      <td>[bangkok to london heathrow. boarding was the ...</td>\n",
       "    </tr>\n",
       "    <tr>\n",
       "      <th>2</th>\n",
       "      <td>1</td>\n",
       "      <td>161</td>\n",
       "      <td>1_gatwick_lounge_london gatwick_gatwick surrey</td>\n",
       "      <td>Gatwick Lounge and Boarding Issues</td>\n",
       "      <td>[gatwick, lounge, london gatwick, gatwick surr...</td>\n",
       "      <td>[Gatwick Lounge and Boarding Issues]</td>\n",
       "      <td>[gatwick to orlando return. worst ever long-ha...</td>\n",
       "    </tr>\n",
       "    <tr>\n",
       "      <th>3</th>\n",
       "      <td>2</td>\n",
       "      <td>125</td>\n",
       "      <td>2_good_entertainment_great_bangkok</td>\n",
       "      <td>Poor Service and Outdated Aircraft</td>\n",
       "      <td>[good, entertainment, great, bangkok, london, ...</td>\n",
       "      <td>[Poor Service and Outdated Aircraft]</td>\n",
       "      <td>[los angeles to london heathrow. the inflight ...</td>\n",
       "    </tr>\n",
       "    <tr>\n",
       "      <th>4</th>\n",
       "      <td>3</td>\n",
       "      <td>119</td>\n",
       "      <td>3_paid_customer_seats_told</td>\n",
       "      <td>Booking, Refunds, and Customer Service Issues</td>\n",
       "      <td>[paid, customer, seats, told, seat, booked, re...</td>\n",
       "      <td>[Booking, Refunds, and Customer Service Issues]</td>\n",
       "      <td>[i booked and bought an online ticket for a mu...</td>\n",
       "    </tr>\n",
       "    <tr>\n",
       "      <th>5</th>\n",
       "      <td>4</td>\n",
       "      <td>84</td>\n",
       "      <td>4_refund_cancelled_voucher_cancel</td>\n",
       "      <td>Refund Challenges and Customer Frustrations</td>\n",
       "      <td>[refund, cancelled, voucher, cancel, phone, ca...</td>\n",
       "      <td>[Refund Challenges and Customer Frustrations]</td>\n",
       "      <td>[ba cancelled my flight, i never got on it, co...</td>\n",
       "    </tr>\n",
       "    <tr>\n",
       "      <th>6</th>\n",
       "      <td>5</td>\n",
       "      <td>63</td>\n",
       "      <td>5_chicken_served_meal_curry</td>\n",
       "      <td>Poor Meal Quality and Service</td>\n",
       "      <td>[chicken, served, meal, curry, food, breakfast...</td>\n",
       "      <td>[Poor Meal Quality and Service]</td>\n",
       "      <td>[london heathrow to phoenix. i have been flyin...</td>\n",
       "    </tr>\n",
       "    <tr>\n",
       "      <th>7</th>\n",
       "      <td>6</td>\n",
       "      <td>59</td>\n",
       "      <td>6_hand_bags_bag_luggage</td>\n",
       "      <td>Boarding Delays and Customer Service</td>\n",
       "      <td>[hand, bags, bag, luggage, help, hand luggage,...</td>\n",
       "      <td>[Boarding Delays and Customer Service]</td>\n",
       "      <td>[i was supposed to fly with aeroflot on the 23...</td>\n",
       "    </tr>\n",
       "    <tr>\n",
       "      <th>8</th>\n",
       "      <td>7</td>\n",
       "      <td>53</td>\n",
       "      <td>7_luggage_suitcase_bag_dublin</td>\n",
       "      <td>Lost Luggage and Poor Service</td>\n",
       "      <td>[luggage, suitcase, bag, dublin, bags, claim, ...</td>\n",
       "      <td>[Lost Luggage and Poor Service]</td>\n",
       "      <td>[london to dublin. it was never my choice to f...</td>\n",
       "    </tr>\n",
       "    <tr>\n",
       "      <th>9</th>\n",
       "      <td>8</td>\n",
       "      <td>45</td>\n",
       "      <td>8_business class_class_business_seats</td>\n",
       "      <td>Business Class Service and Seating Issues</td>\n",
       "      <td>[business class, class, business, seats, econo...</td>\n",
       "      <td>[Business Class Service and Seating Issues]</td>\n",
       "      <td>[absolutely pathetic business class product. b...</td>\n",
       "    </tr>\n",
       "    <tr>\n",
       "      <th>10</th>\n",
       "      <td>9</td>\n",
       "      <td>36</td>\n",
       "      <td>9_prague_delayed_pm_athens</td>\n",
       "      <td>Significant Flight Delays and Issues</td>\n",
       "      <td>[prague, delayed, pm, athens, prague london, v...</td>\n",
       "      <td>[Significant Flight Delays and Issues]</td>\n",
       "      <td>[i was in prague flying british airways back t...</td>\n",
       "    </tr>\n",
       "    <tr>\n",
       "      <th>11</th>\n",
       "      <td>10</td>\n",
       "      <td>32</td>\n",
       "      <td>10_edinburgh_easyjet_ryanair_buy</td>\n",
       "      <td>Edinburgh to London Flight Experience</td>\n",
       "      <td>[edinburgh, easyjet, ryanair, buy, heathrow ed...</td>\n",
       "      <td>[Edinburgh to London Flight Experience]</td>\n",
       "      <td>[at check-in desk at t5 heathrow was told by b...</td>\n",
       "    </tr>\n",
       "    <tr>\n",
       "      <th>12</th>\n",
       "      <td>11</td>\n",
       "      <td>29</td>\n",
       "      <td>11_singapore_sydney_qantas_singapore london</td>\n",
       "      <td>Meal Service and Inflight Entertainment Issues</td>\n",
       "      <td>[singapore, sydney, qantas, singapore london, ...</td>\n",
       "      <td>[Meal Service and Inflight Entertainment Issues]</td>\n",
       "      <td>[boarding was slow and uncomfortable on accoun...</td>\n",
       "    </tr>\n",
       "    <tr>\n",
       "      <th>13</th>\n",
       "      <td>12</td>\n",
       "      <td>28</td>\n",
       "      <td>12_tokyo_787_boeing 787_jose</td>\n",
       "      <td>Boeing 787 Comfort and Service</td>\n",
       "      <td>[tokyo, 787, boeing 787, jose, san jose, san, ...</td>\n",
       "      <td>[Boeing 787 Comfort and Service]</td>\n",
       "      <td>[we had a really good flying experience with b...</td>\n",
       "    </tr>\n",
       "    <tr>\n",
       "      <th>14</th>\n",
       "      <td>13</td>\n",
       "      <td>26</td>\n",
       "      <td>13_cape town_cape_town_johannesburg</td>\n",
       "      <td>Lounge Quality and Catering Discrepancies</td>\n",
       "      <td>[cape town, cape, town, johannesburg, comair, ...</td>\n",
       "      <td>[Lounge Quality and Catering Discrepancies]</td>\n",
       "      <td>[return trip cape town to durban in club class...</td>\n",
       "    </tr>\n",
       "    <tr>\n",
       "      <th>15</th>\n",
       "      <td>14</td>\n",
       "      <td>25</td>\n",
       "      <td>14_thank_like thank_took great_flowers</td>\n",
       "      <td>Exceptional Cabin Crew Support</td>\n",
       "      <td>[thank, like thank, took great, flowers, amazi...</td>\n",
       "      <td>[Exceptional Cabin Crew Support]</td>\n",
       "      <td>[british airways personnel was just magnificen...</td>\n",
       "    </tr>\n",
       "    <tr>\n",
       "      <th>16</th>\n",
       "      <td>15</td>\n",
       "      <td>24</td>\n",
       "      <td>15_us_marriage_marriage certificate_help</td>\n",
       "      <td>Ticketing and Customer Service Failures</td>\n",
       "      <td>[us, marriage, marriage certificate, help, cer...</td>\n",
       "      <td>[Ticketing and Customer Service Failures]</td>\n",
       "      <td>[calgary to rome via london. my wife and i boo...</td>\n",
       "    </tr>\n",
       "    <tr>\n",
       "      <th>17</th>\n",
       "      <td>16</td>\n",
       "      <td>23</td>\n",
       "      <td>16_vegas_austin_las_las vegas</td>\n",
       "      <td>Legroom and Seat Comfort Issues</td>\n",
       "      <td>[vegas, austin, las, las vegas, metal, london ...</td>\n",
       "      <td>[Legroom and Seat Comfort Issues]</td>\n",
       "      <td>[london heathrow to rio de janeiro. 45 minute ...</td>\n",
       "    </tr>\n",
       "    <tr>\n",
       "      <th>18</th>\n",
       "      <td>17</td>\n",
       "      <td>21</td>\n",
       "      <td>17_a380_747_ife_cabin</td>\n",
       "      <td>A380 Cabin Experience and Issues</td>\n",
       "      <td>[a380, 747, ife, cabin, upstairs, 400, 747 400...</td>\n",
       "      <td>[A380 Cabin Experience and Issues]</td>\n",
       "      <td>[recently flew a return trip with ba to miami ...</td>\n",
       "    </tr>\n",
       "    <tr>\n",
       "      <th>19</th>\n",
       "      <td>18</td>\n",
       "      <td>20</td>\n",
       "      <td>18_drinks fine_easy_earphone_complimentary snack</td>\n",
       "      <td>Comfort and Cabin Crew Evaluation</td>\n",
       "      <td>[drinks fine, easy, earphone, complimentary sn...</td>\n",
       "      <td>[Comfort and Cabin Crew Evaluation]</td>\n",
       "      <td>[the first class cabins are in need of refurbi...</td>\n",
       "    </tr>\n",
       "    <tr>\n",
       "      <th>20</th>\n",
       "      <td>19</td>\n",
       "      <td>19</td>\n",
       "      <td>19_lisbon_amsterdam_terminal_copenhagen</td>\n",
       "      <td>Efficient Check-in and Boarding Chaos</td>\n",
       "      <td>[lisbon, amsterdam, terminal, copenhagen, muni...</td>\n",
       "      <td>[Efficient Check-in and Boarding Chaos]</td>\n",
       "      <td>[flew british airways on ba 434 london heathro...</td>\n",
       "    </tr>\n",
       "    <tr>\n",
       "      <th>21</th>\n",
       "      <td>20</td>\n",
       "      <td>17</td>\n",
       "      <td>20_premium economy_premium_economy_economy pro...</td>\n",
       "      <td>Premium Economy Experience Evaluation</td>\n",
       "      <td>[premium economy, premium, economy, economy pr...</td>\n",
       "      <td>[Premium Economy Experience Evaluation]</td>\n",
       "      <td>[flew new york new york to copenhagen via heat...</td>\n",
       "    </tr>\n",
       "    <tr>\n",
       "      <th>22</th>\n",
       "      <td>21</td>\n",
       "      <td>16</td>\n",
       "      <td>21_belfast_heathrow belfast_fast efficient_har...</td>\n",
       "      <td>Delays and Inflight Service Issues</td>\n",
       "      <td>[belfast, heathrow belfast, fast efficient, ha...</td>\n",
       "      <td>[Delays and Inflight Service Issues]</td>\n",
       "      <td>[belfast to san francisco via london. check-in...</td>\n",
       "    </tr>\n",
       "    <tr>\n",
       "      <th>23</th>\n",
       "      <td>22</td>\n",
       "      <td>15</td>\n",
       "      <td>22_connecting_francisco_san francisco_missed</td>\n",
       "      <td>Frequent Flight Delays and Chaos</td>\n",
       "      <td>[connecting, francisco, san francisco, missed,...</td>\n",
       "      <td>[Frequent Flight Delays and Chaos]</td>\n",
       "      <td>[complete and utter chaos at heathrow, yet aga...</td>\n",
       "    </tr>\n",
       "    <tr>\n",
       "      <th>24</th>\n",
       "      <td>23</td>\n",
       "      <td>15</td>\n",
       "      <td>23_weather_cancelled_oman_thai air</td>\n",
       "      <td>Overbooking and Flight Cancellations</td>\n",
       "      <td>[weather, cancelled, oman, thai air, superviso...</td>\n",
       "      <td>[Overbooking and Flight Cancellations]</td>\n",
       "      <td>[lost my case and took 6 weeks to locate it an...</td>\n",
       "    </tr>\n",
       "    <tr>\n",
       "      <th>25</th>\n",
       "      <td>24</td>\n",
       "      <td>15</td>\n",
       "      <td>24_zurich_london zurich_zurich london_dusseldorf</td>\n",
       "      <td>Ground Staff and Check-in Issues</td>\n",
       "      <td>[zurich, london zurich, zurich london, dusseld...</td>\n",
       "      <td>[Ground Staff and Check-in Issues]</td>\n",
       "      <td>[new york new york to düsseldorf via london he...</td>\n",
       "    </tr>\n",
       "    <tr>\n",
       "      <th>26</th>\n",
       "      <td>25</td>\n",
       "      <td>13</td>\n",
       "      <td>25_athens_athens london_london athens_aegean</td>\n",
       "      <td>Poor In-Flight Experience and Services</td>\n",
       "      <td>[athens, athens london, london athens, aegean,...</td>\n",
       "      <td>[Poor In-Flight Experience and Services]</td>\n",
       "      <td>[london to athens. we were fortunate to get ex...</td>\n",
       "    </tr>\n",
       "    <tr>\n",
       "      <th>27</th>\n",
       "      <td>26</td>\n",
       "      <td>12</td>\n",
       "      <td>26_a380_best seat_francisco london_confort</td>\n",
       "      <td>A380 Comfort and Service Feedback</td>\n",
       "      <td>[a380, best seat, francisco london, confort, s...</td>\n",
       "      <td>[A380 Comfort and Service Feedback]</td>\n",
       "      <td>[just returned from chicago, flew out 10 days ...</td>\n",
       "    </tr>\n",
       "    <tr>\n",
       "      <th>28</th>\n",
       "      <td>27</td>\n",
       "      <td>10</td>\n",
       "      <td>27_club europe_sausage_europe_badly organised</td>\n",
       "      <td>Club Europe Service and Comfort Issues</td>\n",
       "      <td>[club europe, sausage, europe, badly organised...</td>\n",
       "      <td>[Club Europe Service and Comfort Issues]</td>\n",
       "      <td>[for the price paid (bought during a sale) it ...</td>\n",
       "    </tr>\n",
       "  </tbody>\n",
       "</table>\n",
       "</div>"
      ],
      "text/plain": [
       "    Topic  Count                                               Name  \\\n",
       "0      -1   1027                      -1_london_heathrow_staff_seat   \n",
       "1       0    172                     0_first_first class_cabin_crew   \n",
       "2       1    161     1_gatwick_lounge_london gatwick_gatwick surrey   \n",
       "3       2    125                 2_good_entertainment_great_bangkok   \n",
       "4       3    119                         3_paid_customer_seats_told   \n",
       "5       4     84                  4_refund_cancelled_voucher_cancel   \n",
       "6       5     63                        5_chicken_served_meal_curry   \n",
       "7       6     59                            6_hand_bags_bag_luggage   \n",
       "8       7     53                      7_luggage_suitcase_bag_dublin   \n",
       "9       8     45              8_business class_class_business_seats   \n",
       "10      9     36                         9_prague_delayed_pm_athens   \n",
       "11     10     32                   10_edinburgh_easyjet_ryanair_buy   \n",
       "12     11     29        11_singapore_sydney_qantas_singapore london   \n",
       "13     12     28                       12_tokyo_787_boeing 787_jose   \n",
       "14     13     26                13_cape town_cape_town_johannesburg   \n",
       "15     14     25             14_thank_like thank_took great_flowers   \n",
       "16     15     24           15_us_marriage_marriage certificate_help   \n",
       "17     16     23                      16_vegas_austin_las_las vegas   \n",
       "18     17     21                              17_a380_747_ife_cabin   \n",
       "19     18     20   18_drinks fine_easy_earphone_complimentary snack   \n",
       "20     19     19            19_lisbon_amsterdam_terminal_copenhagen   \n",
       "21     20     17  20_premium economy_premium_economy_economy pro...   \n",
       "22     21     16  21_belfast_heathrow belfast_fast efficient_har...   \n",
       "23     22     15       22_connecting_francisco_san francisco_missed   \n",
       "24     23     15                 23_weather_cancelled_oman_thai air   \n",
       "25     24     15   24_zurich_london zurich_zurich london_dusseldorf   \n",
       "26     25     13       25_athens_athens london_london athens_aegean   \n",
       "27     26     12         26_a380_best seat_francisco london_confort   \n",
       "28     27     10      27_club europe_sausage_europe_badly organised   \n",
       "\n",
       "                                        CustomName  \\\n",
       "0          Flight Delays and Cancelled Connections   \n",
       "1          Cabin Cleanliness and Service Standards   \n",
       "2               Gatwick Lounge and Boarding Issues   \n",
       "3               Poor Service and Outdated Aircraft   \n",
       "4    Booking, Refunds, and Customer Service Issues   \n",
       "5      Refund Challenges and Customer Frustrations   \n",
       "6                    Poor Meal Quality and Service   \n",
       "7             Boarding Delays and Customer Service   \n",
       "8                    Lost Luggage and Poor Service   \n",
       "9        Business Class Service and Seating Issues   \n",
       "10            Significant Flight Delays and Issues   \n",
       "11           Edinburgh to London Flight Experience   \n",
       "12  Meal Service and Inflight Entertainment Issues   \n",
       "13                  Boeing 787 Comfort and Service   \n",
       "14       Lounge Quality and Catering Discrepancies   \n",
       "15                  Exceptional Cabin Crew Support   \n",
       "16         Ticketing and Customer Service Failures   \n",
       "17                 Legroom and Seat Comfort Issues   \n",
       "18                A380 Cabin Experience and Issues   \n",
       "19               Comfort and Cabin Crew Evaluation   \n",
       "20           Efficient Check-in and Boarding Chaos   \n",
       "21           Premium Economy Experience Evaluation   \n",
       "22              Delays and Inflight Service Issues   \n",
       "23                Frequent Flight Delays and Chaos   \n",
       "24            Overbooking and Flight Cancellations   \n",
       "25                Ground Staff and Check-in Issues   \n",
       "26          Poor In-Flight Experience and Services   \n",
       "27               A380 Comfort and Service Feedback   \n",
       "28          Club Europe Service and Comfort Issues   \n",
       "\n",
       "                                       Representation  \\\n",
       "0   [london, heathrow, staff, seat, service, crew,...   \n",
       "1   [first, first class, cabin, crew, food, class,...   \n",
       "2   [gatwick, lounge, london gatwick, gatwick surr...   \n",
       "3   [good, entertainment, great, bangkok, london, ...   \n",
       "4   [paid, customer, seats, told, seat, booked, re...   \n",
       "5   [refund, cancelled, voucher, cancel, phone, ca...   \n",
       "6   [chicken, served, meal, curry, food, breakfast...   \n",
       "7   [hand, bags, bag, luggage, help, hand luggage,...   \n",
       "8   [luggage, suitcase, bag, dublin, bags, claim, ...   \n",
       "9   [business class, class, business, seats, econo...   \n",
       "10  [prague, delayed, pm, athens, prague london, v...   \n",
       "11  [edinburgh, easyjet, ryanair, buy, heathrow ed...   \n",
       "12  [singapore, sydney, qantas, singapore london, ...   \n",
       "13  [tokyo, 787, boeing 787, jose, san jose, san, ...   \n",
       "14  [cape town, cape, town, johannesburg, comair, ...   \n",
       "15  [thank, like thank, took great, flowers, amazi...   \n",
       "16  [us, marriage, marriage certificate, help, cer...   \n",
       "17  [vegas, austin, las, las vegas, metal, london ...   \n",
       "18  [a380, 747, ife, cabin, upstairs, 400, 747 400...   \n",
       "19  [drinks fine, easy, earphone, complimentary sn...   \n",
       "20  [lisbon, amsterdam, terminal, copenhagen, muni...   \n",
       "21  [premium economy, premium, economy, economy pr...   \n",
       "22  [belfast, heathrow belfast, fast efficient, ha...   \n",
       "23  [connecting, francisco, san francisco, missed,...   \n",
       "24  [weather, cancelled, oman, thai air, superviso...   \n",
       "25  [zurich, london zurich, zurich london, dusseld...   \n",
       "26  [athens, athens london, london athens, aegean,...   \n",
       "27  [a380, best seat, francisco london, confort, s...   \n",
       "28  [club europe, sausage, europe, badly organised...   \n",
       "\n",
       "                                              openai  \\\n",
       "0          [Flight Delays and Cancelled Connections]   \n",
       "1          [Cabin Cleanliness and Service Standards]   \n",
       "2               [Gatwick Lounge and Boarding Issues]   \n",
       "3               [Poor Service and Outdated Aircraft]   \n",
       "4    [Booking, Refunds, and Customer Service Issues]   \n",
       "5      [Refund Challenges and Customer Frustrations]   \n",
       "6                    [Poor Meal Quality and Service]   \n",
       "7             [Boarding Delays and Customer Service]   \n",
       "8                    [Lost Luggage and Poor Service]   \n",
       "9        [Business Class Service and Seating Issues]   \n",
       "10            [Significant Flight Delays and Issues]   \n",
       "11           [Edinburgh to London Flight Experience]   \n",
       "12  [Meal Service and Inflight Entertainment Issues]   \n",
       "13                  [Boeing 787 Comfort and Service]   \n",
       "14       [Lounge Quality and Catering Discrepancies]   \n",
       "15                  [Exceptional Cabin Crew Support]   \n",
       "16         [Ticketing and Customer Service Failures]   \n",
       "17                 [Legroom and Seat Comfort Issues]   \n",
       "18                [A380 Cabin Experience and Issues]   \n",
       "19               [Comfort and Cabin Crew Evaluation]   \n",
       "20           [Efficient Check-in and Boarding Chaos]   \n",
       "21           [Premium Economy Experience Evaluation]   \n",
       "22              [Delays and Inflight Service Issues]   \n",
       "23                [Frequent Flight Delays and Chaos]   \n",
       "24            [Overbooking and Flight Cancellations]   \n",
       "25                [Ground Staff and Check-in Issues]   \n",
       "26          [Poor In-Flight Experience and Services]   \n",
       "27               [A380 Comfort and Service Feedback]   \n",
       "28          [Club Europe Service and Comfort Issues]   \n",
       "\n",
       "                                  Representative_Docs  \n",
       "0   [vancouver to barcelona via heathrow with brit...  \n",
       "1   [bangkok to london heathrow. boarding was the ...  \n",
       "2   [gatwick to orlando return. worst ever long-ha...  \n",
       "3   [los angeles to london heathrow. the inflight ...  \n",
       "4   [i booked and bought an online ticket for a mu...  \n",
       "5   [ba cancelled my flight, i never got on it, co...  \n",
       "6   [london heathrow to phoenix. i have been flyin...  \n",
       "7   [i was supposed to fly with aeroflot on the 23...  \n",
       "8   [london to dublin. it was never my choice to f...  \n",
       "9   [absolutely pathetic business class product. b...  \n",
       "10  [i was in prague flying british airways back t...  \n",
       "11  [at check-in desk at t5 heathrow was told by b...  \n",
       "12  [boarding was slow and uncomfortable on accoun...  \n",
       "13  [we had a really good flying experience with b...  \n",
       "14  [return trip cape town to durban in club class...  \n",
       "15  [british airways personnel was just magnificen...  \n",
       "16  [calgary to rome via london. my wife and i boo...  \n",
       "17  [london heathrow to rio de janeiro. 45 minute ...  \n",
       "18  [recently flew a return trip with ba to miami ...  \n",
       "19  [the first class cabins are in need of refurbi...  \n",
       "20  [flew british airways on ba 434 london heathro...  \n",
       "21  [flew new york new york to copenhagen via heat...  \n",
       "22  [belfast to san francisco via london. check-in...  \n",
       "23  [complete and utter chaos at heathrow, yet aga...  \n",
       "24  [lost my case and took 6 weeks to locate it an...  \n",
       "25  [new york new york to düsseldorf via london he...  \n",
       "26  [london to athens. we were fortunate to get ex...  \n",
       "27  [just returned from chicago, flew out 10 days ...  \n",
       "28  [for the price paid (bought during a sale) it ...  "
      ]
     },
     "execution_count": 13,
     "metadata": {},
     "output_type": "execute_result"
    }
   ],
   "source": [
    "topic_model.get_topic_info()"
   ]
  },
  {
   "cell_type": "code",
   "execution_count": 14,
   "metadata": {},
   "outputs": [],
   "source": [
    "client = openai.OpenAI(api_key=openai_api_key)\n",
    "completion = client.chat.completions.create(\n",
    "    model=\"gpt-4o-mini\",\n",
    "    messages=[\n",
    "        {\n",
    "            \"role\": \"system\",\n",
    "            \"content\": \"\"\"You are an advanced text analysis assistant. Your role is to provide concise insights from a given text. Follow these guidelines:\n",
    "\n",
    "            1. Read the provided text carefully to understand its context and main themes.\n",
    "            2. Identify and extract key points, including main ideas, arguments, and conclusions.\n",
    "            3. Analyze the text for any notable patterns, trends, or anomalies.\n",
    "            4. Provide your insights, including summaries, sentiment analysis, and any connections or implications.\n",
    "            5. Where applicable, offer recommendations or suggest actions based on your analysis.\"\"\",\n",
    "        },\n",
    "        {\n",
    "            \"role\": \"user\",\n",
    "            \"content\": \"\\n\".join(labels),\n",
    "        },\n",
    "    ],\n",
    ")"
   ]
  },
  {
   "cell_type": "code",
   "execution_count": 15,
   "metadata": {},
   "outputs": [
    {
     "data": {
      "text/markdown": [
       "### Key Points and Insights\n",
       "\n",
       "1. **Frequent Issues**: The text highlights recurring problems in air travel, such as **flight delays**, **cancellations**, **poor service**, **cleanliness**, **meal quality**, and **customer service challenges**.\n",
       "\n",
       "2. **Customer Frustration**: There are notable themes of **frustration** regarding **refund processes**, **lost luggage**, and **booking difficulties**, suggesting a trend in negative passenger experiences.\n",
       "\n",
       "3. **Diverse Experiences**: Various aspects of air travel are examined, from **specific aircraft experiences (Boeing 787, A380)** to **service class distinctions** (Premium Economy, Business Class), indicating a wide range of customer expectations and satisfactions.\n",
       "\n",
       "4. **Cabin Crew Praise**: **Exceptional support from cabin crew** is noted, contrasting sharply with the criticism of other service aspects, suggesting that personnel can significantly influence customer perceptions.\n",
       "\n",
       "5. **Check-in and Boarding Challenges**: Issues with **efficient check-in** and **boarding processes** frequently occur, indicating operational inefficiencies that can affect overall passenger satisfaction.\n",
       "\n",
       "6. **Lounge and Catering Experiences**: The quality of **lounge facilities** and **in-flight catering** appears inconsistent, leading to dissatisfaction among travelers who expect a certain standard, especially in premium classes.\n",
       "\n",
       "### Sentiment Analysis\n",
       "\n",
       "- The overall sentiment expressed in the text leans **negative**, reflecting a strong sense of dissatisfaction among passengers regarding multiple facets of their travel experience.\n",
       "- Despite some positive feedback regarding cabin crew support, the overarching issues appear to overshadow these positive highlights.\n",
       "\n",
       "### Connections and Implications\n",
       "\n",
       "- The frequent references to service failures and operational inefficiencies may imply a need for the airline industry to reevaluate its **customer service training**, **logistics management**, and **quality control measures**.\n",
       "- Discrepancies in service between different classes of travel (e.g., Premium Economy vs. Business Class) may necessitate a reassessment of service standards to ensure that all customers, irrespective of ticket class, receive an acceptable level of service.\n",
       "\n",
       "### Recommendations\n",
       "\n",
       "1. **Enhance Customer Service Training**: Focus on improving customer interaction skills for ground staff and cabin crew to alleviate service-related frustrations.\n",
       "  \n",
       "2. **Streamline Refund Processes**: Develop a more efficient system for handling refunds to minimize passenger anxiety and dissatisfaction.\n",
       "\n",
       "3. **Upgrade Aircraft and Services**: Invest in maintaining aircraft and modernizing outdated services (e.g., meal quality, inflight entertainment) to meet contemporary customer expectations.\n",
       "\n",
       "4. **Address Boarding and Check-in Efficiency**: Implement systems to enhance the efficiency of boarding procedures and check-in processes to reduce delays and improve passenger flow.\n",
       "\n",
       "5. **Regular Feedback Collection**: Institute regular surveys and feedback mechanisms to capture passenger experiences and address areas needing improvement proactively.\n",
       "\n",
       "By addressing these key issues, airlines can significantly improve overall customer satisfaction and loyalty."
      ],
      "text/plain": [
       "<IPython.core.display.Markdown object>"
      ]
     },
     "metadata": {},
     "output_type": "display_data"
    }
   ],
   "source": [
    "display(Markdown(completion.choices[0].message.content))"
   ]
  },
  {
   "cell_type": "code",
   "execution_count": 16,
   "metadata": {},
   "outputs": [],
   "source": [
    "df.merge(data, how=\"left\").to_csv(\"../data/airline_reviews_clean.csv\", index=False)"
   ]
  }
 ],
 "metadata": {
  "kernelspec": {
   "display_name": ".venv",
   "language": "python",
   "name": "python3"
  },
  "language_info": {
   "codemirror_mode": {
    "name": "ipython",
    "version": 3
   },
   "file_extension": ".py",
   "mimetype": "text/x-python",
   "name": "python",
   "nbconvert_exporter": "python",
   "pygments_lexer": "ipython3",
   "version": "3.10.14"
  }
 },
 "nbformat": 4,
 "nbformat_minor": 2
}
